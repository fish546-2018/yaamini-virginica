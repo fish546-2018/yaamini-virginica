{
 "cells": [
  {
   "cell_type": "markdown",
   "metadata": {},
   "source": [
    "# Characterizing CpG Methylation"
   ]
  },
  {
   "cell_type": "markdown",
   "metadata": {},
   "source": [
    "To describe general metylation trends, irrespective of pCO<sub>2</sub> treatment in *C. virginica* gonad sequence data, I need to characterize individual CpG loci. Gavery and Roberts (2013) and Olson and Roberts (2013) define a CpG locus as methylated if at least half of the reads remained unconverted after bisulfite treatment. I will use information in a master `.cov` file to identify methylated CpG loci.\n",
    "\n",
    "1. Download coverage file\n",
    "2. Limit to 5x coverage\n",
    "3. Identify methylated loci\n",
    "4. Characterize location of methylated loci"
   ]
  },
  {
   "cell_type": "markdown",
   "metadata": {},
   "source": [
    "## 0. Prepare for analyses"
   ]
  },
  {
   "cell_type": "markdown",
   "metadata": {},
   "source": [
    "## 0a. Set working directory"
   ]
  },
  {
   "cell_type": "code",
   "execution_count": 1,
   "metadata": {
    "collapsed": false
   },
   "outputs": [
    {
     "data": {
      "text/plain": [
       "'/Users/yaamini/Documents/yaamini-virginica/notebooks'"
      ]
     },
     "execution_count": 1,
     "metadata": {},
     "output_type": "execute_result"
    }
   ],
   "source": [
    "pwd"
   ]
  },
  {
   "cell_type": "code",
   "execution_count": 2,
   "metadata": {
    "collapsed": false
   },
   "outputs": [
    {
     "name": "stdout",
     "output_type": "stream",
     "text": [
      "/Users/yaamini/Documents/yaamini-virginica/analyses\n"
     ]
    }
   ],
   "source": [
    "cd ../analyses/"
   ]
  },
  {
   "cell_type": "code",
   "execution_count": 3,
   "metadata": {
    "collapsed": true
   },
   "outputs": [],
   "source": [
    "!mkdir 2019-03-18-Characterizing-CpG-Methylation"
   ]
  },
  {
   "cell_type": "code",
   "execution_count": 3,
   "metadata": {
    "collapsed": false
   },
   "outputs": [
    {
     "name": "stdout",
     "output_type": "stream",
     "text": [
      "/Users/yaamini/Documents/yaamini-virginica/analyses/2019-03-18-Characterizing-CpG-Methylation\n"
     ]
    }
   ],
   "source": [
    "cd 2019-03-18-Characterizing-CpG-Methylation/"
   ]
  },
  {
   "cell_type": "markdown",
   "metadata": {},
   "source": [
    "## 1. Obtain coverage files"
   ]
  },
  {
   "cell_type": "code",
   "execution_count": 4,
   "metadata": {
    "collapsed": false
   },
   "outputs": [
    {
     "name": "stdout",
     "output_type": "stream",
     "text": [
      "--2019-04-09 14:41:39--  http://gannet.fish.washington.edu/Atumefaciens/20190312_cvir_gonad_bismark/total_reads_bismark/cvir_bsseq_all_pe_R1_bismark_bt2_pe.bismark.cov.gz\n",
      "Resolving gannet.fish.washington.edu... 128.95.149.52\n",
      "Connecting to gannet.fish.washington.edu|128.95.149.52|:80... connected.\n",
      "HTTP request sent, awaiting response... 200 OK\n",
      "Length: 94181669 (90M) [application/x-gzip]\n",
      "Saving to: 'cvir_bsseq_all_pe_R1_bismark_bt2_pe.bismark.cov.gz'\n",
      "\n",
      "cvir_bsseq_all_pe_R 100%[===================>]  89.82M  75.1MB/s    in 1.2s    \n",
      "\n",
      "2019-04-09 14:41:40 (75.1 MB/s) - 'cvir_bsseq_all_pe_R1_bismark_bt2_pe.bismark.cov.gz' saved [94181669/94181669]\n",
      "\n"
     ]
    }
   ],
   "source": [
    "#Download file from gannet. This file is a concatenation of coverage and methylation information for all samples\n",
    "!wget http://gannet.fish.washington.edu/Atumefaciens/20190312_cvir_gonad_bismark/total_reads_bismark/cvir_bsseq_all_pe_R1_bismark_bt2_pe.bismark.cov.gz"
   ]
  },
  {
   "cell_type": "code",
   "execution_count": 8,
   "metadata": {
    "collapsed": true
   },
   "outputs": [],
   "source": [
    "#Unzip the coverage file\n",
    "!gunzip *cov.gz"
   ]
  },
  {
   "cell_type": "code",
   "execution_count": 9,
   "metadata": {
    "collapsed": false
   },
   "outputs": [
    {
     "name": "stdout",
     "output_type": "stream",
     "text": [
      "cvir_bsseq_all_pe_R1_bismark_bt2_pe.bismark.cov\r\n"
     ]
    }
   ],
   "source": [
    "#Confirm file was unzipped\n",
    "!ls *cov"
   ]
  },
  {
   "cell_type": "code",
   "execution_count": 10,
   "metadata": {
    "collapsed": false
   },
   "outputs": [
    {
     "name": "stdout",
     "output_type": "stream",
     "text": [
      "NC_007175.2\t49\t49\t1.25\t2\t158\r\n",
      "NC_007175.2\t50\t50\t0\t0\t15\r\n",
      "NC_007175.2\t51\t51\t1.18343195266272\t2\t167\r\n",
      "NC_007175.2\t52\t52\t0\t0\t18\r\n",
      "NC_007175.2\t88\t88\t1.02459016393443\t5\t483\r\n",
      "NC_007175.2\t89\t89\t1.38888888888889\t5\t355\r\n",
      "NC_007175.2\t100\t100\t0\t0\t1\r\n",
      "NC_007175.2\t129\t129\t0\t0\t1\r\n",
      "NC_007175.2\t147\t147\t1.99115044247788\t18\t886\r\n",
      "NC_007175.2\t148\t148\t2.29885057471264\t6\t255\r\n"
     ]
    }
   ],
   "source": [
    "#See what the file looks like. \n",
    "#Columns: <chromosome> <start position> <end position> <methylation percentage> <count methylated> <count unmethylated>\n",
    "!head cvir_bsseq_all_pe_R1_bismark_bt2_pe.bismark.cov"
   ]
  },
  {
   "cell_type": "markdown",
   "metadata": {},
   "source": [
    "## 2. Limit to 5x coverage"
   ]
  },
  {
   "cell_type": "code",
   "execution_count": 11,
   "metadata": {
    "collapsed": false
   },
   "outputs": [],
   "source": [
    "#If total coverage (count methylated + unmethylated) is greater than 5, then print the chromosome, start pos -1, stop pos, percent methylation, and total coverage\n",
    "#Save output as new file\n",
    "!awk '{if ($5+$6 >= 5) { print $1, $2-1, $3, $4, $5+$6}}' cvir_bsseq_all_pe_R1_bismark_bt2_pe.bismark.cov \\\n",
    "> 2019-04-09-All-5x-CpGs.bedgraph"
   ]
  },
  {
   "cell_type": "code",
   "execution_count": 12,
   "metadata": {
    "collapsed": false
   },
   "outputs": [
    {
     "name": "stdout",
     "output_type": "stream",
     "text": [
      "NC_007175.2 48 49 1.25 160\r\n",
      "NC_007175.2 49 50 0 15\r\n",
      "NC_007175.2 50 51 1.18343195266272 169\r\n",
      "NC_007175.2 51 52 0 18\r\n",
      "NC_007175.2 87 88 1.02459016393443 488\r\n",
      "NC_007175.2 88 89 1.38888888888889 360\r\n",
      "NC_007175.2 146 147 1.99115044247788 904\r\n",
      "NC_007175.2 147 148 2.29885057471264 261\r\n",
      "NC_007175.2 173 174 0 5\r\n",
      "NC_007175.2 192 193 1.25786163522013 795\r\n"
     ]
    }
   ],
   "source": [
    "#Check columns for one of the file: <chromosome> <start position> <stop position> <percent methylation> <coverage>\n",
    "!head 2019-04-09-All-5x-CpGs.bedgraph"
   ]
  },
  {
   "cell_type": "code",
   "execution_count": 18,
   "metadata": {
    "collapsed": false
   },
   "outputs": [
    {
     "name": "stdout",
     "output_type": "stream",
     "text": [
      " 4304257 2019-04-09-All-5x-CpGs.bedgraph\r\n"
     ]
    }
   ],
   "source": [
    "#Count loci with 5x coverage\n",
    "!wc -l 2019-04-09-All-5x-CpGs.bedgraph"
   ]
  },
  {
   "cell_type": "markdown",
   "metadata": {},
   "source": [
    "I have data for 4,304,257 CpG loci with 5x coverge."
   ]
  },
  {
   "cell_type": "markdown",
   "metadata": {},
   "source": [
    "## 3. Identify methylated loci"
   ]
  },
  {
   "cell_type": "markdown",
   "metadata": {},
   "source": [
    "Olson and Roberts (2014) define the following categories for CpG methylation:\n",
    "\n",
    "- Methylated (50% methylation and above)\n",
    "- Sparsely methylated (0-50% methylated)\n",
    "- Unmethylated (0% methylation)\n",
    "\n",
    "I will slightly modify this since I have multiple samples:\n",
    "\n",
    "- Methylated (50% methylation and above)\n",
    "- Sparsely methylated (10-50% methylated)\n",
    "- Unmethylated (10% methylation and below)"
   ]
  },
  {
   "cell_type": "markdown",
   "metadata": {},
   "source": [
    "### 3a. Methylated loci"
   ]
  },
  {
   "cell_type": "code",
   "execution_count": 19,
   "metadata": {
    "collapsed": true
   },
   "outputs": [],
   "source": [
    "#If percent methylation is greater or equal to 50, then save the loci information\n",
    "!awk '{if ($4 >= 50) { print $1, $2, $3, $4 }}' 2019-04-09-All-5x-CpGs.bedgraph \\\n",
    "> 2019-04-09-All-5x-CpG-Loci-Methylated.bedgraph"
   ]
  },
  {
   "cell_type": "code",
   "execution_count": 20,
   "metadata": {
    "collapsed": false
   },
   "outputs": [
    {
     "name": "stdout",
     "output_type": "stream",
     "text": [
      "NC_035780.1 9253 9254 60\r\n",
      "NC_035780.1 9637 9638 60\r\n",
      "NC_035780.1 9657 9658 50\r\n",
      "NC_035780.1 10089 10090 71.4285714285714\r\n",
      "NC_035780.1 10331 10332 80\r\n",
      "NC_035780.1 11692 11693 80\r\n",
      "NC_035780.1 11706 11707 80\r\n",
      "NC_035780.1 11711 11712 80\r\n",
      "NC_035780.1 12686 12687 69.2307692307692\r\n",
      "NC_035780.1 12758 12759 80\r\n"
     ]
    }
   ],
   "source": [
    "#Confirm methylated loci were saved\n",
    "!head 2019-04-09-All-5x-CpG-Loci-Methylated.bedgraph"
   ]
  },
  {
   "cell_type": "code",
   "execution_count": 21,
   "metadata": {
    "collapsed": false
   },
   "outputs": [
    {
     "name": "stdout",
     "output_type": "stream",
     "text": [
      " 3181904 2019-04-09-All-5x-CpG-Loci-Methylated.bedgraph\r\n"
     ]
    }
   ],
   "source": [
    "#Count methylated loci\n",
    "!wc -l 2019-04-09-All-5x-CpG-Loci-Methylated.bedgraph"
   ]
  },
  {
   "cell_type": "markdown",
   "metadata": {},
   "source": [
    "### 3b. Sparsely methylated loci"
   ]
  },
  {
   "cell_type": "code",
   "execution_count": 33,
   "metadata": {
    "collapsed": false
   },
   "outputs": [],
   "source": [
    "%%bash\n",
    "awk '{if ($4 < 50) { print $1, $2, $3, $4}}' 2019-04-09-All-5x-CpGs.bedgraph \\\n",
    "| awk '{if ($4 > 10) { print $1, $2, $3, $4 }}' \\\n",
    "> 2019-04-09-All-5x-CpG-Loci-Sparsely-Methylated.bedgraph"
   ]
  },
  {
   "cell_type": "code",
   "execution_count": 34,
   "metadata": {
    "collapsed": false
   },
   "outputs": [
    {
     "name": "stdout",
     "output_type": "stream",
     "text": [
      "NC_007175.2 1506 1507 16.6666666666667\r\n",
      "NC_007175.2 1820 1821 20\r\n",
      "NC_007175.2 2128 2129 11.7647058823529\r\n",
      "NC_007175.2 4841 4842 15\r\n",
      "NC_007175.2 13069 13070 20\r\n",
      "NC_035780.1 421 422 14.2857142857143\r\n",
      "NC_035780.1 1101 1102 12.5\r\n",
      "NC_035780.1 1540 1541 16.6666666666667\r\n",
      "NC_035780.1 3468 3469 16.6666666666667\r\n",
      "NC_035780.1 9254 9255 28.5714285714286\r\n"
     ]
    }
   ],
   "source": [
    "#Confirm sparsely methylated loci were saved\n",
    "!head 2019-04-09-All-5x-CpG-Loci-Sparsely-Methylated.bedgraph"
   ]
  },
  {
   "cell_type": "code",
   "execution_count": 35,
   "metadata": {
    "collapsed": false
   },
   "outputs": [
    {
     "name": "stdout",
     "output_type": "stream",
     "text": [
      "  481788 2019-04-09-All-5x-CpG-Loci-Sparsely-Methylated.bedgraph\r\n"
     ]
    }
   ],
   "source": [
    "#Count sparsely methylated loci\n",
    "!wc -l 2019-04-09-All-5x-CpG-Loci-Sparsely-Methylated.bedgraph"
   ]
  },
  {
   "cell_type": "markdown",
   "metadata": {},
   "source": [
    "### 3c. Unmethylated loci"
   ]
  },
  {
   "cell_type": "code",
   "execution_count": 36,
   "metadata": {
    "collapsed": true
   },
   "outputs": [],
   "source": [
    "!awk '{if ($4 <= 10) { print $1, $2, $3, $4 }}' 2019-04-09-All-5x-CpGs.bedgraph \\\n",
    "> 2019-04-09-All-5x-CpG-Loci-Unmethylated.bedgraph"
   ]
  },
  {
   "cell_type": "code",
   "execution_count": 37,
   "metadata": {
    "collapsed": false
   },
   "outputs": [
    {
     "name": "stdout",
     "output_type": "stream",
     "text": [
      "NC_007175.2 48 49 1.25\r\n",
      "NC_007175.2 49 50 0\r\n",
      "NC_007175.2 50 51 1.18343195266272\r\n",
      "NC_007175.2 51 52 0\r\n",
      "NC_007175.2 87 88 1.02459016393443\r\n",
      "NC_007175.2 88 89 1.38888888888889\r\n",
      "NC_007175.2 146 147 1.99115044247788\r\n",
      "NC_007175.2 147 148 2.29885057471264\r\n",
      "NC_007175.2 173 174 0\r\n",
      "NC_007175.2 192 193 1.25786163522013\r\n"
     ]
    }
   ],
   "source": [
    "#Confirm unmethylated loci were saved\n",
    "!head 2019-04-09-All-5x-CpG-Loci-Unmethylated.bedgraph"
   ]
  },
  {
   "cell_type": "code",
   "execution_count": 38,
   "metadata": {
    "collapsed": false
   },
   "outputs": [
    {
     "name": "stdout",
     "output_type": "stream",
     "text": [
      "  640565 2019-04-09-All-5x-CpG-Loci-Unmethylated.bedgraph\r\n"
     ]
    }
   ],
   "source": [
    "#Count unmethylated loci\n",
    "!wc -l 2019-04-09-All-5x-CpG-Loci-Unmethylated.bedgraph"
   ]
  },
  {
   "cell_type": "markdown",
   "metadata": {},
   "source": [
    "## 4. Location of methylated loci"
   ]
  },
  {
   "cell_type": "markdown",
   "metadata": {},
   "source": [
    "My final step is to characterize the location of methylated loci in the genome. I will use `intersectBed` to find overlaps between methylated loci and exons, introns, mRNA coding regions, transposable elements, and putative promoter regions."
   ]
  },
  {
   "cell_type": "markdown",
   "metadata": {},
   "source": [
    "### 4a. Created `.bed` file"
   ]
  },
  {
   "cell_type": "code",
   "execution_count": 37,
   "metadata": {
    "collapsed": true
   },
   "outputs": [],
   "source": [
    "%%bash\n",
    "awk '{print $1\"\\t\"$2\"\\t\"$3}' 2019-03-18-Control-5x-CpG-Loci-Methylated.bedgraph \\\n",
    "> 2019-03-18-Control-5x-CpG-Loci-Methylated.bed"
   ]
  },
  {
   "cell_type": "code",
   "execution_count": 38,
   "metadata": {
    "collapsed": false
   },
   "outputs": [
    {
     "name": "stdout",
     "output_type": "stream",
     "text": [
      "NC_035780.1\t10001055\t10001056\r\n",
      "NC_035780.1\t10001055\t10001056\r\n",
      "NC_035780.1\t10001087\t10001088\r\n",
      "NC_035780.1\t10001087\t10001088\r\n",
      "NC_035780.1\t10001087\t10001088\r\n",
      "NC_035780.1\t10001087\t10001088\r\n",
      "NC_035780.1\t10001087\t10001088\r\n",
      "NC_035780.1\t10001088\t10001089\r\n",
      "NC_035780.1\t10001113\t10001114\r\n",
      "NC_035780.1\t10001113\t10001114\r\n"
     ]
    }
   ],
   "source": [
    "#Confirm file creation\n",
    "!head 2019-03-18-Control-5x-CpG-Loci-Methylated.bed"
   ]
  },
  {
   "cell_type": "markdown",
   "metadata": {},
   "source": [
    "### 4b. Set variable paths"
   ]
  },
  {
   "cell_type": "code",
   "execution_count": 4,
   "metadata": {
    "collapsed": true
   },
   "outputs": [],
   "source": [
    "bedtoolsDirectory = \"/Users/Shared/bioinformatics/bedtools2/bin/\""
   ]
  },
  {
   "cell_type": "code",
   "execution_count": 5,
   "metadata": {
    "collapsed": true
   },
   "outputs": [],
   "source": [
    "methylatedLoci = \"2019-03-18-Control-5x-CpG-Loci-Methylated.bed\""
   ]
  },
  {
   "cell_type": "code",
   "execution_count": 6,
   "metadata": {
    "collapsed": true
   },
   "outputs": [],
   "source": [
    "exonList = \"../2018-11-01-DML-and-DMR-Analysis/C_virginica-3.0_Gnomon_exon.bed\""
   ]
  },
  {
   "cell_type": "code",
   "execution_count": 7,
   "metadata": {
    "collapsed": true
   },
   "outputs": [],
   "source": [
    "intronList = \"../2018-11-01-DML-and-DMR-Analysis/C_virginica-3.0_intron.bed\""
   ]
  },
  {
   "cell_type": "code",
   "execution_count": 8,
   "metadata": {
    "collapsed": true
   },
   "outputs": [],
   "source": [
    "mRNAList = \"../2018-11-01-DML-and-DMR-Analysis/C_virginica-3.0_Gnomon_mRNA.gff3\""
   ]
  },
  {
   "cell_type": "code",
   "execution_count": 9,
   "metadata": {
    "collapsed": true
   },
   "outputs": [],
   "source": [
    "transposableElementsAll = \"../2018-11-01-DML-and-DMR-Analysis/C_virginica-3.0_TE-all.gff\""
   ]
  },
  {
   "cell_type": "code",
   "execution_count": 10,
   "metadata": {
    "collapsed": true
   },
   "outputs": [],
   "source": [
    "transposableElementsCg = \"../2018-11-01-DML-and-DMR-Analysis/C_virginica-3.0_TE-Cg.gff\""
   ]
  },
  {
   "cell_type": "code",
   "execution_count": 11,
   "metadata": {
    "collapsed": true
   },
   "outputs": [],
   "source": [
    "putativePromoters = \"../2018-11-01-DML-and-DMR-Analysis/2018-11-14-Flanking-Analysis/2018-11-15-mRNA-Upstream-Flanks.bed\""
   ]
  },
  {
   "cell_type": "markdown",
   "metadata": {},
   "source": [
    "### 4c. Exons"
   ]
  },
  {
   "cell_type": "code",
   "execution_count": 46,
   "metadata": {
    "collapsed": false,
    "scrolled": true
   },
   "outputs": [
    {
     "name": "stdout",
     "output_type": "stream",
     "text": [
      " 2255472\n",
      "methylated loci overlaps with exons\n"
     ]
    }
   ],
   "source": [
    "! {bedtoolsDirectory}intersectBed \\\n",
    "-u \\\n",
    "-a {methylatedLoci} \\\n",
    "-b {exonList} \\\n",
    "| wc -l\n",
    "!echo \"methylated loci overlaps with exons\""
   ]
  },
  {
   "cell_type": "code",
   "execution_count": 47,
   "metadata": {
    "collapsed": true
   },
   "outputs": [],
   "source": [
    "! {bedtoolsDirectory}intersectBed \\\n",
    "-wb \\\n",
    "-a {methylatedLoci} \\\n",
    "-b {exonList} \\\n",
    "> 2019-03-18-MethLoci-Exon.txt"
   ]
  },
  {
   "cell_type": "code",
   "execution_count": 48,
   "metadata": {
    "collapsed": false
   },
   "outputs": [
    {
     "name": "stdout",
     "output_type": "stream",
     "text": [
      "NC_035780.1\t10001055\t10001056\tNC_035780.1\t10001044\t10001214\r\n",
      "NC_035780.1\t10001055\t10001056\tNC_035780.1\t10001044\t10001214\r\n",
      "NC_035780.1\t10001055\t10001056\tNC_035780.1\t10001044\t10001214\r\n",
      "NC_035780.1\t10001055\t10001056\tNC_035780.1\t10001044\t10001214\r\n",
      "NC_035780.1\t10001055\t10001056\tNC_035780.1\t10001044\t10001214\r\n",
      "NC_035780.1\t10001055\t10001056\tNC_035780.1\t10001044\t10001214\r\n",
      "NC_035780.1\t10001055\t10001056\tNC_035780.1\t10001044\t10001214\r\n",
      "NC_035780.1\t10001055\t10001056\tNC_035780.1\t10001044\t10001214\r\n",
      "NC_035780.1\t10001055\t10001056\tNC_035780.1\t10001044\t10001214\r\n",
      "NC_035780.1\t10001055\t10001056\tNC_035780.1\t10001044\t10001214\r\n"
     ]
    }
   ],
   "source": [
    "!head 2019-03-18-MethLoci-Exon.txt"
   ]
  },
  {
   "cell_type": "markdown",
   "metadata": {},
   "source": [
    "### 4d. Introns"
   ]
  },
  {
   "cell_type": "code",
   "execution_count": 49,
   "metadata": {
    "collapsed": false,
    "scrolled": true
   },
   "outputs": [
    {
     "name": "stdout",
     "output_type": "stream",
     "text": [
      " 1646352\n",
      "methylated loci overlaps with introns\n"
     ]
    }
   ],
   "source": [
    "! {bedtoolsDirectory}intersectBed \\\n",
    "-u \\\n",
    "-a {methylatedLoci} \\\n",
    "-b {intronList} \\\n",
    "| wc -l\n",
    "!echo \"methylated loci overlaps with introns\""
   ]
  },
  {
   "cell_type": "code",
   "execution_count": 50,
   "metadata": {
    "collapsed": true
   },
   "outputs": [],
   "source": [
    "! {bedtoolsDirectory}intersectBed \\\n",
    "-wb \\\n",
    "-a {methylatedLoci} \\\n",
    "-b {exonList} \\\n",
    "> 2019-03-18-MethLoci-Intron.txt"
   ]
  },
  {
   "cell_type": "code",
   "execution_count": 51,
   "metadata": {
    "collapsed": false
   },
   "outputs": [
    {
     "name": "stdout",
     "output_type": "stream",
     "text": [
      "NC_035780.1\t10001055\t10001056\tNC_035780.1\t10001044\t10001214\r\n",
      "NC_035780.1\t10001055\t10001056\tNC_035780.1\t10001044\t10001214\r\n",
      "NC_035780.1\t10001055\t10001056\tNC_035780.1\t10001044\t10001214\r\n",
      "NC_035780.1\t10001055\t10001056\tNC_035780.1\t10001044\t10001214\r\n",
      "NC_035780.1\t10001055\t10001056\tNC_035780.1\t10001044\t10001214\r\n",
      "NC_035780.1\t10001055\t10001056\tNC_035780.1\t10001044\t10001214\r\n",
      "NC_035780.1\t10001055\t10001056\tNC_035780.1\t10001044\t10001214\r\n",
      "NC_035780.1\t10001055\t10001056\tNC_035780.1\t10001044\t10001214\r\n",
      "NC_035780.1\t10001055\t10001056\tNC_035780.1\t10001044\t10001214\r\n",
      "NC_035780.1\t10001055\t10001056\tNC_035780.1\t10001044\t10001214\r\n"
     ]
    }
   ],
   "source": [
    "!head 2019-03-18-MethLoci-Intron.txt"
   ]
  },
  {
   "cell_type": "markdown",
   "metadata": {},
   "source": [
    "### 4e. mRNA"
   ]
  },
  {
   "cell_type": "code",
   "execution_count": 52,
   "metadata": {
    "collapsed": false,
    "scrolled": true
   },
   "outputs": [
    {
     "name": "stdout",
     "output_type": "stream",
     "text": [
      " 3853885\n",
      "methylated loci overlaps with mRNA coding regions\n"
     ]
    }
   ],
   "source": [
    "! {bedtoolsDirectory}intersectBed \\\n",
    "-u \\\n",
    "-a {methylatedLoci} \\\n",
    "-b {mRNAList} \\\n",
    "| wc -l\n",
    "!echo \"methylated loci overlaps with mRNA coding regions\""
   ]
  },
  {
   "cell_type": "code",
   "execution_count": 53,
   "metadata": {
    "collapsed": true
   },
   "outputs": [],
   "source": [
    "! {bedtoolsDirectory}intersectBed \\\n",
    "-wb \\\n",
    "-a {methylatedLoci} \\\n",
    "-b {mRNAList} \\\n",
    "> 2019-03-18-MethLoci-mRNA.txt"
   ]
  },
  {
   "cell_type": "code",
   "execution_count": 58,
   "metadata": {
    "collapsed": false
   },
   "outputs": [
    {
     "name": "stdout",
     "output_type": "stream",
     "text": [
      "NC_035780.1\t10001055\t10001056\tNC_035780.1\tGnomon\tmRNA\t9996253\t10055348\t.\t-\t.\tID=rna1029;Parent=gene603;Dbxref=GeneID:111118239,Genbank:XM_022457639.1;Name=XM_022457639.1;gbkey=mRNA;gene=LOC111118239;model_evidence=Supporting evidence includes similarity to: 1 EST%2C 1 Protein%2C and 100%25 coverage of the annotated genomic feature by RNAseq alignments%2C including 8 samples with support for all annotated introns;product=myelin regulatory factor-like%2C transcript variant X7;transcript_id=XM_022457639.1\r\n"
     ]
    }
   ],
   "source": [
    "!head -n 1 2019-03-18-MethLoci-mRNA.txt"
   ]
  },
  {
   "cell_type": "code",
   "execution_count": 4,
   "metadata": {
    "collapsed": false
   },
   "outputs": [],
   "source": [
    "!cut -f12 2019-03-18-MethLoci-mRNA.txt| sort | uniq -c > 2019-03-18-Unique-Genes-in-MethLoci-mRNA-Overlap.txt"
   ]
  },
  {
   "cell_type": "code",
   "execution_count": 5,
   "metadata": {
    "collapsed": false
   },
   "outputs": [
    {
     "name": "stdout",
     "output_type": "stream",
     "text": [
      " 209 ID=rna10000;Parent=gene5866;Dbxref=GeneID:111121983,Genbank:XM_022463489.1;Name=XM_022463489.1;gbkey=mRNA;gene=LOC111121983;model_evidence=Supporting evidence includes similarity to: 3 Proteins%2C and 100%25 coverage of the annotated genomic feature by RNAseq alignments%2C including 3 samples with support for all annotated introns;product=sodium-coupled neutral amino acid transporter 9-like%2C transcript variant X4;transcript_id=XM_022463489.1\r\n"
     ]
    }
   ],
   "source": [
    "!head -n 1 2019-03-18-Unique-Genes-in-MethLoci-mRNA-Overlap.txt"
   ]
  },
  {
   "cell_type": "code",
   "execution_count": 6,
   "metadata": {
    "collapsed": false
   },
   "outputs": [
    {
     "name": "stdout",
     "output_type": "stream",
     "text": [
      "   41921 2019-03-18-Unique-Genes-in-MethLoci-mRNA-Overlap.txt\r\n"
     ]
    }
   ],
   "source": [
    "!wc -l 2019-03-18-Unique-Genes-in-MethLoci-mRNA-Overlap.txt"
   ]
  },
  {
   "cell_type": "markdown",
   "metadata": {},
   "source": [
    "Methylated loci overlap with 41921 unique genes."
   ]
  },
  {
   "cell_type": "markdown",
   "metadata": {},
   "source": [
    "### 4f. Transposable elements (all)"
   ]
  },
  {
   "cell_type": "code",
   "execution_count": 16,
   "metadata": {
    "collapsed": false,
    "scrolled": true
   },
   "outputs": [
    {
     "name": "stdout",
     "output_type": "stream",
     "text": [
      "  756905\n",
      "methylated loci overlaps with transposable elements (all)\n"
     ]
    }
   ],
   "source": [
    "! {bedtoolsDirectory}intersectBed \\\n",
    "-u \\\n",
    "-a {methylatedLoci} \\\n",
    "-b {transposableElementsAll} \\\n",
    "| wc -l\n",
    "!echo \"methylated loci overlaps with transposable elements (all)\""
   ]
  },
  {
   "cell_type": "code",
   "execution_count": 17,
   "metadata": {
    "collapsed": true
   },
   "outputs": [],
   "source": [
    "! {bedtoolsDirectory}intersectBed \\\n",
    "-wb \\\n",
    "-a {methylatedLoci} \\\n",
    "-b {transposableElementsAll} \\\n",
    "> 2019-03-18-MethLoci-TE-All.txt"
   ]
  },
  {
   "cell_type": "code",
   "execution_count": 18,
   "metadata": {
    "collapsed": false,
    "scrolled": false
   },
   "outputs": [
    {
     "name": "stdout",
     "output_type": "stream",
     "text": [
      "NC_035780.1\t10014413\t10014414\tNC_035780.1\tRepeatMasker\tsimilarity\t10014389\t10014472\t15.4\t-\t.\tTarget \"Motif:Tx1-TGTA-1_SK\" 3058 3143\r\n",
      "NC_035780.1\t10014414\t10014415\tNC_035780.1\tRepeatMasker\tsimilarity\t10014389\t10014472\t15.4\t-\t.\tTarget \"Motif:Tx1-TGTA-1_SK\" 3058 3143\r\n",
      "NC_035780.1\t10014414\t10014415\tNC_035780.1\tRepeatMasker\tsimilarity\t10014389\t10014472\t15.4\t-\t.\tTarget \"Motif:Tx1-TGTA-1_SK\" 3058 3143\r\n",
      "NC_035780.1\t1002812\t1002813\tNC_035780.1\tRepeatMasker\tsimilarity\t1002789\t1003039\t23.2\t+\t.\tTarget \"Motif:BivaMD-SINE1_CrVi\" 3 262\r\n",
      "NC_035780.1\t1002843\t1002844\tNC_035780.1\tRepeatMasker\tsimilarity\t1002789\t1003039\t23.2\t+\t.\tTarget \"Motif:BivaMD-SINE1_CrVi\" 3 262\r\n",
      "NC_035780.1\t1002843\t1002844\tNC_035780.1\tRepeatMasker\tsimilarity\t1002789\t1003039\t23.2\t+\t.\tTarget \"Motif:BivaMD-SINE1_CrVi\" 3 262\r\n",
      "NC_035780.1\t1003211\t1003212\tNC_035780.1\tRepeatMasker\tsimilarity\t1003194\t1003241\t22.6\t+\t.\tTarget \"Motif:(TGG)n\" 1 47\r\n",
      "NC_035780.1\t1003212\t1003213\tNC_035780.1\tRepeatMasker\tsimilarity\t1003194\t1003241\t22.6\t+\t.\tTarget \"Motif:(TGG)n\" 1 47\r\n",
      "NC_035780.1\t10055643\t10055644\tNC_035780.1\tRepeatMasker\tsimilarity\t10055611\t10055808\t24.8\t+\t.\tTarget \"Motif:ISL2EU-7_CGi\" 1 230\r\n",
      "NC_035780.1\t10055643\t10055644\tNC_035780.1\tRepeatMasker\tsimilarity\t10055611\t10055808\t24.8\t+\t.\tTarget \"Motif:ISL2EU-7_CGi\" 1 230\r\n"
     ]
    }
   ],
   "source": [
    "!head 2019-03-18-MethLoci-TE-All.txt"
   ]
  },
  {
   "cell_type": "markdown",
   "metadata": {},
   "source": [
    "### 4g. Transposable elements (*C. gigas* only)"
   ]
  },
  {
   "cell_type": "code",
   "execution_count": 19,
   "metadata": {
    "collapsed": false,
    "scrolled": true
   },
   "outputs": [
    {
     "name": "stdout",
     "output_type": "stream",
     "text": [
      "  588685\n",
      "methylated loci overlaps with transposable elements (Cg)\n"
     ]
    }
   ],
   "source": [
    "! {bedtoolsDirectory}intersectBed \\\n",
    "-u \\\n",
    "-a {methylatedLoci} \\\n",
    "-b {transposableElementsCg} \\\n",
    "| wc -l\n",
    "!echo \"methylated loci overlaps with transposable elements (Cg)\""
   ]
  },
  {
   "cell_type": "code",
   "execution_count": 20,
   "metadata": {
    "collapsed": true
   },
   "outputs": [],
   "source": [
    "! {bedtoolsDirectory}intersectBed \\\n",
    "-wb \\\n",
    "-a {methylatedLoci} \\\n",
    "-b {transposableElementsCg} \\\n",
    "> 2019-03-18-MethLoci-TE-Cg.txt"
   ]
  },
  {
   "cell_type": "code",
   "execution_count": 21,
   "metadata": {
    "collapsed": false,
    "scrolled": false
   },
   "outputs": [
    {
     "name": "stdout",
     "output_type": "stream",
     "text": [
      "NC_035780.1\t1003211\t1003212\tNC_035780.1\tRepeatMasker\tsimilarity\t1003194\t1003241\t22.6\t+\t.\tTarget \"Motif:(TGG)n\" 1 47\r\n",
      "NC_035780.1\t1003212\t1003213\tNC_035780.1\tRepeatMasker\tsimilarity\t1003194\t1003241\t22.6\t+\t.\tTarget \"Motif:(TGG)n\" 1 47\r\n",
      "NC_035780.1\t10055643\t10055644\tNC_035780.1\tRepeatMasker\tsimilarity\t10055611\t10055808\t24.8\t+\t.\tTarget \"Motif:ISL2EU-7_CGi\" 1 230\r\n",
      "NC_035780.1\t10055643\t10055644\tNC_035780.1\tRepeatMasker\tsimilarity\t10055611\t10055808\t24.8\t+\t.\tTarget \"Motif:ISL2EU-7_CGi\" 1 230\r\n",
      "NC_035780.1\t10055657\t10055658\tNC_035780.1\tRepeatMasker\tsimilarity\t10055611\t10055808\t24.8\t+\t.\tTarget \"Motif:ISL2EU-7_CGi\" 1 230\r\n",
      "NC_035780.1\t10055657\t10055658\tNC_035780.1\tRepeatMasker\tsimilarity\t10055611\t10055808\t24.8\t+\t.\tTarget \"Motif:ISL2EU-7_CGi\" 1 230\r\n",
      "NC_035780.1\t10055669\t10055670\tNC_035780.1\tRepeatMasker\tsimilarity\t10055611\t10055808\t24.8\t+\t.\tTarget \"Motif:ISL2EU-7_CGi\" 1 230\r\n",
      "NC_035780.1\t10055669\t10055670\tNC_035780.1\tRepeatMasker\tsimilarity\t10055611\t10055808\t24.8\t+\t.\tTarget \"Motif:ISL2EU-7_CGi\" 1 230\r\n",
      "NC_035780.1\t10055697\t10055698\tNC_035780.1\tRepeatMasker\tsimilarity\t10055611\t10055808\t24.8\t+\t.\tTarget \"Motif:ISL2EU-7_CGi\" 1 230\r\n",
      "NC_035780.1\t10087290\t10087291\tNC_035780.1\tRepeatMasker\tsimilarity\t10087286\t10087669\t26.3\t+\t.\tTarget \"Motif:DNA3-12_CGi\" 1 376\r\n"
     ]
    }
   ],
   "source": [
    "!head 2019-03-18-MethLoci-TE-Cg.txt"
   ]
  },
  {
   "cell_type": "markdown",
   "metadata": {},
   "source": [
    "### 4h. Putative promoters"
   ]
  },
  {
   "cell_type": "code",
   "execution_count": 25,
   "metadata": {
    "collapsed": false,
    "scrolled": true
   },
   "outputs": [
    {
     "name": "stdout",
     "output_type": "stream",
     "text": [
      "  156356\n",
      "methylated loci overlaps with putative promoters\n"
     ]
    }
   ],
   "source": [
    "! {bedtoolsDirectory}intersectBed \\\n",
    "-u \\\n",
    "-a {methylatedLoci} \\\n",
    "-b {putativePromoters} \\\n",
    "| wc -l\n",
    "!echo \"methylated loci overlaps with putative promoters\""
   ]
  },
  {
   "cell_type": "code",
   "execution_count": 26,
   "metadata": {
    "collapsed": true
   },
   "outputs": [],
   "source": [
    "! {bedtoolsDirectory}intersectBed \\\n",
    "-wb \\\n",
    "-a {methylatedLoci} \\\n",
    "-b {putativePromoters} \\\n",
    "> 2019-03-18-MethLoci-Putative-Promoters.txt"
   ]
  },
  {
   "cell_type": "code",
   "execution_count": 27,
   "metadata": {
    "collapsed": false,
    "scrolled": true
   },
   "outputs": [
    {
     "name": "stdout",
     "output_type": "stream",
     "text": [
      "NC_035780.1\t10072112\t10072113\tNC_035780.1\tGnomon\tmRNA\t10071461\t10072460\t.\t-\t.\tID=rna1044;Parent=gene607;Dbxref=GeneID:111135155,Genbank:XM_022484947.1;Name=XM_022484947.1;gbkey=mRNA;gene=LOC111135155;model_evidence=Supporting evidence includes similarity to: 1 EST%2C 5 Proteins%2C and 99%25 coverage of the annotated genomic feature by RNAseq alignments;product=nodal modulator 1-like;transcript_id=XM_022484947.1\r\n",
      "NC_035780.1\t10072112\t10072113\tNC_035780.1\tGnomon\tmRNA\t10071461\t10072460\t.\t-\t.\tID=rna1044;Parent=gene607;Dbxref=GeneID:111135155,Genbank:XM_022484947.1;Name=XM_022484947.1;gbkey=mRNA;gene=LOC111135155;model_evidence=Supporting evidence includes similarity to: 1 EST%2C 5 Proteins%2C and 99%25 coverage of the annotated genomic feature by RNAseq alignments;product=nodal modulator 1-like;transcript_id=XM_022484947.1\r\n",
      "NC_035780.1\t10072122\t10072123\tNC_035780.1\tGnomon\tmRNA\t10071461\t10072460\t.\t-\t.\tID=rna1044;Parent=gene607;Dbxref=GeneID:111135155,Genbank:XM_022484947.1;Name=XM_022484947.1;gbkey=mRNA;gene=LOC111135155;model_evidence=Supporting evidence includes similarity to: 1 EST%2C 5 Proteins%2C and 99%25 coverage of the annotated genomic feature by RNAseq alignments;product=nodal modulator 1-like;transcript_id=XM_022484947.1\r\n",
      "NC_035780.1\t10072122\t10072123\tNC_035780.1\tGnomon\tmRNA\t10071461\t10072460\t.\t-\t.\tID=rna1044;Parent=gene607;Dbxref=GeneID:111135155,Genbank:XM_022484947.1;Name=XM_022484947.1;gbkey=mRNA;gene=LOC111135155;model_evidence=Supporting evidence includes similarity to: 1 EST%2C 5 Proteins%2C and 99%25 coverage of the annotated genomic feature by RNAseq alignments;product=nodal modulator 1-like;transcript_id=XM_022484947.1\r\n",
      "NC_035780.1\t10072151\t10072152\tNC_035780.1\tGnomon\tmRNA\t10071461\t10072460\t.\t-\t.\tID=rna1044;Parent=gene607;Dbxref=GeneID:111135155,Genbank:XM_022484947.1;Name=XM_022484947.1;gbkey=mRNA;gene=LOC111135155;model_evidence=Supporting evidence includes similarity to: 1 EST%2C 5 Proteins%2C and 99%25 coverage of the annotated genomic feature by RNAseq alignments;product=nodal modulator 1-like;transcript_id=XM_022484947.1\r\n",
      "NC_035780.1\t10072151\t10072152\tNC_035780.1\tGnomon\tmRNA\t10071461\t10072460\t.\t-\t.\tID=rna1044;Parent=gene607;Dbxref=GeneID:111135155,Genbank:XM_022484947.1;Name=XM_022484947.1;gbkey=mRNA;gene=LOC111135155;model_evidence=Supporting evidence includes similarity to: 1 EST%2C 5 Proteins%2C and 99%25 coverage of the annotated genomic feature by RNAseq alignments;product=nodal modulator 1-like;transcript_id=XM_022484947.1\r\n",
      "NC_035780.1\t10072184\t10072185\tNC_035780.1\tGnomon\tmRNA\t10071461\t10072460\t.\t-\t.\tID=rna1044;Parent=gene607;Dbxref=GeneID:111135155,Genbank:XM_022484947.1;Name=XM_022484947.1;gbkey=mRNA;gene=LOC111135155;model_evidence=Supporting evidence includes similarity to: 1 EST%2C 5 Proteins%2C and 99%25 coverage of the annotated genomic feature by RNAseq alignments;product=nodal modulator 1-like;transcript_id=XM_022484947.1\r\n",
      "NC_035780.1\t10072184\t10072185\tNC_035780.1\tGnomon\tmRNA\t10071461\t10072460\t.\t-\t.\tID=rna1044;Parent=gene607;Dbxref=GeneID:111135155,Genbank:XM_022484947.1;Name=XM_022484947.1;gbkey=mRNA;gene=LOC111135155;model_evidence=Supporting evidence includes similarity to: 1 EST%2C 5 Proteins%2C and 99%25 coverage of the annotated genomic feature by RNAseq alignments;product=nodal modulator 1-like;transcript_id=XM_022484947.1\r\n",
      "NC_035780.1\t10072190\t10072191\tNC_035780.1\tGnomon\tmRNA\t10071461\t10072460\t.\t-\t.\tID=rna1044;Parent=gene607;Dbxref=GeneID:111135155,Genbank:XM_022484947.1;Name=XM_022484947.1;gbkey=mRNA;gene=LOC111135155;model_evidence=Supporting evidence includes similarity to: 1 EST%2C 5 Proteins%2C and 99%25 coverage of the annotated genomic feature by RNAseq alignments;product=nodal modulator 1-like;transcript_id=XM_022484947.1\r\n",
      "NC_035780.1\t10168563\t10168564\tNC_035780.1\tGnomon\tmRNA\t10168047\t10169046\t.\t-\t.\tID=rna1046;Parent=gene609;Dbxref=GeneID:111138286,Genbank:XM_022490173.1;Name=XM_022490173.1;gbkey=mRNA;gene=LOC111138286;model_evidence=Supporting evidence includes similarity to: 11 Proteins%2C and 100%25 coverage of the annotated genomic feature by RNAseq alignments%2C including 19 samples with support for all annotated introns;product=E3 ubiquitin-protein ligase TRIM33-like%2C transcript variant X2;transcript_id=XM_022490173.1\r\n"
     ]
    }
   ],
   "source": [
    "!head 2019-03-18-MethLoci-Putative-Promoters.txt"
   ]
  },
  {
   "cell_type": "markdown",
   "metadata": {},
   "source": [
    "### 4i. No overlaps"
   ]
  },
  {
   "cell_type": "code",
   "execution_count": 12,
   "metadata": {
    "collapsed": false
   },
   "outputs": [
    {
     "name": "stdout",
     "output_type": "stream",
     "text": [
      "  345205\n",
      "methylated loci do not overlap with exons, introns, transposable elements (all), or putative promoters\n"
     ]
    }
   ],
   "source": [
    "! {bedtoolsDirectory}intersectBed \\\n",
    "-v \\\n",
    "-a {methylatedLoci} \\\n",
    "-b {exonList} {intronList} {transposableElementsAll} {putativePromoters} \\\n",
    "| wc -l\n",
    "!echo \"methylated loci do not overlap with exons, introns, transposable elements (all), or putative promoters\""
   ]
  },
  {
   "cell_type": "code",
   "execution_count": 13,
   "metadata": {
    "collapsed": true
   },
   "outputs": [],
   "source": [
    "! {bedtoolsDirectory}intersectBed \\\n",
    "-v \\\n",
    "-a {methylatedLoci} \\\n",
    "-b {exonList} {intronList} {transposableElementsAll} {putativePromoters} \\\n",
    "> 2019-03-18-MethLoci-NoOverlaps.txt"
   ]
  },
  {
   "cell_type": "code",
   "execution_count": 14,
   "metadata": {
    "collapsed": false
   },
   "outputs": [
    {
     "name": "stdout",
     "output_type": "stream",
     "text": [
      "NC_035780.1\t10065450\t10065451\r\n",
      "NC_035780.1\t10068856\t10068857\r\n",
      "NC_035780.1\t1014370\t1014371\r\n",
      "NC_035780.1\t10178533\t10178534\r\n",
      "NC_035780.1\t10178550\t10178551\r\n",
      "NC_035780.1\t10178555\t10178556\r\n",
      "NC_035780.1\t10178574\t10178575\r\n",
      "NC_035780.1\t10178584\t10178585\r\n",
      "NC_035780.1\t10180224\t10180225\r\n",
      "NC_035780.1\t10180234\t10180235\r\n"
     ]
    }
   ],
   "source": [
    "!head 2019-03-18-MethLoci-NoOverlaps.txt"
   ]
  }
 ],
 "metadata": {
  "anaconda-cloud": {},
  "kernelspec": {
   "display_name": "Python [default]",
   "language": "python",
   "name": "python3"
  },
  "language_info": {
   "codemirror_mode": {
    "name": "ipython",
    "version": 3
   },
   "file_extension": ".py",
   "mimetype": "text/x-python",
   "name": "python",
   "nbconvert_exporter": "python",
   "pygments_lexer": "ipython3",
   "version": "3.5.2"
  }
 },
 "nbformat": 4,
 "nbformat_minor": 1
}
