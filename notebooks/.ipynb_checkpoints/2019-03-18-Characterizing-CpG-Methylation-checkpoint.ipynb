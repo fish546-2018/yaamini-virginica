{
 "cells": [
  {
   "cell_type": "markdown",
   "metadata": {},
   "source": [
    "# Characterizing CpG Methylation"
   ]
  },
  {
   "cell_type": "markdown",
   "metadata": {},
   "source": [
    "To describe general metylation trends, irrespective of pCO<sub>2</sub> treatment in *C. virginica* gonad sequence data, I need to characterize individual CpG loci. Gavery and Roberts (2013) and Olson and Roberts (2013) define a CpG locus as methylated if at least half of the reads remained unconverted after bisulfite treatment. I will use information in `.cov` files to identify methylated CpG loci.\n",
    "\n",
    "1. Download coverage files\n",
    "2. Limit to 5x coverage only\n",
    "3. Concatenate 5x loci for all samples\n",
    "4. Identify methylated loci"
   ]
  },
  {
   "cell_type": "markdown",
   "metadata": {},
   "source": [
    "## 0. Prepare for analyses"
   ]
  },
  {
   "cell_type": "markdown",
   "metadata": {},
   "source": [
    "## 0a. Set working directory"
   ]
  },
  {
   "cell_type": "code",
   "execution_count": 1,
   "metadata": {
    "collapsed": false
   },
   "outputs": [
    {
     "data": {
      "text/plain": [
       "'/Users/yaamini/Documents/yaamini-virginica/notebooks'"
      ]
     },
     "execution_count": 1,
     "metadata": {},
     "output_type": "execute_result"
    }
   ],
   "source": [
    "pwd"
   ]
  },
  {
   "cell_type": "code",
   "execution_count": 2,
   "metadata": {
    "collapsed": false
   },
   "outputs": [
    {
     "name": "stdout",
     "output_type": "stream",
     "text": [
      "/Users/yaamini/Documents/yaamini-virginica/analyses\n"
     ]
    }
   ],
   "source": [
    "cd ../analyses/"
   ]
  },
  {
   "cell_type": "code",
   "execution_count": 3,
   "metadata": {
    "collapsed": true
   },
   "outputs": [],
   "source": [
    "!mkdir 2019-03-18-Characterizing-CpG-Methylation"
   ]
  },
  {
   "cell_type": "code",
   "execution_count": 3,
   "metadata": {
    "collapsed": false
   },
   "outputs": [
    {
     "name": "stdout",
     "output_type": "stream",
     "text": [
      "/Users/yaamini/Documents/yaamini-virginica/analyses/2019-03-18-Characterizing-CpG-Methylation\n"
     ]
    }
   ],
   "source": [
    "cd 2019-03-18-Characterizing-CpG-Methylation/"
   ]
  },
  {
   "cell_type": "markdown",
   "metadata": {},
   "source": [
    "## 1. Obtain coverage files"
   ]
  },
  {
   "cell_type": "code",
   "execution_count": 4,
   "metadata": {
    "collapsed": false
   },
   "outputs": [
    {
     "name": "stdout",
     "output_type": "stream",
     "text": [
      "--2019-03-19 08:03:23--  http://gannet.fish.washington.edu/spartina/2018-10-10-project-virginica-oa-Large-Files/2018-11-07-Bismark-Mox/\n",
      "Resolving gannet.fish.washington.edu... 128.95.149.52\n",
      "Connecting to gannet.fish.washington.edu|128.95.149.52|:80... connected.\n",
      "HTTP request sent, awaiting response... 200 OK\n",
      "Length: unspecified [text/html]\n",
      "Saving to: 'gannet.fish.washington.edu/spartina/2018-10-10-project-virginica-oa-Large-Files/2018-11-07-Bismark-Mox/index.html'\n",
      "\n",
      "gannet.fish.washing     [ <=>                ]  61.14K  --.-KB/s    in 0.001s  \n",
      "\n",
      "2019-03-19 08:03:25 (41.1 MB/s) - 'gannet.fish.washington.edu/spartina/2018-10-10-project-virginica-oa-Large-Files/2018-11-07-Bismark-Mox/index.html' saved [62605]\n",
      "\n",
      "Loading robots.txt; please ignore errors.\n",
      "--2019-03-19 08:03:25--  http://gannet.fish.washington.edu/robots.txt\n",
      "Reusing existing connection to gannet.fish.washington.edu:80.\n",
      "HTTP request sent, awaiting response... 404 Not Found\n",
      "2019-03-19 08:03:25 ERROR 404: Not Found.\n",
      "\n",
      "Removing gannet.fish.washington.edu/spartina/2018-10-10-project-virginica-oa-Large-Files/2018-11-07-Bismark-Mox/index.html since it should be rejected.\n",
      "\n",
      "--2019-03-19 08:03:25--  http://gannet.fish.washington.edu/spartina/2018-10-10-project-virginica-oa-Large-Files/2018-11-07-Bismark-Mox/?C=N;O=D\n",
      "Reusing existing connection to gannet.fish.washington.edu:80.\n",
      "HTTP request sent, awaiting response... 200 OK\n",
      "Length: unspecified [text/html]\n",
      "Saving to: 'gannet.fish.washington.edu/spartina/2018-10-10-project-virginica-oa-Large-Files/2018-11-07-Bismark-Mox/index.html?C=N;O=D'\n",
      "\n",
      "gannet.fish.washing     [ <=>                ]  61.14K  --.-KB/s    in 0.001s  \n",
      "\n",
      "2019-03-19 08:03:26 (81.7 MB/s) - 'gannet.fish.washington.edu/spartina/2018-10-10-project-virginica-oa-Large-Files/2018-11-07-Bismark-Mox/index.html?C=N;O=D' saved [62605]\n",
      "\n",
      "Removing gannet.fish.washington.edu/spartina/2018-10-10-project-virginica-oa-Large-Files/2018-11-07-Bismark-Mox/index.html?C=N;O=D since it should be rejected.\n",
      "\n",
      "--2019-03-19 08:03:26--  http://gannet.fish.washington.edu/spartina/2018-10-10-project-virginica-oa-Large-Files/2018-11-07-Bismark-Mox/?C=M;O=A\n",
      "Reusing existing connection to gannet.fish.washington.edu:80.\n",
      "HTTP request sent, awaiting response... 200 OK\n",
      "Length: unspecified [text/html]\n",
      "Saving to: 'gannet.fish.washington.edu/spartina/2018-10-10-project-virginica-oa-Large-Files/2018-11-07-Bismark-Mox/index.html?C=M;O=A'\n",
      "\n",
      "gannet.fish.washing     [ <=>                ]  61.14K  --.-KB/s    in 0.002s  \n",
      "\n",
      "2019-03-19 08:03:28 (39.5 MB/s) - 'gannet.fish.washington.edu/spartina/2018-10-10-project-virginica-oa-Large-Files/2018-11-07-Bismark-Mox/index.html?C=M;O=A' saved [62605]\n",
      "\n",
      "Removing gannet.fish.washington.edu/spartina/2018-10-10-project-virginica-oa-Large-Files/2018-11-07-Bismark-Mox/index.html?C=M;O=A since it should be rejected.\n",
      "\n",
      "--2019-03-19 08:03:28--  http://gannet.fish.washington.edu/spartina/2018-10-10-project-virginica-oa-Large-Files/2018-11-07-Bismark-Mox/?C=S;O=A\n",
      "Reusing existing connection to gannet.fish.washington.edu:80.\n",
      "HTTP request sent, awaiting response... 200 OK\n",
      "Length: unspecified [text/html]\n",
      "Saving to: 'gannet.fish.washington.edu/spartina/2018-10-10-project-virginica-oa-Large-Files/2018-11-07-Bismark-Mox/index.html?C=S;O=A'\n",
      "\n",
      "gannet.fish.washing     [ <=>                ]  61.14K  --.-KB/s    in 0.001s  \n",
      "\n",
      "2019-03-19 08:03:29 (44.1 MB/s) - 'gannet.fish.washington.edu/spartina/2018-10-10-project-virginica-oa-Large-Files/2018-11-07-Bismark-Mox/index.html?C=S;O=A' saved [62605]\n",
      "\n",
      "Removing gannet.fish.washington.edu/spartina/2018-10-10-project-virginica-oa-Large-Files/2018-11-07-Bismark-Mox/index.html?C=S;O=A since it should be rejected.\n",
      "\n",
      "--2019-03-19 08:03:29--  http://gannet.fish.washington.edu/spartina/2018-10-10-project-virginica-oa-Large-Files/2018-11-07-Bismark-Mox/?C=D;O=A\n",
      "Reusing existing connection to gannet.fish.washington.edu:80.\n",
      "HTTP request sent, awaiting response... 200 OK\n",
      "Length: unspecified [text/html]\n",
      "Saving to: 'gannet.fish.washington.edu/spartina/2018-10-10-project-virginica-oa-Large-Files/2018-11-07-Bismark-Mox/index.html?C=D;O=A'\n",
      "\n",
      "gannet.fish.washing     [ <=>                ]  61.14K  --.-KB/s    in 0.001s  \n",
      "\n",
      "2019-03-19 08:03:31 (48.0 MB/s) - 'gannet.fish.washington.edu/spartina/2018-10-10-project-virginica-oa-Large-Files/2018-11-07-Bismark-Mox/index.html?C=D;O=A' saved [62605]\n",
      "\n",
      "Removing gannet.fish.washington.edu/spartina/2018-10-10-project-virginica-oa-Large-Files/2018-11-07-Bismark-Mox/index.html?C=D;O=A since it should be rejected.\n",
      "\n",
      "--2019-03-19 08:03:31--  http://gannet.fish.washington.edu/spartina/2018-10-10-project-virginica-oa-Large-Files/2018-11-07-Bismark-Mox/@eaDir/\n",
      "Reusing existing connection to gannet.fish.washington.edu:80.\n",
      "HTTP request sent, awaiting response... 200 OK\n",
      "Length: unspecified [text/html]\n",
      "Saving to: 'gannet.fish.washington.edu/spartina/2018-10-10-project-virginica-oa-Large-Files/2018-11-07-Bismark-Mox/@eaDir/index.html'\n",
      "\n",
      "gannet.fish.washing     [ <=>                ]  64.35K  --.-KB/s    in 0.001s  \n",
      "\n",
      "2019-03-19 08:03:31 (51.4 MB/s) - 'gannet.fish.washington.edu/spartina/2018-10-10-project-virginica-oa-Large-Files/2018-11-07-Bismark-Mox/@eaDir/index.html' saved [65897]\n",
      "\n",
      "Removing gannet.fish.washington.edu/spartina/2018-10-10-project-virginica-oa-Large-Files/2018-11-07-Bismark-Mox/@eaDir/index.html since it should be rejected.\n",
      "\n",
      "--2019-03-19 08:03:31--  http://gannet.fish.washington.edu/spartina/2018-10-10-project-virginica-oa-Large-Files/2018-11-07-Bismark-Mox/zr2096_1_s1_R1_val_1_bismark_bt2_pe.deduplicated.bismark.cov.gz\n",
      "Reusing existing connection to gannet.fish.washington.edu:80.\n",
      "HTTP request sent, awaiting response... 200 OK\n",
      "Length: 28329823 (27M) [application/x-gzip]\n",
      "Saving to: 'gannet.fish.washington.edu/spartina/2018-10-10-project-virginica-oa-Large-Files/2018-11-07-Bismark-Mox/zr2096_1_s1_R1_val_1_bismark_bt2_pe.deduplicated.bismark.cov.gz'\n",
      "\n",
      "gannet.fish.washing 100%[===================>]  27.02M   110MB/s    in 0.2s    \n",
      "\n",
      "2019-03-19 08:03:31 (110 MB/s) - 'gannet.fish.washington.edu/spartina/2018-10-10-project-virginica-oa-Large-Files/2018-11-07-Bismark-Mox/zr2096_1_s1_R1_val_1_bismark_bt2_pe.deduplicated.bismark.cov.gz' saved [28329823/28329823]\n",
      "\n",
      "--2019-03-19 08:03:31--  http://gannet.fish.washington.edu/spartina/2018-10-10-project-virginica-oa-Large-Files/2018-11-07-Bismark-Mox/zr2096_2_s1_R1_val_1_bismark_bt2_pe.deduplicated.bismark.cov.gz\n",
      "Reusing existing connection to gannet.fish.washington.edu:80.\n",
      "HTTP request sent, awaiting response... 200 OK\n",
      "Length: 35812992 (34M) [application/x-gzip]\n",
      "Saving to: 'gannet.fish.washington.edu/spartina/2018-10-10-project-virginica-oa-Large-Files/2018-11-07-Bismark-Mox/zr2096_2_s1_R1_val_1_bismark_bt2_pe.deduplicated.bismark.cov.gz'\n",
      "\n",
      "gannet.fish.washing 100%[===================>]  34.15M  73.2MB/s    in 0.5s    \n",
      "\n",
      "2019-03-19 08:03:32 (73.2 MB/s) - 'gannet.fish.washington.edu/spartina/2018-10-10-project-virginica-oa-Large-Files/2018-11-07-Bismark-Mox/zr2096_2_s1_R1_val_1_bismark_bt2_pe.deduplicated.bismark.cov.gz' saved [35812992/35812992]\n",
      "\n",
      "--2019-03-19 08:03:32--  http://gannet.fish.washington.edu/spartina/2018-10-10-project-virginica-oa-Large-Files/2018-11-07-Bismark-Mox/zr2096_3_s1_R1_val_1_bismark_bt2_pe.deduplicated.bismark.cov.gz\n",
      "Reusing existing connection to gannet.fish.washington.edu:80.\n",
      "HTTP request sent, awaiting response... 200 OK\n",
      "Length: 32597990 (31M) [application/x-gzip]\n",
      "Saving to: 'gannet.fish.washington.edu/spartina/2018-10-10-project-virginica-oa-Large-Files/2018-11-07-Bismark-Mox/zr2096_3_s1_R1_val_1_bismark_bt2_pe.deduplicated.bismark.cov.gz'\n",
      "\n",
      "gannet.fish.washing 100%[===================>]  31.09M  77.3MB/s    in 0.4s    \n",
      "\n",
      "2019-03-19 08:03:32 (77.3 MB/s) - 'gannet.fish.washington.edu/spartina/2018-10-10-project-virginica-oa-Large-Files/2018-11-07-Bismark-Mox/zr2096_3_s1_R1_val_1_bismark_bt2_pe.deduplicated.bismark.cov.gz' saved [32597990/32597990]\n",
      "\n",
      "--2019-03-19 08:03:32--  http://gannet.fish.washington.edu/spartina/2018-10-10-project-virginica-oa-Large-Files/2018-11-07-Bismark-Mox/zr2096_4_s1_R1_val_1_bismark_bt2_pe.deduplicated.bismark.cov.gz\n",
      "Reusing existing connection to gannet.fish.washington.edu:80.\n",
      "HTTP request sent, awaiting response... 200 OK\n",
      "Length: 38294540 (37M) [application/x-gzip]\n",
      "Saving to: 'gannet.fish.washington.edu/spartina/2018-10-10-project-virginica-oa-Large-Files/2018-11-07-Bismark-Mox/zr2096_4_s1_R1_val_1_bismark_bt2_pe.deduplicated.bismark.cov.gz'\n",
      "\n",
      "gannet.fish.washing 100%[===================>]  36.52M  86.0MB/s    in 0.4s    \n",
      "\n",
      "2019-03-19 08:03:33 (86.0 MB/s) - 'gannet.fish.washington.edu/spartina/2018-10-10-project-virginica-oa-Large-Files/2018-11-07-Bismark-Mox/zr2096_4_s1_R1_val_1_bismark_bt2_pe.deduplicated.bismark.cov.gz' saved [38294540/38294540]\n",
      "\n",
      "--2019-03-19 08:03:33--  http://gannet.fish.washington.edu/spartina/2018-10-10-project-virginica-oa-Large-Files/2018-11-07-Bismark-Mox/zr2096_5_s1_R1_val_1_bismark_bt2_pe.deduplicated.bismark.cov.gz\n",
      "Reusing existing connection to gannet.fish.washington.edu:80.\n",
      "HTTP request sent, awaiting response... 200 OK\n",
      "Length: 42883763 (41M) [application/x-gzip]\n",
      "Saving to: 'gannet.fish.washington.edu/spartina/2018-10-10-project-virginica-oa-Large-Files/2018-11-07-Bismark-Mox/zr2096_5_s1_R1_val_1_bismark_bt2_pe.deduplicated.bismark.cov.gz'\n",
      "\n",
      "gannet.fish.washing 100%[===================>]  40.90M  99.8MB/s    in 0.4s    \n",
      "\n",
      "2019-03-19 08:03:33 (99.8 MB/s) - 'gannet.fish.washington.edu/spartina/2018-10-10-project-virginica-oa-Large-Files/2018-11-07-Bismark-Mox/zr2096_5_s1_R1_val_1_bismark_bt2_pe.deduplicated.bismark.cov.gz' saved [42883763/42883763]\n",
      "\n",
      "--2019-03-19 08:03:33--  http://gannet.fish.washington.edu/spartina/2018-10-10-project-virginica-oa-Large-Files/2018-11-07-Bismark-Mox/zr2096_6_s1_R1_val_1_bismark_bt2_pe.deduplicated.bismark.cov.gz\n",
      "Reusing existing connection to gannet.fish.washington.edu:80.\n",
      "HTTP request sent, awaiting response... 200 OK\n",
      "Length: 37380127 (36M) [application/x-gzip]\n",
      "Saving to: 'gannet.fish.washington.edu/spartina/2018-10-10-project-virginica-oa-Large-Files/2018-11-07-Bismark-Mox/zr2096_6_s1_R1_val_1_bismark_bt2_pe.deduplicated.bismark.cov.gz'\n",
      "\n",
      "gannet.fish.washing 100%[===================>]  35.65M   102MB/s    in 0.4s    \n",
      "\n",
      "2019-03-19 08:03:34 (102 MB/s) - 'gannet.fish.washington.edu/spartina/2018-10-10-project-virginica-oa-Large-Files/2018-11-07-Bismark-Mox/zr2096_6_s1_R1_val_1_bismark_bt2_pe.deduplicated.bismark.cov.gz' saved [37380127/37380127]\n",
      "\n",
      "--2019-03-19 08:03:34--  http://gannet.fish.washington.edu/spartina/2018-10-10-project-virginica-oa-Large-Files/2018-11-07-Bismark-Mox/zr2096_7_s1_R1_val_1_bismark_bt2_pe.deduplicated.bismark.cov.gz\n",
      "Reusing existing connection to gannet.fish.washington.edu:80.\n",
      "HTTP request sent, awaiting response... 200 OK\n",
      "Length: 39925200 (38M) [application/x-gzip]\n",
      "Saving to: 'gannet.fish.washington.edu/spartina/2018-10-10-project-virginica-oa-Large-Files/2018-11-07-Bismark-Mox/zr2096_7_s1_R1_val_1_bismark_bt2_pe.deduplicated.bismark.cov.gz'\n",
      "\n",
      "gannet.fish.washing 100%[===================>]  38.08M   102MB/s    in 0.4s    \n",
      "\n",
      "2019-03-19 08:03:34 (102 MB/s) - 'gannet.fish.washington.edu/spartina/2018-10-10-project-virginica-oa-Large-Files/2018-11-07-Bismark-Mox/zr2096_7_s1_R1_val_1_bismark_bt2_pe.deduplicated.bismark.cov.gz' saved [39925200/39925200]\n",
      "\n",
      "--2019-03-19 08:03:34--  http://gannet.fish.washington.edu/spartina/2018-10-10-project-virginica-oa-Large-Files/2018-11-07-Bismark-Mox/zr2096_8_s1_R1_val_1_bismark_bt2_pe.deduplicated.bismark.cov.gz\n",
      "Reusing existing connection to gannet.fish.washington.edu:80.\n",
      "HTTP request sent, awaiting response... 200 OK\n",
      "Length: 38558083 (37M) [application/x-gzip]\n",
      "Saving to: 'gannet.fish.washington.edu/spartina/2018-10-10-project-virginica-oa-Large-Files/2018-11-07-Bismark-Mox/zr2096_8_s1_R1_val_1_bismark_bt2_pe.deduplicated.bismark.cov.gz'\n",
      "\n",
      "gannet.fish.washing 100%[===================>]  36.77M  91.8MB/s    in 0.4s    \n",
      "\n",
      "2019-03-19 08:03:35 (91.8 MB/s) - 'gannet.fish.washington.edu/spartina/2018-10-10-project-virginica-oa-Large-Files/2018-11-07-Bismark-Mox/zr2096_8_s1_R1_val_1_bismark_bt2_pe.deduplicated.bismark.cov.gz' saved [38558083/38558083]\n",
      "\n",
      "--2019-03-19 08:03:35--  http://gannet.fish.washington.edu/spartina/2018-10-10-project-virginica-oa-Large-Files/2018-11-07-Bismark-Mox/zr2096_9_s1_R1_val_1_bismark_bt2_pe.deduplicated.bismark.cov.gz\n",
      "Reusing existing connection to gannet.fish.washington.edu:80.\n",
      "HTTP request sent, awaiting response... 200 OK\n",
      "Length: 32715335 (31M) [application/x-gzip]\n",
      "Saving to: 'gannet.fish.washington.edu/spartina/2018-10-10-project-virginica-oa-Large-Files/2018-11-07-Bismark-Mox/zr2096_9_s1_R1_val_1_bismark_bt2_pe.deduplicated.bismark.cov.gz'\n",
      "\n",
      "gannet.fish.washing 100%[===================>]  31.20M  75.6MB/s    in 0.4s    \n",
      "\n",
      "2019-03-19 08:03:35 (75.6 MB/s) - 'gannet.fish.washington.edu/spartina/2018-10-10-project-virginica-oa-Large-Files/2018-11-07-Bismark-Mox/zr2096_9_s1_R1_val_1_bismark_bt2_pe.deduplicated.bismark.cov.gz' saved [32715335/32715335]\n",
      "\n",
      "--2019-03-19 08:03:35--  http://gannet.fish.washington.edu/spartina/2018-10-10-project-virginica-oa-Large-Files/2018-11-07-Bismark-Mox/zr2096_10_s1_R1_val_1_bismark_bt2_pe.deduplicated.bismark.cov.gz\n",
      "Reusing existing connection to gannet.fish.washington.edu:80.\n",
      "HTTP request sent, awaiting response... 200 OK\n",
      "Length: 30809584 (29M) [application/x-gzip]\n",
      "Saving to: 'gannet.fish.washington.edu/spartina/2018-10-10-project-virginica-oa-Large-Files/2018-11-07-Bismark-Mox/zr2096_10_s1_R1_val_1_bismark_bt2_pe.deduplicated.bismark.cov.gz'\n",
      "\n",
      "gannet.fish.washing 100%[===================>]  29.38M   107MB/s    in 0.3s    \n",
      "\n",
      "2019-03-19 08:03:35 (107 MB/s) - 'gannet.fish.washington.edu/spartina/2018-10-10-project-virginica-oa-Large-Files/2018-11-07-Bismark-Mox/zr2096_10_s1_R1_val_1_bismark_bt2_pe.deduplicated.bismark.cov.gz' saved [30809584/30809584]\n",
      "\n",
      "FINISHED --2019-03-19 08:03:35--\n",
      "Total wall clock time: 12s\n",
      "Downloaded: 16 files, 341M in 3.8s (90.5 MB/s)\n"
     ]
    }
   ],
   "source": [
    "#Download files from gannet. The files will be downloaded in the same directory structure they are in online.\n",
    "!wget -r -l1 --no-parent -A.deduplicated.bismark.cov.gz \\\n",
    "http://gannet.fish.washington.edu/spartina/2018-10-10-project-virginica-oa-Large-Files/2018-11-07-Bismark-Mox/"
   ]
  },
  {
   "cell_type": "code",
   "execution_count": 5,
   "metadata": {
    "collapsed": true
   },
   "outputs": [],
   "source": [
    "#Move all files from gannet folder to the current directory\n",
    "!mv gannet.fish.washington.edu/spartina/2018-10-10-project-virginica-oa-Large-Files/2018-11-07-Bismark-Mox/* ."
   ]
  },
  {
   "cell_type": "code",
   "execution_count": 6,
   "metadata": {
    "collapsed": false
   },
   "outputs": [
    {
     "name": "stdout",
     "output_type": "stream",
     "text": [
      "2019-03-18-Control-5x-CpG-Loci-Methylated.bed\r\n",
      "2019-03-18-Control-5x-CpG-Loci-Methylated.bedgraph\r\n",
      "2019-03-18-Control-5x-CpG-Loci-Sparsely-Methylated.bedgraph\r\n",
      "2019-03-18-Control-5x-CpG-Loci-Unmethylated.bedgraph\r\n",
      "2019-03-18-Control-5x-CpG-Loci.bedgraph\r\n",
      "2019-03-18-MethLoci-Exon.txt\r\n",
      "2019-03-18-MethLoci-Intron.txt\r\n",
      "2019-03-18-MethLoci-NoOverlaps.txt\r\n",
      "2019-03-18-MethLoci-Putative-Promoters.txt\r\n",
      "2019-03-18-MethLoci-TE-Cg.txt\r\n",
      "2019-03-18-MethLoci-mRNA.txt\r\n",
      "2019-03-18-S2-S3-5x-CpG-Loci.bedgraph\r\n",
      "2019-03-18-S2-S3-S4-5x-CpG-Loci.bedgraph\r\n",
      "2019-03-18-S2-S3-S4-S5-5x-CpG-Loci.bedgraph\r\n",
      "2019-03-18-S2-S3-S4-S5-S1-5x-CpG-Loci.bedgraph\r\n",
      "2019-03-18-Unique-Genes-in-MethLoci-mRNA-Overlap.txt\r\n",
      "\u001b[34m@eaDir\u001b[m\u001b[m\r\n",
      "\u001b[34mgannet.fish.washington.edu\u001b[m\u001b[m\r\n",
      "zr2096_10_s1_R1_val_1_bismark_bt2_pe.deduplicated.bismark.cov.gz\r\n",
      "zr2096_1_s1_R1_val_1_bismark_bt2_pe.deduplicated.bismark.cov.gz\r\n",
      "zr2096_2_s1_R1_val_1_bismark_bt2_pe.deduplicated.bismark.cov.gz\r\n",
      "zr2096_3_s1_R1_val_1_bismark_bt2_pe.deduplicated.bismark.cov.gz\r\n",
      "zr2096_4_s1_R1_val_1_bismark_bt2_pe.deduplicated.bismark.cov.gz\r\n",
      "zr2096_5_s1_R1_val_1_bismark_bt2_pe.deduplicated.bismark.cov.gz\r\n",
      "zr2096_6_s1_R1_val_1_bismark_bt2_pe.deduplicated.bismark.cov.gz\r\n",
      "zr2096_7_s1_R1_val_1_bismark_bt2_pe.deduplicated.bismark.cov.gz\r\n",
      "zr2096_8_s1_R1_val_1_bismark_bt2_pe.deduplicated.bismark.cov.gz\r\n",
      "zr2096_9_s1_R1_val_1_bismark_bt2_pe.deduplicated.bismark.cov.gz\r\n"
     ]
    }
   ],
   "source": [
    "#Confirm all files were moved\n",
    "!ls"
   ]
  },
  {
   "cell_type": "code",
   "execution_count": 7,
   "metadata": {
    "collapsed": true
   },
   "outputs": [],
   "source": [
    "#Remove the empty gannet directory\n",
    "!rm -r gannet.fish.washington.edu"
   ]
  },
  {
   "cell_type": "code",
   "execution_count": 8,
   "metadata": {
    "collapsed": true
   },
   "outputs": [],
   "source": [
    "#Unzip the coverage files\n",
    "!gunzip *cov.gz"
   ]
  },
  {
   "cell_type": "code",
   "execution_count": 9,
   "metadata": {
    "collapsed": false
   },
   "outputs": [
    {
     "name": "stdout",
     "output_type": "stream",
     "text": [
      "zr2096_10_s1_R1_val_1_bismark_bt2_pe.deduplicated.bismark.cov\r\n",
      "zr2096_1_s1_R1_val_1_bismark_bt2_pe.deduplicated.bismark.cov\r\n",
      "zr2096_2_s1_R1_val_1_bismark_bt2_pe.deduplicated.bismark.cov\r\n",
      "zr2096_3_s1_R1_val_1_bismark_bt2_pe.deduplicated.bismark.cov\r\n",
      "zr2096_4_s1_R1_val_1_bismark_bt2_pe.deduplicated.bismark.cov\r\n",
      "zr2096_5_s1_R1_val_1_bismark_bt2_pe.deduplicated.bismark.cov\r\n",
      "zr2096_6_s1_R1_val_1_bismark_bt2_pe.deduplicated.bismark.cov\r\n",
      "zr2096_7_s1_R1_val_1_bismark_bt2_pe.deduplicated.bismark.cov\r\n",
      "zr2096_8_s1_R1_val_1_bismark_bt2_pe.deduplicated.bismark.cov\r\n",
      "zr2096_9_s1_R1_val_1_bismark_bt2_pe.deduplicated.bismark.cov\r\n"
     ]
    }
   ],
   "source": [
    "#Confirm files were unzipped\n",
    "!ls *cov"
   ]
  },
  {
   "cell_type": "code",
   "execution_count": 10,
   "metadata": {
    "collapsed": false
   },
   "outputs": [
    {
     "name": "stdout",
     "output_type": "stream",
     "text": [
      "NC_007175.2\t49\t49\t0\t0\t5\r\n"
     ]
    }
   ],
   "source": [
    "#See what the file looks like. \n",
    "#Columns: <chromosome> <start position> <end position> <methylation percentage> <count methylated> <count unmethylated>\n",
    "!head -n 1 zr2096_10_s1_R1_val_1_bismark_bt2_pe.deduplicated.bismark.cov"
   ]
  },
  {
   "cell_type": "markdown",
   "metadata": {},
   "source": [
    "## 2. Count loci with 1x coverage"
   ]
  },
  {
   "cell_type": "markdown",
   "metadata": {},
   "source": [
    "Since I did an MBD enrichment, it's not likely that I have all 14,458,703 CpG motifs represented in my dataset. I want to know how many CpG loci have at least 1x coverage across all of my samples."
   ]
  },
  {
   "cell_type": "markdown",
   "metadata": {},
   "source": [
    "### 2a. Filter 1x loci"
   ]
  },
  {
   "cell_type": "code",
   "execution_count": 52,
   "metadata": {
    "collapsed": true
   },
   "outputs": [],
   "source": [
    "%%bash\n",
    "for f in *.cov\n",
    "do\n",
    "    awk '{print $1, $2-1, $2, $4, $5+$6}' ${f} | awk '{if ($5 >= 1) { print $1, $2-1, $2}}' \\\n",
    "> ${f}_1x.bedgraph\n",
    "done"
   ]
  },
  {
   "cell_type": "code",
   "execution_count": 53,
   "metadata": {
    "collapsed": false
   },
   "outputs": [
    {
     "name": "stdout",
     "output_type": "stream",
     "text": [
      "zr2096_10_s1_R1_val_1_bismark_bt2_pe.deduplicated.bismark.cov_1x.bedgraph\r\n",
      "zr2096_1_s1_R1_val_1_bismark_bt2_pe.deduplicated.bismark.cov_1x.bedgraph\r\n",
      "zr2096_2_s1_R1_val_1_bismark_bt2_pe.deduplicated.bismark.cov_1x.bedgraph\r\n",
      "zr2096_3_s1_R1_val_1_bismark_bt2_pe.deduplicated.bismark.cov_1x.bedgraph\r\n",
      "zr2096_4_s1_R1_val_1_bismark_bt2_pe.deduplicated.bismark.cov_1x.bedgraph\r\n",
      "zr2096_5_s1_R1_val_1_bismark_bt2_pe.deduplicated.bismark.cov_1x.bedgraph\r\n",
      "zr2096_6_s1_R1_val_1_bismark_bt2_pe.deduplicated.bismark.cov_1x.bedgraph\r\n",
      "zr2096_7_s1_R1_val_1_bismark_bt2_pe.deduplicated.bismark.cov_1x.bedgraph\r\n",
      "zr2096_8_s1_R1_val_1_bismark_bt2_pe.deduplicated.bismark.cov_1x.bedgraph\r\n",
      "zr2096_9_s1_R1_val_1_bismark_bt2_pe.deduplicated.bismark.cov_1x.bedgraph\r\n"
     ]
    }
   ],
   "source": [
    "#Confirm 1x files were created\n",
    "!ls *1x.bedgraph"
   ]
  },
  {
   "cell_type": "code",
   "execution_count": 58,
   "metadata": {
    "collapsed": false
   },
   "outputs": [
    {
     "name": "stdout",
     "output_type": "stream",
     "text": [
      "NC_007175.2 86 87\r\n",
      "NC_007175.2 145 146\r\n",
      "NC_007175.2 191 192\r\n",
      "NC_007175.2 244 245\r\n",
      "NC_007175.2 255 256\r\n",
      "NC_007175.2 262 263\r\n",
      "NC_007175.2 264 265\r\n",
      "NC_007175.2 330 331\r\n",
      "NC_007175.2 365 366\r\n",
      "NC_007175.2 471 472\r\n"
     ]
    }
   ],
   "source": [
    "#Check columns for one of the file. I only need the chromosome, start position, and stop position\n",
    "!head zr2096_1_s1_R1_val_1_bismark_bt2_pe.deduplicated.bismark.cov_1x.bedgraph"
   ]
  },
  {
   "cell_type": "code",
   "execution_count": 77,
   "metadata": {
    "collapsed": false
   },
   "outputs": [
    {
     "name": "stdout",
     "output_type": "stream",
     "text": [
      " 5248624 zr2096_10_s1_R1_val_1_bismark_bt2_pe.deduplicated.bismark.cov_1x.bedgraph\r\n"
     ]
    }
   ],
   "source": [
    "!wc -l zr2096_10_s1_R1_val_1_bismark_bt2_pe.deduplicated.bismark.cov_1x.bedgraph"
   ]
  },
  {
   "cell_type": "markdown",
   "metadata": {},
   "source": [
    "### 2b. Concatenate loci"
   ]
  },
  {
   "cell_type": "markdown",
   "metadata": {},
   "source": [
    "I'll use `cat` to \"rbind\" all loci. Then, I'll `sort` the output and pipe it into `uniq u` to get unique lines (chromosome, start position, stop position)."
   ]
  },
  {
   "cell_type": "code",
   "execution_count": 85,
   "metadata": {
    "collapsed": false
   },
   "outputs": [],
   "source": [
    "!cat *1x.bedgraph | sort | uniq -u > 2019-03-18-Unique-1x-CpGs.bedgraph"
   ]
  },
  {
   "cell_type": "code",
   "execution_count": 86,
   "metadata": {
    "collapsed": false
   },
   "outputs": [
    {
     "name": "stdout",
     "output_type": "stream",
     "text": [
      "NC_007175.2 10115 10116\r\n",
      "NC_007175.2 1019 1020\r\n",
      "NC_007175.2 10233 10234\r\n",
      "NC_007175.2 10236 10237\r\n",
      "NC_007175.2 10275 10276\r\n",
      "NC_007175.2 10277 10278\r\n",
      "NC_007175.2 10322 10323\r\n",
      "NC_007175.2 10340 10341\r\n",
      "NC_007175.2 10379 10380\r\n",
      "NC_007175.2 10422 10423\r\n"
     ]
    }
   ],
   "source": [
    "!head 2019-03-18-Unique-1x-CpGs.bedgraph"
   ]
  },
  {
   "cell_type": "code",
   "execution_count": 87,
   "metadata": {
    "collapsed": false
   },
   "outputs": [
    {
     "name": "stdout",
     "output_type": "stream",
     "text": [
      " 7041430 2019-03-18-Unique-1x-CpGs.bedgraph\r\n"
     ]
    }
   ],
   "source": [
    "!wc -l 2019-03-18-Unique-1x-CpGs.bedgraph"
   ]
  },
  {
   "cell_type": "markdown",
   "metadata": {},
   "source": [
    "## 3. Limit to 5x coverage"
   ]
  },
  {
   "cell_type": "markdown",
   "metadata": {},
   "source": [
    "For each coverage file, I want to retain all loci that have 5x coverage only. Using `awk`, I'll add the count methylated and unmethylated to get coverage. If that coverage is higher than 5, I'll redirect that information into a new file."
   ]
  },
  {
   "cell_type": "code",
   "execution_count": 14,
   "metadata": {
    "collapsed": true
   },
   "outputs": [],
   "source": [
    "#Remove samples from high pCO2 treatment\n",
    "!rm zr2096_6_s1_R1_val_1_bismark_bt2_pe.deduplicated.bismark.cov \\\n",
    "zr2096_7_s1_R1_val_1_bismark_bt2_pe.deduplicated.bismark.cov \\\n",
    "zr2096_8_s1_R1_val_1_bismark_bt2_pe.deduplicated.bismark.cov \\\n",
    "zr2096_9_s1_R1_val_1_bismark_bt2_pe.deduplicated.bismark.cov \\\n",
    "zr2096_10_s1_R1_val_1_bismark_bt2_pe.deduplicated.bismark.cov"
   ]
  },
  {
   "cell_type": "code",
   "execution_count": 15,
   "metadata": {
    "collapsed": false,
    "scrolled": true
   },
   "outputs": [
    {
     "name": "stdout",
     "output_type": "stream",
     "text": [
      "zr2096_1_s1_R1_val_1_bismark_bt2_pe.deduplicated.bismark.cov\r\n",
      "zr2096_2_s1_R1_val_1_bismark_bt2_pe.deduplicated.bismark.cov\r\n",
      "zr2096_3_s1_R1_val_1_bismark_bt2_pe.deduplicated.bismark.cov\r\n",
      "zr2096_4_s1_R1_val_1_bismark_bt2_pe.deduplicated.bismark.cov\r\n",
      "zr2096_5_s1_R1_val_1_bismark_bt2_pe.deduplicated.bismark.cov\r\n"
     ]
    }
   ],
   "source": [
    "#Confirm file removal\n",
    "!ls *cov"
   ]
  },
  {
   "cell_type": "code",
   "execution_count": 18,
   "metadata": {
    "collapsed": false
   },
   "outputs": [],
   "source": [
    "%%bash\n",
    "for f in *.cov\n",
    "do\n",
    "    awk '{print $1, $2-1, $2, $4, $5+$6}' ${f} | awk '{if ($5 >= 5) { print $1, $2-1, $2, $4 }}' \\\n",
    "> ${f}_5x.bedgraph\n",
    "done"
   ]
  },
  {
   "cell_type": "code",
   "execution_count": 21,
   "metadata": {
    "collapsed": false
   },
   "outputs": [
    {
     "name": "stdout",
     "output_type": "stream",
     "text": [
      "zr2096_1_s1_R1_val_1_bismark_bt2_pe.deduplicated.bismark.cov_5x.bedgraph\r\n",
      "zr2096_2_s1_R1_val_1_bismark_bt2_pe.deduplicated.bismark.cov_5x.bedgraph\r\n",
      "zr2096_3_s1_R1_val_1_bismark_bt2_pe.deduplicated.bismark.cov_5x.bedgraph\r\n",
      "zr2096_4_s1_R1_val_1_bismark_bt2_pe.deduplicated.bismark.cov_5x.bedgraph\r\n",
      "zr2096_5_s1_R1_val_1_bismark_bt2_pe.deduplicated.bismark.cov_5x.bedgraph\r\n"
     ]
    }
   ],
   "source": [
    "#Confirm files were created\n",
    "!ls *5x.bedgraph"
   ]
  },
  {
   "cell_type": "code",
   "execution_count": 20,
   "metadata": {
    "collapsed": false
   },
   "outputs": [
    {
     "name": "stdout",
     "output_type": "stream",
     "text": [
      "NC_007175.2 1579 1580 0\r\n",
      "NC_007175.2 2180 2181 0\r\n",
      "NC_007175.2 3383 3384 0\r\n",
      "NC_007175.2 3394 3395 0\r\n",
      "NC_007175.2 5413 5414 0\r\n",
      "NC_007175.2 5415 5416 0\r\n",
      "NC_007175.2 5426 5427 0\r\n",
      "NC_007175.2 11101 11102 0\r\n",
      "NC_007175.2 12881 12882 0\r\n",
      "NC_007175.2 12985 12986 20\r\n"
     ]
    }
   ],
   "source": [
    "#Check columns for one of the file\n",
    "!head zr2096_1_s1_R1_val_1_bismark_bt2_pe.deduplicated.bismark.cov_5x.bedgraph"
   ]
  },
  {
   "cell_type": "markdown",
   "metadata": {},
   "source": [
    "## 4. Concatenate 5x loci for all samples"
   ]
  },
  {
   "cell_type": "markdown",
   "metadata": {},
   "source": [
    "Now that I know how many loci have at least 5x coverage in each control sample, I want to see which loci have 5x coverage across all samples. \n",
    "\n",
    "I will use a series of `join` commands to merge sample information. Since I don't want to retain loci unless they have entries in all samples, I don't need to do any type of outer join. Since all loci have a defined start and stop position, I can use the argument `-j12` to merge samples by the start position (second field; `2`) in the first file (`-j1`)."
   ]
  },
  {
   "cell_type": "code",
   "execution_count": 27,
   "metadata": {
    "collapsed": false
   },
   "outputs": [],
   "source": [
    "#Merge information from samples 2 and 3\n",
    "!join -1 2 -2 2 zr2096_2_s1_R1_val_1_bismark_bt2_pe.deduplicated.bismark.cov_5x.bedgraph \\\n",
    "zr2096_3_s1_R1_val_1_bismark_bt2_pe.deduplicated.bismark.cov_5x.bedgraph \\\n",
    "> 2019-03-18-S2-S3-5x-CpG-Loci.bedgraph"
   ]
  },
  {
   "cell_type": "code",
   "execution_count": 28,
   "metadata": {
    "collapsed": false
   },
   "outputs": [
    {
     "name": "stdout",
     "output_type": "stream",
     "text": [
      "47 NC_007175.2 48 0 NC_007175.2 48 12.5\r\n",
      "49 NC_007175.2 50 0 NC_007175.2 50 10\r\n",
      "86 NC_007175.2 87 0 NC_007175.2 87 0\r\n",
      "87 NC_007175.2 88 0 NC_007175.2 88 0\r\n",
      "145 NC_007175.2 146 3.7037037037037 NC_007175.2 146 0\r\n",
      "191 NC_007175.2 192 3.125 NC_007175.2 192 0\r\n",
      "244 NC_007175.2 245 2.53164556962025 NC_007175.2 245 0\r\n",
      "255 NC_007175.2 256 3.2258064516129 NC_007175.2 256 0\r\n",
      "262 NC_007175.2 263 0 NC_007175.2 263 0\r\n",
      "264 NC_007175.2 265 0.909090909090909 NC_007175.2 265 4.16666666666667\r\n"
     ]
    }
   ],
   "source": [
    "#Confirm merge occured\n",
    "!head 2019-03-18-S2-S3-5x-CpG-Loci.bedgraph"
   ]
  },
  {
   "cell_type": "code",
   "execution_count": 32,
   "metadata": {
    "collapsed": true
   },
   "outputs": [],
   "source": [
    "#Merge sample 4 with 2 and 3\n",
    "!join -1 1 -2 2 2019-03-18-S2-S3-5x-CpG-Loci.bedgraph \\\n",
    "zr2096_4_s1_R1_val_1_bismark_bt2_pe.deduplicated.bismark.cov_5x.bedgraph \\\n",
    "> 2019-03-18-S2-S3-S4-5x-CpG-Loci.bedgraph"
   ]
  },
  {
   "cell_type": "code",
   "execution_count": 33,
   "metadata": {
    "collapsed": false
   },
   "outputs": [
    {
     "name": "stdout",
     "output_type": "stream",
     "text": [
      "47 NC_007175.2 48 0 NC_007175.2 48 12.5 NC_007175.2 48 0\r\n",
      "49 NC_007175.2 50 0 NC_007175.2 50 10 NC_007175.2 50 0\r\n",
      "86 NC_007175.2 87 0 NC_007175.2 87 0 NC_007175.2 87 0\r\n",
      "87 NC_007175.2 88 0 NC_007175.2 88 0 NC_007175.2 88 0\r\n",
      "145 NC_007175.2 146 3.7037037037037 NC_007175.2 146 0 NC_007175.2 146 1.66666666666667\r\n",
      "191 NC_007175.2 192 3.125 NC_007175.2 192 0 NC_007175.2 192 0\r\n",
      "244 NC_007175.2 245 2.53164556962025 NC_007175.2 245 0 NC_007175.2 245 0\r\n",
      "255 NC_007175.2 256 3.2258064516129 NC_007175.2 256 0 NC_007175.2 256 2.89855072463768\r\n",
      "262 NC_007175.2 263 0 NC_007175.2 263 0 NC_007175.2 263 1.20481927710843\r\n",
      "264 NC_007175.2 265 0.909090909090909 NC_007175.2 265 4.16666666666667 NC_007175.2 265 2.4390243902439\r\n"
     ]
    }
   ],
   "source": [
    "#Confirm merge occured\n",
    "!head 2019-03-18-S2-S3-S4-5x-CpG-Loci.bedgraph"
   ]
  },
  {
   "cell_type": "code",
   "execution_count": 34,
   "metadata": {
    "collapsed": true
   },
   "outputs": [],
   "source": [
    "#Merge sample 5 with 2-4\n",
    "!join -1 1 -2 2 2019-03-18-S2-S3-S4-5x-CpG-Loci.bedgraph \\\n",
    "zr2096_5_s1_R1_val_1_bismark_bt2_pe.deduplicated.bismark.cov_5x.bedgraph \\\n",
    "> 2019-03-18-S2-S3-S4-S5-5x-CpG-Loci.bedgraph"
   ]
  },
  {
   "cell_type": "code",
   "execution_count": 35,
   "metadata": {
    "collapsed": false
   },
   "outputs": [
    {
     "name": "stdout",
     "output_type": "stream",
     "text": [
      "47 NC_007175.2 48 0 NC_007175.2 48 12.5 NC_007175.2 48 0 NC_007175.2 48 1.66666666666667\r\n",
      "49 NC_007175.2 50 0 NC_007175.2 50 10 NC_007175.2 50 0 NC_007175.2 50 7.8125\r\n",
      "86 NC_007175.2 87 0 NC_007175.2 87 0 NC_007175.2 87 0 NC_007175.2 87 1.37931034482759\r\n",
      "87 NC_007175.2 88 0 NC_007175.2 88 0 NC_007175.2 88 0 NC_007175.2 88 1.28205128205128\r\n",
      "145 NC_007175.2 146 3.7037037037037 NC_007175.2 146 0 NC_007175.2 146 1.66666666666667 NC_007175.2 146 1.55038759689922\r\n",
      "191 NC_007175.2 192 3.125 NC_007175.2 192 0 NC_007175.2 192 0 NC_007175.2 192 2.85714285714286\r\n",
      "244 NC_007175.2 245 2.53164556962025 NC_007175.2 245 0 NC_007175.2 245 0 NC_007175.2 245 3.05676855895197\r\n",
      "255 NC_007175.2 256 3.2258064516129 NC_007175.2 256 0 NC_007175.2 256 2.89855072463768 NC_007175.2 256 0\r\n",
      "262 NC_007175.2 263 0 NC_007175.2 263 0 NC_007175.2 263 1.20481927710843 NC_007175.2 263 1.29032258064516\r\n",
      "264 NC_007175.2 265 0.909090909090909 NC_007175.2 265 4.16666666666667 NC_007175.2 265 2.4390243902439 NC_007175.2 265 0.943396226415094\r\n"
     ]
    }
   ],
   "source": [
    "#Confirm merge occured\n",
    "!head 2019-03-18-S2-S3-S4-S5-5x-CpG-Loci.bedgraph"
   ]
  },
  {
   "cell_type": "code",
   "execution_count": 42,
   "metadata": {
    "collapsed": true
   },
   "outputs": [],
   "source": [
    "#Merge sample 1 with 2-5\n",
    "!join -1 1 -2 2 2019-03-18-S2-S3-S4-S5-5x-CpG-Loci.bedgraph \\\n",
    "zr2096_1_s1_R1_val_1_bismark_bt2_pe.deduplicated.bismark.cov_5x.bedgraph \\\n",
    "> 2019-03-18-S2-S3-S4-S5-S1-5x-CpG-Loci.bedgraph"
   ]
  },
  {
   "cell_type": "code",
   "execution_count": 49,
   "metadata": {
    "collapsed": false
   },
   "outputs": [
    {
     "name": "stdout",
     "output_type": "stream",
     "text": [
      "9998181 NC_035780.1 9998182 85.7142857142857 NC_035780.1 9998182 86.8421052631579 NC_035780.1 9998182 93.75 NC_035780.1 9998182 84.6153846153846 NC_035780.1 9998182 88.8888888888889\r\n",
      "9998210 NC_035780.1 9998211 88.8888888888889 NC_035780.1 9998211 90.9090909090909 NC_035780.1 9998211 83.3333333333333 NC_035780.1 9998211 90 NC_035780.1 9998211 83.3333333333333\r\n",
      "9999496 NC_035780.1 9999497 87.5 NC_035780.1 9999497 80 NC_035780.1 9999497 100 NC_035780.1 9999497 61.5384615384615 NC_035780.1 9999497 100\r\n",
      "9999553 NC_035780.1 9999554 86.6666666666667 NC_035780.1 9999554 50 NC_035780.1 9999554 85.7142857142857 NC_035780.1 9999554 90 NC_035780.1 9999554 81.8181818181818\r\n",
      "9999564 NC_035780.1 9999565 100 NC_035780.1 9999565 55.5555555555556 NC_035780.1 9999565 88.8888888888889 NC_035780.1 9999565 87.8787878787879 NC_035780.1 9999565 91.6666666666667\r\n",
      "9999607 NC_035780.1 9999608 91.6666666666667 NC_035780.1 9999608 63.6363636363636 NC_035780.1 9999608 60 NC_035780.1 9999608 80 NC_035780.1 9999608 100\r\n",
      "9999618 NC_035780.1 9999619 94.1176470588235 NC_035780.1 9999619 75 NC_035780.1 9999619 85.1851851851852 NC_035780.1 9999619 95.1219512195122 NC_035780.1 9999619 71.4285714285714\r\n",
      "9999672 NC_035780.1 9999673 86.046511627907 NC_035780.1 9999673 90.9090909090909 NC_035780.1 9999673 84.375 NC_035780.1 9999673 88.8888888888889 NC_035780.1 9999673 96.2962962962963\r\n",
      "9999700 NC_035780.1 9999701 88.135593220339 NC_035780.1 9999701 11.1111111111111 NC_035780.1 9999701 95.6521739130435 NC_035780.1 9999701 84.9557522123894 NC_035780.1 9999701 97.2222222222222\r\n",
      "9999753 NC_035780.1 9999754 86.9565217391304 NC_035780.1 9999754 31.25 NC_035780.1 9999754 78.5714285714286 NC_035780.1 9999754 80 NC_035780.1 9999754 84.6153846153846\r\n"
     ]
    }
   ],
   "source": [
    "#Confirm merge occured\n",
    "!head 2019-03-18-S2-S3-S4-S5-S1-5x-CpG-Loci.bedgraph"
   ]
  },
  {
   "cell_type": "code",
   "execution_count": 47,
   "metadata": {
    "collapsed": true
   },
   "outputs": [],
   "source": [
    "#Remove fields with redundant information\n",
    "!awk '{print $2, $1, $3, $16, $4, $7, $10, $13}' 2019-03-18-S2-S3-S4-S5-S1-5x-CpG-Loci.bedgraph \\\n",
    "> 2019-03-18-Control-5x-CpG-Loci.bedgraph"
   ]
  },
  {
   "cell_type": "code",
   "execution_count": 48,
   "metadata": {
    "collapsed": false
   },
   "outputs": [
    {
     "name": "stdout",
     "output_type": "stream",
     "text": [
      "NC_035780.1 9998181 9998182 88.8888888888889 85.7142857142857 86.8421052631579 93.75 84.6153846153846\r\n",
      "NC_035780.1 9998210 9998211 83.3333333333333 88.8888888888889 90.9090909090909 83.3333333333333 90\r\n",
      "NC_035780.1 9999496 9999497 100 87.5 80 100 61.5384615384615\r\n",
      "NC_035780.1 9999553 9999554 81.8181818181818 86.6666666666667 50 85.7142857142857 90\r\n",
      "NC_035780.1 9999564 9999565 91.6666666666667 100 55.5555555555556 88.8888888888889 87.8787878787879\r\n",
      "NC_035780.1 9999607 9999608 100 91.6666666666667 63.6363636363636 60 80\r\n",
      "NC_035780.1 9999618 9999619 71.4285714285714 94.1176470588235 75 85.1851851851852 95.1219512195122\r\n",
      "NC_035780.1 9999672 9999673 96.2962962962963 86.046511627907 90.9090909090909 84.375 88.8888888888889\r\n",
      "NC_035780.1 9999700 9999701 97.2222222222222 88.135593220339 11.1111111111111 95.6521739130435 84.9557522123894\r\n",
      "NC_035780.1 9999753 9999754 84.6153846153846 86.9565217391304 31.25 78.5714285714286 80\r\n"
     ]
    }
   ],
   "source": [
    "#Confirm file changes\n",
    "#Columns: <chromosome> <start> <stop> <sample 1 %methylation> <sample 2> <sample 3> <sample 4> <sample 5>\n",
    "!head 2019-03-18-Control-5x-CpG-Loci.bedgraph"
   ]
  },
  {
   "cell_type": "code",
   "execution_count": 52,
   "metadata": {
    "collapsed": false
   },
   "outputs": [
    {
     "name": "stdout",
     "output_type": "stream",
     "text": [
      "   63827 2019-03-18-Control-5x-CpG-Loci.bedgraph\r\n"
     ]
    }
   ],
   "source": [
    "#Count number of loci\n",
    "!wc -l 2019-03-18-Control-5x-CpG-Loci.bedgraph"
   ]
  },
  {
   "cell_type": "markdown",
   "metadata": {},
   "source": [
    "## 5. Identify methylated loci"
   ]
  },
  {
   "cell_type": "markdown",
   "metadata": {},
   "source": [
    "Olson and Roberts (2014) define the following categories for CpG methylation:\n",
    "\n",
    "- Methylated (50% methylation and above)\n",
    "- Sparsely methylated (0-50% methylated)\n",
    "- Unmethylated (0% methylation)\n",
    "\n",
    "I will slightly modify this since I have multiple samples:\n",
    "\n",
    "- Methylated (50% methylation and above)\n",
    "- Sparsely methylated (10-50% methylated)\n",
    "- Unmethylated (10% methylation and below)\n",
    "\n",
    "By summing the percent methylation columns from each sample, I can identify methylated CpG loci:\n",
    "\n",
    "- Methylated (sum ≥ 250)\n",
    "- Sparsely methylated (0 < sum < 250)\n",
    "- Ummethylated (sum ≤ 50)"
   ]
  },
  {
   "cell_type": "markdown",
   "metadata": {},
   "source": [
    "### 5a. Methylated loci"
   ]
  },
  {
   "cell_type": "code",
   "execution_count": 77,
   "metadata": {
    "collapsed": true
   },
   "outputs": [],
   "source": [
    "%%bash\n",
    "awk '{print $1, $2, $3, $4+$5+$6+$7+$8}' 2019-03-18-Control-5x-CpG-Loci.bedgraph \\\n",
    "| awk '{if ($4 >= 250) { print $1, $2, $3, $4+$5+$6+$7+$8 }}' \\\n",
    "> 2019-03-18-Control-5x-CpG-Loci-Methylated.bedgraph"
   ]
  },
  {
   "cell_type": "code",
   "execution_count": 78,
   "metadata": {
    "collapsed": false
   },
   "outputs": [
    {
     "name": "stdout",
     "output_type": "stream",
     "text": [
      "NC_035780.1 9998181 9998182 439.811\r\n",
      "NC_035780.1 9998210 9998211 436.465\r\n",
      "NC_035780.1 9999496 9999497 429.038\r\n",
      "NC_035780.1 9999553 9999554 394.199\r\n",
      "NC_035780.1 9999564 9999565 423.99\r\n",
      "NC_035780.1 9999607 9999608 395.303\r\n",
      "NC_035780.1 9999618 9999619 420.853\r\n",
      "NC_035780.1 9999672 9999673 446.516\r\n",
      "NC_035780.1 9999700 9999701 377.077\r\n",
      "NC_035780.1 9999753 9999754 361.393\r\n"
     ]
    }
   ],
   "source": [
    "#Confirm methylated loci were saved\n",
    "!head 2019-03-18-Control-5x-CpG-Loci-Methylated.bedgraph"
   ]
  },
  {
   "cell_type": "code",
   "execution_count": 91,
   "metadata": {
    "collapsed": false
   },
   "outputs": [
    {
     "name": "stdout",
     "output_type": "stream",
     "text": [
      "   60552 2019-03-18-Control-5x-CpG-Loci-Methylated.bedgraph\r\n"
     ]
    }
   ],
   "source": [
    "#Count methylated loci\n",
    "!wc -l 2019-03-18-Control-5x-CpG-Loci-Methylated.bedgraph"
   ]
  },
  {
   "cell_type": "markdown",
   "metadata": {},
   "source": [
    "### 5b. Sparsely methylated loci"
   ]
  },
  {
   "cell_type": "code",
   "execution_count": 80,
   "metadata": {
    "collapsed": false
   },
   "outputs": [],
   "source": [
    "%%bash\n",
    "awk '{print $1, $2, $3, $4+$5+$6+$7+$8}' 2019-03-18-Control-5x-CpG-Loci.bedgraph \\\n",
    "| awk '{if ($4 < 250) { print $1, $2, $3, $4+$5+$6+$7+$8 }}' \\\n",
    "| awk '{if ($4 > 50) { print $1, $2, $3, $4+$5+$6+$7+$8 }}' \\\n",
    "> 2019-03-18-Control-5x-CpG-Loci-Sparsely-Methylated.bedgraph"
   ]
  },
  {
   "cell_type": "code",
   "execution_count": 81,
   "metadata": {
    "collapsed": false
   },
   "outputs": [
    {
     "name": "stdout",
     "output_type": "stream",
     "text": [
      "NC_035782.1 10000240 10000241 163.835\r\n",
      "NC_035782.1 10000241 10000242 211.057\r\n",
      "NC_035782.1 10000258 10000259 139.353\r\n",
      "NC_035782.1 10000259 10000260 159.116\r\n",
      "NC_035782.1 10000290 10000291 162.222\r\n",
      "NC_035782.1 10000291 10000292 152.043\r\n",
      "NC_035782.1 10000460 10000461 93.1705\r\n",
      "NC_035782.1 10000529 10000530 159.852\r\n",
      "NC_035782.1 10000810 10000811 82.5068\r\n",
      "NC_035782.1 10000954 10000955 57.2039\r\n"
     ]
    }
   ],
   "source": [
    "#Confirm sparsely methylated loci were saved\n",
    "!head 2019-03-18-Control-5x-CpG-Loci-Sparsely-Methylated.bedgraph"
   ]
  },
  {
   "cell_type": "code",
   "execution_count": 90,
   "metadata": {
    "collapsed": false
   },
   "outputs": [
    {
     "name": "stdout",
     "output_type": "stream",
     "text": [
      "    2796 2019-03-18-Control-5x-CpG-Loci-Sparsely-Methylated.bedgraph\r\n"
     ]
    }
   ],
   "source": [
    "#Count sparsely methylated loci\n",
    "!wc -l 2019-03-18-Control-5x-CpG-Loci-Sparsely-Methylated.bedgraph"
   ]
  },
  {
   "cell_type": "markdown",
   "metadata": {},
   "source": [
    "### 5c. Unmethylated loci"
   ]
  },
  {
   "cell_type": "code",
   "execution_count": 83,
   "metadata": {
    "collapsed": true
   },
   "outputs": [],
   "source": [
    "%%bash\n",
    "awk '{print $1, $2, $3, $4+$5+$6+$7+$8}' 2019-03-18-Control-5x-CpG-Loci.bedgraph \\\n",
    "| awk '{if ($4 <= 50) { print $1, $2, $3, $4+$5+$6+$7+$8 }}' \\\n",
    "> 2019-03-18-Control-5x-CpG-Loci-Unmethylated.bedgraph"
   ]
  },
  {
   "cell_type": "code",
   "execution_count": 84,
   "metadata": {
    "collapsed": false
   },
   "outputs": [
    {
     "name": "stdout",
     "output_type": "stream",
     "text": [
      "NC_035782.1 10001428 10001429 0\r\n",
      "NC_035782.1 10001429 10001430 14.2857\r\n",
      "NC_035782.1 10001448 10001449 0\r\n",
      "NC_035782.1 10001449 10001450 20.5357\r\n",
      "NC_035782.1 10001473 10001474 9.09091\r\n",
      "NC_035782.1 10001475 10001476 20.202\r\n",
      "NC_035782.1 10013203 10013204 0\r\n",
      "NC_035782.1 10020330 10020331 8.33333\r\n",
      "NC_035782.1 10020331 10020332 11.1111\r\n",
      "NC_035782.1 10020475 10020476 25.0256\r\n"
     ]
    }
   ],
   "source": [
    "#Confirm unmethylated loci were saved\n",
    "!head 2019-03-18-Control-5x-CpG-Loci-Unmethylated.bedgraph"
   ]
  },
  {
   "cell_type": "code",
   "execution_count": 89,
   "metadata": {
    "collapsed": false
   },
   "outputs": [
    {
     "name": "stdout",
     "output_type": "stream",
     "text": [
      "     479 2019-03-18-Control-5x-CpG-Loci-Unmethylated.bedgraph\r\n"
     ]
    }
   ],
   "source": [
    "#Count unmethylated loci\n",
    "!wc -l 2019-03-18-Control-5x-CpG-Loci-Unmethylated.bedgraph"
   ]
  },
  {
   "cell_type": "markdown",
   "metadata": {},
   "source": [
    "## 6. Location of methylated loci"
   ]
  },
  {
   "cell_type": "markdown",
   "metadata": {},
   "source": [
    "My final step is to characterize the location of methylated loci in the genome. I will use `intersectBed` to find overlaps between methylated loci and exons, introns, mRNA coding regions, transposable elements, and putative promoter regions."
   ]
  },
  {
   "cell_type": "markdown",
   "metadata": {},
   "source": [
    "### 6a. Created `.bed` file"
   ]
  },
  {
   "cell_type": "code",
   "execution_count": 104,
   "metadata": {
    "collapsed": true
   },
   "outputs": [],
   "source": [
    "%%bash\n",
    "awk '{print $1\"\\t\"$2\"\\t\"$3}' 2019-03-18-Control-5x-CpG-Loci-Methylated.bedgraph \\\n",
    "> 2019-03-18-Control-5x-CpG-Loci-Methylated.bed"
   ]
  },
  {
   "cell_type": "code",
   "execution_count": 105,
   "metadata": {
    "collapsed": false
   },
   "outputs": [
    {
     "name": "stdout",
     "output_type": "stream",
     "text": [
      "NC_035780.1\t9998181\t9998182\r\n",
      "NC_035780.1\t9998210\t9998211\r\n",
      "NC_035780.1\t9999496\t9999497\r\n",
      "NC_035780.1\t9999553\t9999554\r\n",
      "NC_035780.1\t9999564\t9999565\r\n",
      "NC_035780.1\t9999607\t9999608\r\n",
      "NC_035780.1\t9999618\t9999619\r\n",
      "NC_035780.1\t9999672\t9999673\r\n",
      "NC_035780.1\t9999700\t9999701\r\n",
      "NC_035780.1\t9999753\t9999754\r\n"
     ]
    }
   ],
   "source": [
    "#Confirm file creation\n",
    "!head 2019-03-18-Control-5x-CpG-Loci-Methylated.bed"
   ]
  },
  {
   "cell_type": "markdown",
   "metadata": {},
   "source": [
    "### 6b. Set variable paths"
   ]
  },
  {
   "cell_type": "code",
   "execution_count": 69,
   "metadata": {
    "collapsed": true
   },
   "outputs": [],
   "source": [
    "bedtoolsDirectory = \"/Users/Shared/bioinformatics/bedtools2/bin/\""
   ]
  },
  {
   "cell_type": "code",
   "execution_count": 106,
   "metadata": {
    "collapsed": true
   },
   "outputs": [],
   "source": [
    "methylatedLoci = \"2019-03-18-Control-5x-CpG-Loci-Methylated.bed\""
   ]
  },
  {
   "cell_type": "code",
   "execution_count": 71,
   "metadata": {
    "collapsed": true
   },
   "outputs": [],
   "source": [
    "exonList = \"../2018-11-01-DML-and-DMR-Analysis/C_virginica-3.0_Gnomon_exon.bed\""
   ]
  },
  {
   "cell_type": "code",
   "execution_count": 72,
   "metadata": {
    "collapsed": true
   },
   "outputs": [],
   "source": [
    "intronList = \"../2018-11-01-DML-and-DMR-Analysis/C_virginica-3.0_intron.bed\""
   ]
  },
  {
   "cell_type": "code",
   "execution_count": 73,
   "metadata": {
    "collapsed": true
   },
   "outputs": [],
   "source": [
    "mRNAList = \"../2018-11-01-DML-and-DMR-Analysis/C_virginica-3.0_Gnomon_mRNA.gff3\""
   ]
  },
  {
   "cell_type": "code",
   "execution_count": 74,
   "metadata": {
    "collapsed": true
   },
   "outputs": [],
   "source": [
    "transposableElementsCg = \"../2018-11-01-DML-and-DMR-Analysis/C_virginica-3.0_TE-Cg.gff\""
   ]
  },
  {
   "cell_type": "code",
   "execution_count": 75,
   "metadata": {
    "collapsed": true
   },
   "outputs": [],
   "source": [
    "putativePromoters = \"../2018-11-01-DML-and-DMR-Analysis/2018-11-14-Flanking-Analysis/2018-11-15-mRNA-Upstream-Flanks.bed\""
   ]
  },
  {
   "cell_type": "markdown",
   "metadata": {},
   "source": [
    "### 6c. Exons"
   ]
  },
  {
   "cell_type": "code",
   "execution_count": 107,
   "metadata": {
    "collapsed": false,
    "scrolled": true
   },
   "outputs": [
    {
     "name": "stdout",
     "output_type": "stream",
     "text": [
      "   40127\n",
      "methylated loci overlaps with exons\n"
     ]
    }
   ],
   "source": [
    "! {bedtoolsDirectory}intersectBed \\\n",
    "-u \\\n",
    "-a {methylatedLoci} \\\n",
    "-b {exonList} \\\n",
    "| wc -l\n",
    "!echo \"methylated loci overlaps with exons\""
   ]
  },
  {
   "cell_type": "code",
   "execution_count": 108,
   "metadata": {
    "collapsed": true
   },
   "outputs": [],
   "source": [
    "! {bedtoolsDirectory}intersectBed \\\n",
    "-wb \\\n",
    "-a {methylatedLoci} \\\n",
    "-b {exonList} \\\n",
    "> 2019-03-18-MethLoci-Exon.txt"
   ]
  },
  {
   "cell_type": "code",
   "execution_count": 109,
   "metadata": {
    "collapsed": false
   },
   "outputs": [
    {
     "name": "stdout",
     "output_type": "stream",
     "text": [
      "NC_035780.1\t9998181\t9998182\tNC_035780.1\t9998161\t9998305\r\n",
      "NC_035780.1\t9998181\t9998182\tNC_035780.1\t9998161\t9998305\r\n",
      "NC_035780.1\t9998181\t9998182\tNC_035780.1\t9998161\t9998305\r\n",
      "NC_035780.1\t9998181\t9998182\tNC_035780.1\t9998161\t9998305\r\n",
      "NC_035780.1\t9998181\t9998182\tNC_035780.1\t9998161\t9998305\r\n",
      "NC_035780.1\t9998181\t9998182\tNC_035780.1\t9998161\t9998305\r\n",
      "NC_035780.1\t9998181\t9998182\tNC_035780.1\t9998161\t9998305\r\n",
      "NC_035780.1\t9998181\t9998182\tNC_035780.1\t9998161\t9998305\r\n",
      "NC_035780.1\t9998181\t9998182\tNC_035780.1\t9998161\t9998305\r\n",
      "NC_035780.1\t9998181\t9998182\tNC_035780.1\t9998161\t9998305\r\n"
     ]
    }
   ],
   "source": [
    "!head 2019-03-18-MethLoci-Exon.txt"
   ]
  },
  {
   "cell_type": "markdown",
   "metadata": {},
   "source": [
    "### 6d. Introns"
   ]
  },
  {
   "cell_type": "code",
   "execution_count": 110,
   "metadata": {
    "collapsed": false,
    "scrolled": true
   },
   "outputs": [
    {
     "name": "stdout",
     "output_type": "stream",
     "text": [
      "   17510\n",
      "methylated loci overlaps with introns\n"
     ]
    }
   ],
   "source": [
    "! {bedtoolsDirectory}intersectBed \\\n",
    "-u \\\n",
    "-a {methylatedLoci} \\\n",
    "-b {intronList} \\\n",
    "| wc -l\n",
    "!echo \"methylated loci overlaps with introns\""
   ]
  },
  {
   "cell_type": "code",
   "execution_count": 111,
   "metadata": {
    "collapsed": true
   },
   "outputs": [],
   "source": [
    "! {bedtoolsDirectory}intersectBed \\\n",
    "-wb \\\n",
    "-a {methylatedLoci} \\\n",
    "-b {exonList} \\\n",
    "> 2019-03-18-MethLoci-Intron.txt"
   ]
  },
  {
   "cell_type": "code",
   "execution_count": 112,
   "metadata": {
    "collapsed": false
   },
   "outputs": [
    {
     "name": "stdout",
     "output_type": "stream",
     "text": [
      "NC_035780.1\t9998181\t9998182\tNC_035780.1\t9998161\t9998305\r\n",
      "NC_035780.1\t9998181\t9998182\tNC_035780.1\t9998161\t9998305\r\n",
      "NC_035780.1\t9998181\t9998182\tNC_035780.1\t9998161\t9998305\r\n",
      "NC_035780.1\t9998181\t9998182\tNC_035780.1\t9998161\t9998305\r\n",
      "NC_035780.1\t9998181\t9998182\tNC_035780.1\t9998161\t9998305\r\n",
      "NC_035780.1\t9998181\t9998182\tNC_035780.1\t9998161\t9998305\r\n",
      "NC_035780.1\t9998181\t9998182\tNC_035780.1\t9998161\t9998305\r\n",
      "NC_035780.1\t9998181\t9998182\tNC_035780.1\t9998161\t9998305\r\n",
      "NC_035780.1\t9998181\t9998182\tNC_035780.1\t9998161\t9998305\r\n",
      "NC_035780.1\t9998181\t9998182\tNC_035780.1\t9998161\t9998305\r\n"
     ]
    }
   ],
   "source": [
    "!head 2019-03-18-MethLoci-Intron.txt"
   ]
  },
  {
   "cell_type": "markdown",
   "metadata": {},
   "source": [
    "### 6e. mRNA"
   ]
  },
  {
   "cell_type": "code",
   "execution_count": 113,
   "metadata": {
    "collapsed": false,
    "scrolled": true
   },
   "outputs": [
    {
     "name": "stdout",
     "output_type": "stream",
     "text": [
      "   56055\n",
      "methylated loci overlaps with mRNA coding regions\n"
     ]
    }
   ],
   "source": [
    "! {bedtoolsDirectory}intersectBed \\\n",
    "-u \\\n",
    "-a {methylatedLoci} \\\n",
    "-b {mRNAList} \\\n",
    "| wc -l\n",
    "!echo \"methylated loci overlaps with mRNA coding regions\""
   ]
  },
  {
   "cell_type": "code",
   "execution_count": 114,
   "metadata": {
    "collapsed": true
   },
   "outputs": [],
   "source": [
    "! {bedtoolsDirectory}intersectBed \\\n",
    "-wb \\\n",
    "-a {methylatedLoci} \\\n",
    "-b {mRNAList} \\\n",
    "> 2019-03-18-MethLoci-mRNA.txt"
   ]
  },
  {
   "cell_type": "code",
   "execution_count": 116,
   "metadata": {
    "collapsed": false
   },
   "outputs": [
    {
     "name": "stdout",
     "output_type": "stream",
     "text": [
      "NC_035780.1\t9998181\t9998182\tNC_035780.1\tGnomon\tmRNA\t9996253\t10055348\t.\t-\t.\tID=rna1029;Parent=gene603;Dbxref=GeneID:111118239,Genbank:XM_022457639.1;Name=XM_022457639.1;gbkey=mRNA;gene=LOC111118239;model_evidence=Supporting evidence includes similarity to: 1 EST%2C 1 Protein%2C and 100%25 coverage of the annotated genomic feature by RNAseq alignments%2C including 8 samples with support for all annotated introns;product=myelin regulatory factor-like%2C transcript variant X7;transcript_id=XM_022457639.1\r\n"
     ]
    }
   ],
   "source": [
    "!head -n 1 2019-03-18-MethLoci-mRNA.txt"
   ]
  },
  {
   "cell_type": "code",
   "execution_count": 117,
   "metadata": {
    "collapsed": true
   },
   "outputs": [],
   "source": [
    "! cut -f12 2019-03-18-MethLoci-mRNA.txt| sort | uniq -c > 2019-03-18-Unique-Genes-in-MethLoci-mRNA-Overlap.txt"
   ]
  },
  {
   "cell_type": "code",
   "execution_count": 119,
   "metadata": {
    "collapsed": false
   },
   "outputs": [
    {
     "name": "stdout",
     "output_type": "stream",
     "text": [
      "  16 ID=rna1029;Parent=gene603;Dbxref=GeneID:111118239,Genbank:XM_022457639.1;Name=XM_022457639.1;gbkey=mRNA;gene=LOC111118239;model_evidence=Supporting evidence includes similarity to: 1 EST%2C 1 Protein%2C and 100%25 coverage of the annotated genomic feature by RNAseq alignments%2C including 8 samples with support for all annotated introns;product=myelin regulatory factor-like%2C transcript variant X7;transcript_id=XM_022457639.1\r\n"
     ]
    }
   ],
   "source": [
    "!head -n 1 2019-03-18-Unique-Genes-in-MethLoci-mRNA-Overlap.txt"
   ]
  },
  {
   "cell_type": "code",
   "execution_count": 120,
   "metadata": {
    "collapsed": false
   },
   "outputs": [
    {
     "name": "stdout",
     "output_type": "stream",
     "text": [
      "    3083 2019-03-18-Unique-Genes-in-MethLoci-mRNA-Overlap.txt\r\n"
     ]
    }
   ],
   "source": [
    "!wc -l 2019-03-18-Unique-Genes-in-MethLoci-mRNA-Overlap.txt"
   ]
  },
  {
   "cell_type": "markdown",
   "metadata": {},
   "source": [
    "Methylated loci overlap with 3083 unique genes."
   ]
  },
  {
   "cell_type": "markdown",
   "metadata": {},
   "source": [
    "### 6f. Transposable elements (*C. gigas* only)"
   ]
  },
  {
   "cell_type": "code",
   "execution_count": 121,
   "metadata": {
    "collapsed": false,
    "scrolled": true
   },
   "outputs": [
    {
     "name": "stdout",
     "output_type": "stream",
     "text": [
      "    4687\n",
      "methylated loci overlaps with transposable elements (Cg)\n"
     ]
    }
   ],
   "source": [
    "! {bedtoolsDirectory}intersectBed \\\n",
    "-u \\\n",
    "-a {methylatedLoci} \\\n",
    "-b {transposableElementsCg} \\\n",
    "| wc -l\n",
    "!echo \"methylated loci overlaps with transposable elements (Cg)\""
   ]
  },
  {
   "cell_type": "code",
   "execution_count": 122,
   "metadata": {
    "collapsed": true
   },
   "outputs": [],
   "source": [
    "! {bedtoolsDirectory}intersectBed \\\n",
    "-wb \\\n",
    "-a {methylatedLoci} \\\n",
    "-b {transposableElementsCg} \\\n",
    "> 2019-03-18-MethLoci-TE-Cg.txt"
   ]
  },
  {
   "cell_type": "code",
   "execution_count": 123,
   "metadata": {
    "collapsed": false
   },
   "outputs": [
    {
     "name": "stdout",
     "output_type": "stream",
     "text": [
      "NC_035782.1\t10000963\t10000964\tNC_035782.1\tRepeatMasker\tsimilarity\t10000919\t10000964\t12.6\t+\t.\tTarget \"Motif:(TC)n\" 1 47\r\n",
      "NC_035782.1\t10021455\t10021456\tNC_035782.1\tRepeatMasker\tsimilarity\t10021438\t10021489\t22.7\t+\t.\tTarget \"Motif:(CT)n\" 1 49\r\n",
      "NC_035782.1\t10021477\t10021478\tNC_035782.1\tRepeatMasker\tsimilarity\t10021438\t10021489\t22.7\t+\t.\tTarget \"Motif:(CT)n\" 1 49\r\n",
      "NC_035782.1\t10021482\t10021483\tNC_035782.1\tRepeatMasker\tsimilarity\t10021438\t10021489\t22.7\t+\t.\tTarget \"Motif:(CT)n\" 1 49\r\n",
      "NC_035782.1\t10165983\t10165984\tNC_035782.1\tRepeatMasker\tsimilarity\t10165973\t10166033\t11.0\t+\t.\tTarget \"Motif:(CAGGAG)n\" 1 65\r\n",
      "NC_035782.1\t10839154\t10839155\tNC_035782.1\tRepeatMasker\tsimilarity\t10839119\t10839210\t12.0\t-\t.\tTarget \"Motif:DNA5-10_CGi\" 1 93\r\n",
      "NC_035782.1\t10839176\t10839177\tNC_035782.1\tRepeatMasker\tsimilarity\t10839119\t10839210\t12.0\t-\t.\tTarget \"Motif:DNA5-10_CGi\" 1 93\r\n",
      "NC_035782.1\t10839184\t10839185\tNC_035782.1\tRepeatMasker\tsimilarity\t10839119\t10839210\t12.0\t-\t.\tTarget \"Motif:DNA5-10_CGi\" 1 93\r\n",
      "NC_035782.1\t12368387\t12368388\tNC_035782.1\tRepeatMasker\tsimilarity\t12368282\t12368590\t19.2\t+\t.\tTarget \"Motif:Mariner-13N1_CGi\" 1 322\r\n",
      "NC_035782.1\t12368395\t12368396\tNC_035782.1\tRepeatMasker\tsimilarity\t12368282\t12368590\t19.2\t+\t.\tTarget \"Motif:Mariner-13N1_CGi\" 1 322\r\n"
     ]
    }
   ],
   "source": [
    "!head 2019-03-18-MethLoci-TE-Cg.txt"
   ]
  },
  {
   "cell_type": "markdown",
   "metadata": {},
   "source": [
    "### 6g. No overlaps"
   ]
  },
  {
   "cell_type": "code",
   "execution_count": 129,
   "metadata": {
    "collapsed": false
   },
   "outputs": [
    {
     "name": "stdout",
     "output_type": "stream",
     "text": [
      "    2278\n",
      "methylated loci do not overlap with exons, introns, or transposable elements (Cg)\n"
     ]
    }
   ],
   "source": [
    "! {bedtoolsDirectory}intersectBed \\\n",
    "-v \\\n",
    "-a {methylatedLoci} \\\n",
    "-b {exonList} {intronList} {transposableElementsCg} \\\n",
    "| wc -l\n",
    "!echo \"methylated loci do not overlap with exons, introns, or transposable elements (Cg)\""
   ]
  },
  {
   "cell_type": "code",
   "execution_count": 130,
   "metadata": {
    "collapsed": true
   },
   "outputs": [],
   "source": [
    "! {bedtoolsDirectory}intersectBed \\\n",
    "-v \\\n",
    "-a {methylatedLoci} \\\n",
    "-b {exonList} {intronList} {transposableElementsCg} \\\n",
    "> 2019-03-18-MethLoci-NoOverlaps.txt"
   ]
  },
  {
   "cell_type": "code",
   "execution_count": 131,
   "metadata": {
    "collapsed": false
   },
   "outputs": [
    {
     "name": "stdout",
     "output_type": "stream",
     "text": [
      "NC_035782.1\t10092965\t10092966\r\n",
      "NC_035782.1\t10092973\t10092974\r\n",
      "NC_035782.1\t10092984\t10092985\r\n",
      "NC_035782.1\t10423372\t10423373\r\n",
      "NC_035782.1\t10423378\t10423379\r\n",
      "NC_035782.1\t10423386\t10423387\r\n",
      "NC_035782.1\t10423399\t10423400\r\n",
      "NC_035782.1\t11522802\t11522803\r\n",
      "NC_035782.1\t11838550\t11838551\r\n",
      "NC_035782.1\t11838551\t11838552\r\n"
     ]
    }
   ],
   "source": [
    "!head 2019-03-18-MethLoci-NoOverlaps.txt"
   ]
  },
  {
   "cell_type": "markdown",
   "metadata": {},
   "source": [
    "### 6h. Putative promoters"
   ]
  },
  {
   "cell_type": "code",
   "execution_count": 124,
   "metadata": {
    "collapsed": false,
    "scrolled": true
   },
   "outputs": [
    {
     "name": "stdout",
     "output_type": "stream",
     "text": [
      "    1221\n",
      "methylated loci overlaps with putative promoters\n"
     ]
    }
   ],
   "source": [
    "! {bedtoolsDirectory}intersectBed \\\n",
    "-u \\\n",
    "-a {methylatedLoci} \\\n",
    "-b {putativePromoters} \\\n",
    "| wc -l\n",
    "!echo \"methylated loci overlaps with putative promoters\""
   ]
  },
  {
   "cell_type": "code",
   "execution_count": 125,
   "metadata": {
    "collapsed": true
   },
   "outputs": [],
   "source": [
    "! {bedtoolsDirectory}intersectBed \\\n",
    "-wb \\\n",
    "-a {methylatedLoci} \\\n",
    "-b {putativePromoters} \\\n",
    "> 2019-03-18-MethLoci-Putative-Promoters.txt"
   ]
  },
  {
   "cell_type": "code",
   "execution_count": 126,
   "metadata": {
    "collapsed": false,
    "scrolled": true
   },
   "outputs": [
    {
     "name": "stdout",
     "output_type": "stream",
     "text": [
      "NC_035782.1\t10000997\t10000998\tNC_035782.1\tGnomon\tmRNA\t10000970\t10001969\t.\t+\t.\tID=rna14476;Parent=gene8575;Dbxref=GeneID:111125101,Genbank:XM_022468573.1;Name=XM_022468573.1;gbkey=mRNA;gene=LOC111125101;model_evidence=Supporting evidence includes similarity to: 45 Proteins%2C and 100%25 coverage of the annotated genomic feature by RNAseq alignments%2C including 12 samples with support for all annotated introns;product=hyaluronan mediated motility receptor-like%2C transcript variant X2;transcript_id=XM_022468573.1\r\n",
      "NC_035782.1\t10000997\t10000998\tNC_035782.1\tGnomon\tmRNA\t10000970\t10001969\t.\t+\t.\tID=rna14477;Parent=gene8575;Dbxref=GeneID:111125101,Genbank:XM_022468572.1;Name=XM_022468572.1;gbkey=mRNA;gene=LOC111125101;model_evidence=Supporting evidence includes similarity to: 45 Proteins%2C and 100%25 coverage of the annotated genomic feature by RNAseq alignments%2C including 10 samples with support for all annotated introns;product=hyaluronan mediated motility receptor-like%2C transcript variant X1;transcript_id=XM_022468572.1\r\n",
      "NC_035782.1\t10001148\t10001149\tNC_035782.1\tGnomon\tmRNA\t10000970\t10001969\t.\t+\t.\tID=rna14476;Parent=gene8575;Dbxref=GeneID:111125101,Genbank:XM_022468573.1;Name=XM_022468573.1;gbkey=mRNA;gene=LOC111125101;model_evidence=Supporting evidence includes similarity to: 45 Proteins%2C and 100%25 coverage of the annotated genomic feature by RNAseq alignments%2C including 12 samples with support for all annotated introns;product=hyaluronan mediated motility receptor-like%2C transcript variant X2;transcript_id=XM_022468573.1\r\n",
      "NC_035782.1\t10001148\t10001149\tNC_035782.1\tGnomon\tmRNA\t10000970\t10001969\t.\t+\t.\tID=rna14477;Parent=gene8575;Dbxref=GeneID:111125101,Genbank:XM_022468572.1;Name=XM_022468572.1;gbkey=mRNA;gene=LOC111125101;model_evidence=Supporting evidence includes similarity to: 45 Proteins%2C and 100%25 coverage of the annotated genomic feature by RNAseq alignments%2C including 10 samples with support for all annotated introns;product=hyaluronan mediated motility receptor-like%2C transcript variant X1;transcript_id=XM_022468572.1\r\n",
      "NC_035782.1\t10001180\t10001181\tNC_035782.1\tGnomon\tmRNA\t10000970\t10001969\t.\t+\t.\tID=rna14476;Parent=gene8575;Dbxref=GeneID:111125101,Genbank:XM_022468573.1;Name=XM_022468573.1;gbkey=mRNA;gene=LOC111125101;model_evidence=Supporting evidence includes similarity to: 45 Proteins%2C and 100%25 coverage of the annotated genomic feature by RNAseq alignments%2C including 12 samples with support for all annotated introns;product=hyaluronan mediated motility receptor-like%2C transcript variant X2;transcript_id=XM_022468573.1\r\n",
      "NC_035782.1\t10001180\t10001181\tNC_035782.1\tGnomon\tmRNA\t10000970\t10001969\t.\t+\t.\tID=rna14477;Parent=gene8575;Dbxref=GeneID:111125101,Genbank:XM_022468572.1;Name=XM_022468572.1;gbkey=mRNA;gene=LOC111125101;model_evidence=Supporting evidence includes similarity to: 45 Proteins%2C and 100%25 coverage of the annotated genomic feature by RNAseq alignments%2C including 10 samples with support for all annotated introns;product=hyaluronan mediated motility receptor-like%2C transcript variant X1;transcript_id=XM_022468572.1\r\n",
      "NC_035782.1\t10001181\t10001182\tNC_035782.1\tGnomon\tmRNA\t10000970\t10001969\t.\t+\t.\tID=rna14476;Parent=gene8575;Dbxref=GeneID:111125101,Genbank:XM_022468573.1;Name=XM_022468573.1;gbkey=mRNA;gene=LOC111125101;model_evidence=Supporting evidence includes similarity to: 45 Proteins%2C and 100%25 coverage of the annotated genomic feature by RNAseq alignments%2C including 12 samples with support for all annotated introns;product=hyaluronan mediated motility receptor-like%2C transcript variant X2;transcript_id=XM_022468573.1\r\n",
      "NC_035782.1\t10001181\t10001182\tNC_035782.1\tGnomon\tmRNA\t10000970\t10001969\t.\t+\t.\tID=rna14477;Parent=gene8575;Dbxref=GeneID:111125101,Genbank:XM_022468572.1;Name=XM_022468572.1;gbkey=mRNA;gene=LOC111125101;model_evidence=Supporting evidence includes similarity to: 45 Proteins%2C and 100%25 coverage of the annotated genomic feature by RNAseq alignments%2C including 10 samples with support for all annotated introns;product=hyaluronan mediated motility receptor-like%2C transcript variant X1;transcript_id=XM_022468572.1\r\n",
      "NC_035782.1\t10001184\t10001185\tNC_035782.1\tGnomon\tmRNA\t10000970\t10001969\t.\t+\t.\tID=rna14476;Parent=gene8575;Dbxref=GeneID:111125101,Genbank:XM_022468573.1;Name=XM_022468573.1;gbkey=mRNA;gene=LOC111125101;model_evidence=Supporting evidence includes similarity to: 45 Proteins%2C and 100%25 coverage of the annotated genomic feature by RNAseq alignments%2C including 12 samples with support for all annotated introns;product=hyaluronan mediated motility receptor-like%2C transcript variant X2;transcript_id=XM_022468573.1\r\n",
      "NC_035782.1\t10001184\t10001185\tNC_035782.1\tGnomon\tmRNA\t10000970\t10001969\t.\t+\t.\tID=rna14477;Parent=gene8575;Dbxref=GeneID:111125101,Genbank:XM_022468572.1;Name=XM_022468572.1;gbkey=mRNA;gene=LOC111125101;model_evidence=Supporting evidence includes similarity to: 45 Proteins%2C and 100%25 coverage of the annotated genomic feature by RNAseq alignments%2C including 10 samples with support for all annotated introns;product=hyaluronan mediated motility receptor-like%2C transcript variant X1;transcript_id=XM_022468572.1\r\n"
     ]
    }
   ],
   "source": [
    "!head 2019-03-18-MethLoci-Putative-Promoters.txt"
   ]
  }
 ],
 "metadata": {
  "anaconda-cloud": {},
  "kernelspec": {
   "display_name": "Python [default]",
   "language": "python",
   "name": "python3"
  },
  "language_info": {
   "codemirror_mode": {
    "name": "ipython",
    "version": 3
   },
   "file_extension": ".py",
   "mimetype": "text/x-python",
   "name": "python",
   "nbconvert_exporter": "python",
   "pygments_lexer": "ipython3",
   "version": "3.5.2"
  }
 },
 "nbformat": 4,
 "nbformat_minor": 1
}
