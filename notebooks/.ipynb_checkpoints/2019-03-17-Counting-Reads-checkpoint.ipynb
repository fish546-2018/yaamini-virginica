{
 "cells": [
  {
   "cell_type": "markdown",
   "metadata": {},
   "source": [
    "# Counting Reads\n",
    "\n",
    "In this notebook, I'll count the number of reads in both untrimmed and trimmed *C. virgincia* gonad sequence data from Illumina.\n",
    "\n",
    "1. Untrimmed files\n",
    "2. Trimmed files"
   ]
  },
  {
   "cell_type": "markdown",
   "metadata": {},
   "source": [
    "## 0. Prepare for analyses"
   ]
  },
  {
   "cell_type": "markdown",
   "metadata": {},
   "source": [
    "### 0a. Set working directory"
   ]
  },
  {
   "cell_type": "code",
   "execution_count": 1,
   "metadata": {
    "collapsed": false
   },
   "outputs": [
    {
     "data": {
      "text/plain": [
       "'/Users/yaamini/Documents/yaamini-virginica/notebooks'"
      ]
     },
     "execution_count": 1,
     "metadata": {},
     "output_type": "execute_result"
    }
   ],
   "source": [
    "pwd"
   ]
  },
  {
   "cell_type": "code",
   "execution_count": 4,
   "metadata": {
    "collapsed": false
   },
   "outputs": [
    {
     "name": "stdout",
     "output_type": "stream",
     "text": [
      "/Users/yaamini/Documents/yaamini-virginica/data\n"
     ]
    }
   ],
   "source": [
    "cd ../data/"
   ]
  },
  {
   "cell_type": "code",
   "execution_count": 5,
   "metadata": {
    "collapsed": false
   },
   "outputs": [],
   "source": [
    "!mkdir 2019-03-17-Counting-Reads"
   ]
  },
  {
   "cell_type": "code",
   "execution_count": 6,
   "metadata": {
    "collapsed": false
   },
   "outputs": [
    {
     "name": "stdout",
     "output_type": "stream",
     "text": [
      "/Users/yaamini/Documents/yaamini-virginica/data/2019-03-17-Counting-Reads\n"
     ]
    }
   ],
   "source": [
    "cd 2019-03-17-Counting-Reads/"
   ]
  },
  {
   "cell_type": "markdown",
   "metadata": {},
   "source": [
    "## 1. Untrimmed files"
   ]
  },
  {
   "cell_type": "markdown",
   "metadata": {},
   "source": [
    "### 1a. Download files"
   ]
  },
  {
   "cell_type": "code",
   "execution_count": 8,
   "metadata": {
    "collapsed": false
   },
   "outputs": [
    {
     "name": "stdout",
     "output_type": "stream",
     "text": [
      "--2019-03-17 15:11:06--  http://owl.fish.washington.edu/nightingales/C_virginica/\n",
      "Resolving owl.fish.washington.edu... 128.95.149.83\n",
      "Connecting to owl.fish.washington.edu|128.95.149.83|:80... connected.\n",
      "HTTP request sent, awaiting response... 200 OK\n",
      "Length: unspecified [text/html]\n",
      "Saving to: 'owl.fish.washington.edu/nightingales/C_virginica/index.html'\n",
      "\n",
      "owl.fish.washington     [ <=>                ]  21.97K  --.-KB/s    in 0.001s  \n",
      "\n",
      "2019-03-17 15:11:06 (38.8 MB/s) - 'owl.fish.washington.edu/nightingales/C_virginica/index.html' saved [22501]\n",
      "\n",
      "Loading robots.txt; please ignore errors.\n",
      "--2019-03-17 15:11:06--  http://owl.fish.washington.edu/robots.txt\n",
      "Reusing existing connection to owl.fish.washington.edu:80.\n",
      "HTTP request sent, awaiting response... 404 Not Found\n",
      "2019-03-17 15:11:06 ERROR 404: Not Found.\n",
      "\n",
      "Removing owl.fish.washington.edu/nightingales/C_virginica/index.html since it should be rejected.\n",
      "\n",
      "--2019-03-17 15:11:06--  http://owl.fish.washington.edu/nightingales/C_virginica/?C=N;O=D\n",
      "Reusing existing connection to owl.fish.washington.edu:80.\n",
      "HTTP request sent, awaiting response... 200 OK\n",
      "Length: unspecified [text/html]\n",
      "Saving to: 'owl.fish.washington.edu/nightingales/C_virginica/index.html?C=N;O=D'\n",
      "\n",
      "owl.fish.washington     [ <=>                ]  21.97K  --.-KB/s    in 0.001s  \n",
      "\n",
      "2019-03-17 15:11:06 (39.1 MB/s) - 'owl.fish.washington.edu/nightingales/C_virginica/index.html?C=N;O=D' saved [22501]\n",
      "\n",
      "Removing owl.fish.washington.edu/nightingales/C_virginica/index.html?C=N;O=D since it should be rejected.\n",
      "\n",
      "--2019-03-17 15:11:06--  http://owl.fish.washington.edu/nightingales/C_virginica/?C=M;O=A\n",
      "Reusing existing connection to owl.fish.washington.edu:80.\n",
      "HTTP request sent, awaiting response... 200 OK\n",
      "Length: unspecified [text/html]\n",
      "Saving to: 'owl.fish.washington.edu/nightingales/C_virginica/index.html?C=M;O=A'\n",
      "\n",
      "owl.fish.washington     [ <=>                ]  21.97K  --.-KB/s    in 0.001s  \n",
      "\n",
      "2019-03-17 15:11:06 (18.7 MB/s) - 'owl.fish.washington.edu/nightingales/C_virginica/index.html?C=M;O=A' saved [22501]\n",
      "\n",
      "Removing owl.fish.washington.edu/nightingales/C_virginica/index.html?C=M;O=A since it should be rejected.\n",
      "\n",
      "--2019-03-17 15:11:06--  http://owl.fish.washington.edu/nightingales/C_virginica/?C=S;O=A\n",
      "Reusing existing connection to owl.fish.washington.edu:80.\n",
      "HTTP request sent, awaiting response... 200 OK\n",
      "Length: unspecified [text/html]\n",
      "Saving to: 'owl.fish.washington.edu/nightingales/C_virginica/index.html?C=S;O=A'\n",
      "\n",
      "owl.fish.washington     [ <=>                ]  21.97K  --.-KB/s    in 0.001s  \n",
      "\n",
      "2019-03-17 15:11:06 (20.6 MB/s) - 'owl.fish.washington.edu/nightingales/C_virginica/index.html?C=S;O=A' saved [22501]\n",
      "\n",
      "Removing owl.fish.washington.edu/nightingales/C_virginica/index.html?C=S;O=A since it should be rejected.\n",
      "\n",
      "--2019-03-17 15:11:06--  http://owl.fish.washington.edu/nightingales/C_virginica/?C=D;O=A\n",
      "Reusing existing connection to owl.fish.washington.edu:80.\n",
      "HTTP request sent, awaiting response... 200 OK\n",
      "Length: unspecified [text/html]\n",
      "Saving to: 'owl.fish.washington.edu/nightingales/C_virginica/index.html?C=D;O=A'\n",
      "\n",
      "owl.fish.washington     [ <=>                ]  21.97K  --.-KB/s    in 0.002s  \n",
      "\n",
      "2019-03-17 15:11:06 (12.6 MB/s) - 'owl.fish.washington.edu/nightingales/C_virginica/index.html?C=D;O=A' saved [22501]\n",
      "\n",
      "Removing owl.fish.washington.edu/nightingales/C_virginica/index.html?C=D;O=A since it should be rejected.\n",
      "\n",
      "--2019-03-17 15:11:06--  http://owl.fish.washington.edu/nightingales/C_virginica/@eaDir/\n",
      "Reusing existing connection to owl.fish.washington.edu:80.\n",
      "HTTP request sent, awaiting response... 200 OK\n",
      "Length: 4570 (4.5K) [text/html]\n",
      "Saving to: 'owl.fish.washington.edu/nightingales/C_virginica/@eaDir/index.html'\n",
      "\n",
      "owl.fish.washington 100%[===================>]   4.46K  --.-KB/s    in 0s      \n",
      "\n",
      "2019-03-17 15:11:07 (59.7 MB/s) - 'owl.fish.washington.edu/nightingales/C_virginica/@eaDir/index.html' saved [4570/4570]\n",
      "\n",
      "Removing owl.fish.washington.edu/nightingales/C_virginica/@eaDir/index.html since it should be rejected.\n",
      "\n",
      "--2019-03-17 15:11:07--  http://owl.fish.washington.edu/nightingales/C_virginica/zr2096_1_s1_R1.fastq.gz\n",
      "Reusing existing connection to owl.fish.washington.edu:80.\n",
      "HTTP request sent, awaiting response... 200 OK\n",
      "Length: 1410033093 (1.3G) [application/x-gzip]\n",
      "Saving to: 'owl.fish.washington.edu/nightingales/C_virginica/zr2096_1_s1_R1.fastq.gz'\n",
      "\n",
      "owl.fish.washington 100%[===================>]   1.31G  11.7MB/s    in 2m 17s  \n",
      "\n",
      "2019-03-17 15:13:24 (9.84 MB/s) - 'owl.fish.washington.edu/nightingales/C_virginica/zr2096_1_s1_R1.fastq.gz' saved [1410033093/1410033093]\n",
      "\n",
      "--2019-03-17 15:13:24--  http://owl.fish.washington.edu/nightingales/C_virginica/zr2096_1_s1_R2.fastq.gz\n",
      "Reusing existing connection to owl.fish.washington.edu:80.\n",
      "HTTP request sent, awaiting response... 200 OK\n",
      "Length: 1433350372 (1.3G) [application/x-gzip]\n",
      "Saving to: 'owl.fish.washington.edu/nightingales/C_virginica/zr2096_1_s1_R2.fastq.gz'\n",
      "\n",
      "owl.fish.washington 100%[===================>]   1.33G  23.1MB/s    in 2m 9s   \n",
      "\n",
      "2019-03-17 15:15:33 (10.6 MB/s) - 'owl.fish.washington.edu/nightingales/C_virginica/zr2096_1_s1_R2.fastq.gz' saved [1433350372/1433350372]\n",
      "\n",
      "--2019-03-17 15:15:33--  http://owl.fish.washington.edu/nightingales/C_virginica/zr2096_2_s1_R1.fastq.gz\n",
      "Reusing existing connection to owl.fish.washington.edu:80.\n",
      "HTTP request sent, awaiting response... 200 OK\n",
      "Length: 1433038061 (1.3G) [application/x-gzip]\n",
      "Saving to: 'owl.fish.washington.edu/nightingales/C_virginica/zr2096_2_s1_R1.fastq.gz'\n",
      "\n",
      "owl.fish.washington 100%[===================>]   1.33G  38.8MB/s    in 2m 7s   \n",
      "\n",
      "2019-03-17 15:17:41 (10.7 MB/s) - 'owl.fish.washington.edu/nightingales/C_virginica/zr2096_2_s1_R1.fastq.gz' saved [1433038061/1433038061]\n",
      "\n",
      "--2019-03-17 15:17:41--  http://owl.fish.washington.edu/nightingales/C_virginica/zr2096_2_s1_R2.fastq.gz\n",
      "Reusing existing connection to owl.fish.washington.edu:80.\n",
      "HTTP request sent, awaiting response... 200 OK\n",
      "Length: 1430127722 (1.3G) [application/x-gzip]\n",
      "Saving to: 'owl.fish.washington.edu/nightingales/C_virginica/zr2096_2_s1_R2.fastq.gz'\n",
      "\n",
      "owl.fish.washington 100%[===================>]   1.33G  18.7MB/s    in 5m 49s  \n",
      "\n",
      "2019-03-17 15:23:29 (3.91 MB/s) - 'owl.fish.washington.edu/nightingales/C_virginica/zr2096_2_s1_R2.fastq.gz' saved [1430127722/1430127722]\n",
      "\n",
      "--2019-03-17 15:23:29--  http://owl.fish.washington.edu/nightingales/C_virginica/zr2096_3_s1_R1.fastq.gz\n",
      "Reusing existing connection to owl.fish.washington.edu:80.\n",
      "HTTP request sent, awaiting response... 200 OK\n",
      "Length: 1424217964 (1.3G) [application/x-gzip]\n",
      "Saving to: 'owl.fish.washington.edu/nightingales/C_virginica/zr2096_3_s1_R1.fastq.gz'\n",
      "\n",
      "owl.fish.washington 100%[===================>]   1.33G  24.2MB/s    in 9m 15s  \n",
      "\n",
      "2019-03-17 15:32:45 (2.45 MB/s) - 'owl.fish.washington.edu/nightingales/C_virginica/zr2096_3_s1_R1.fastq.gz' saved [1424217964/1424217964]\n",
      "\n",
      "--2019-03-17 15:32:45--  http://owl.fish.washington.edu/nightingales/C_virginica/zr2096_3_s1_R2.fastq.gz\n",
      "Reusing existing connection to owl.fish.washington.edu:80.\n",
      "HTTP request sent, awaiting response... 200 OK\n",
      "Length: 1437353462 (1.3G) [application/x-gzip]\n",
      "Saving to: 'owl.fish.washington.edu/nightingales/C_virginica/zr2096_3_s1_R2.fastq.gz'\n",
      "\n",
      "owl.fish.washington 100%[===================>]   1.34G  20.3MB/s    in 4m 6s   \n",
      "\n",
      "2019-03-17 15:36:51 (5.57 MB/s) - 'owl.fish.washington.edu/nightingales/C_virginica/zr2096_3_s1_R2.fastq.gz' saved [1437353462/1437353462]\n",
      "\n",
      "--2019-03-17 15:36:51--  http://owl.fish.washington.edu/nightingales/C_virginica/zr2096_4_s1_R1.fastq.gz\n",
      "Reusing existing connection to owl.fish.washington.edu:80.\n",
      "HTTP request sent, awaiting response... 200 OK\n",
      "Length: 1149853918 (1.1G) [application/x-gzip]\n",
      "Saving to: 'owl.fish.washington.edu/nightingales/C_virginica/zr2096_4_s1_R1.fastq.gz'\n",
      "\n",
      "owl.fish.washington 100%[===================>]   1.07G  54.2MB/s    in 2m 24s  \n",
      "\n",
      "2019-03-17 15:39:15 (7.63 MB/s) - 'owl.fish.washington.edu/nightingales/C_virginica/zr2096_4_s1_R1.fastq.gz' saved [1149853918/1149853918]\n",
      "\n",
      "--2019-03-17 15:39:15--  http://owl.fish.washington.edu/nightingales/C_virginica/zr2096_4_s1_R2.fastq.gz\n",
      "Reusing existing connection to owl.fish.washington.edu:80.\n",
      "HTTP request sent, awaiting response... 200 OK\n",
      "Length: 1149348968 (1.1G) [application/x-gzip]\n",
      "Saving to: 'owl.fish.washington.edu/nightingales/C_virginica/zr2096_4_s1_R2.fastq.gz'\n",
      "\n",
      "owl.fish.washington 100%[===================>]   1.07G  18.5MB/s    in 4m 12s  \n",
      "\n",
      "2019-03-17 15:43:27 (4.35 MB/s) - 'owl.fish.washington.edu/nightingales/C_virginica/zr2096_4_s1_R2.fastq.gz' saved [1149348968/1149348968]\n",
      "\n",
      "--2019-03-17 15:43:27--  http://owl.fish.washington.edu/nightingales/C_virginica/zr2096_5_s1_R1.fastq.gz\n",
      "Reusing existing connection to owl.fish.washington.edu:80.\n",
      "HTTP request sent, awaiting response... 200 OK\n",
      "Length: 1514205053 (1.4G) [application/x-gzip]\n",
      "Saving to: 'owl.fish.washington.edu/nightingales/C_virginica/zr2096_5_s1_R1.fastq.gz'\n",
      "\n",
      "owl.fish.washington 100%[===================>]   1.41G  14.0MB/s    in 3m 56s  \n",
      "\n",
      "2019-03-17 15:47:23 (6.13 MB/s) - 'owl.fish.washington.edu/nightingales/C_virginica/zr2096_5_s1_R1.fastq.gz' saved [1514205053/1514205053]\n",
      "\n",
      "--2019-03-17 15:47:23--  http://owl.fish.washington.edu/nightingales/C_virginica/zr2096_5_s1_R2.fastq.gz\n",
      "Reusing existing connection to owl.fish.washington.edu:80.\n",
      "HTTP request sent, awaiting response... 200 OK\n",
      "Length: 1519258617 (1.4G) [application/x-gzip]\n",
      "Saving to: 'owl.fish.washington.edu/nightingales/C_virginica/zr2096_5_s1_R2.fastq.gz'\n",
      "\n",
      "owl.fish.washington 100%[===================>]   1.41G  1.36MB/s    in 5m 47s  \n",
      "\n",
      "2019-03-17 15:53:10 (4.18 MB/s) - 'owl.fish.washington.edu/nightingales/C_virginica/zr2096_5_s1_R2.fastq.gz' saved [1519258617/1519258617]\n",
      "\n",
      "--2019-03-17 15:53:10--  http://owl.fish.washington.edu/nightingales/C_virginica/zr2096_6_s1_R1.fastq.gz\n",
      "Reusing existing connection to owl.fish.washington.edu:80.\n",
      "HTTP request sent, awaiting response... 200 OK\n",
      "Length: 1129393987 (1.1G) [application/x-gzip]\n",
      "Saving to: 'owl.fish.washington.edu/nightingales/C_virginica/zr2096_6_s1_R1.fastq.gz'\n",
      "\n",
      "owl.fish.washington 100%[===================>]   1.05G  11.9MB/s    in 9m 31s  \n",
      "\n",
      "2019-03-17 16:02:41 (1.89 MB/s) - 'owl.fish.washington.edu/nightingales/C_virginica/zr2096_6_s1_R1.fastq.gz' saved [1129393987/1129393987]\n",
      "\n",
      "--2019-03-17 16:02:41--  http://owl.fish.washington.edu/nightingales/C_virginica/zr2096_6_s1_R2.fastq.gz\n",
      "Reusing existing connection to owl.fish.washington.edu:80.\n",
      "HTTP request sent, awaiting response... 200 OK\n",
      "Length: 1135831685 (1.1G) [application/x-gzip]\n",
      "Saving to: 'owl.fish.washington.edu/nightingales/C_virginica/zr2096_6_s1_R2.fastq.gz'\n",
      "\n",
      "owl.fish.washington 100%[===================>]   1.06G  31.4MB/s    in 3m 22s  \n",
      "\n",
      "2019-03-17 16:06:04 (5.37 MB/s) - 'owl.fish.washington.edu/nightingales/C_virginica/zr2096_6_s1_R2.fastq.gz' saved [1135831685/1135831685]\n",
      "\n",
      "--2019-03-17 16:06:04--  http://owl.fish.washington.edu/nightingales/C_virginica/zr2096_7_s1_R1.fastq.gz\n",
      "Reusing existing connection to owl.fish.washington.edu:80.\n",
      "HTTP request sent, awaiting response... 200 OK\n",
      "Length: 1441527055 (1.3G) [application/x-gzip]\n",
      "Saving to: 'owl.fish.washington.edu/nightingales/C_virginica/zr2096_7_s1_R1.fastq.gz'\n",
      "\n",
      "owl.fish.washington 100%[===================>]   1.34G   947KB/s    in 5m 24s  \n",
      "\n",
      "2019-03-17 16:11:28 (4.24 MB/s) - 'owl.fish.washington.edu/nightingales/C_virginica/zr2096_7_s1_R1.fastq.gz' saved [1441527055/1441527055]\n",
      "\n",
      "--2019-03-17 16:11:28--  http://owl.fish.washington.edu/nightingales/C_virginica/zr2096_7_s1_R2.fastq.gz\n",
      "Reusing existing connection to owl.fish.washington.edu:80.\n",
      "HTTP request sent, awaiting response... 200 OK\n",
      "Length: 1436382074 (1.3G) [application/x-gzip]\n",
      "Saving to: 'owl.fish.washington.edu/nightingales/C_virginica/zr2096_7_s1_R2.fastq.gz'\n",
      "\n",
      "owl.fish.washington 100%[===================>]   1.34G  15.5MB/s    in 4m 16s  \n",
      "\n",
      "2019-03-17 16:15:45 (5.34 MB/s) - 'owl.fish.washington.edu/nightingales/C_virginica/zr2096_7_s1_R2.fastq.gz' saved [1436382074/1436382074]\n",
      "\n",
      "--2019-03-17 16:15:45--  http://owl.fish.washington.edu/nightingales/C_virginica/zr2096_8_s1_R1.fastq.gz\n",
      "Reusing existing connection to owl.fish.washington.edu:80.\n",
      "HTTP request sent, awaiting response... 200 OK\n",
      "Length: 1427652258 (1.3G) [application/x-gzip]\n",
      "Saving to: 'owl.fish.washington.edu/nightingales/C_virginica/zr2096_8_s1_R1.fastq.gz'\n",
      "\n",
      "owl.fish.washington 100%[===================>]   1.33G  9.62MB/s    in 8m 53s  \n",
      "\n",
      "2019-03-17 16:24:38 (2.55 MB/s) - 'owl.fish.washington.edu/nightingales/C_virginica/zr2096_8_s1_R1.fastq.gz' saved [1427652258/1427652258]\n",
      "\n",
      "--2019-03-17 16:24:38--  http://owl.fish.washington.edu/nightingales/C_virginica/zr2096_8_s1_R2.fastq.gz\n",
      "Reusing existing connection to owl.fish.washington.edu:80.\n",
      "HTTP request sent, awaiting response... 200 OK\n",
      "Length: 1432833391 (1.3G) [application/x-gzip]\n",
      "Saving to: 'owl.fish.washington.edu/nightingales/C_virginica/zr2096_8_s1_R2.fastq.gz'\n",
      "\n",
      "owl.fish.washington 100%[===================>]   1.33G  21.9MB/s    in 9m 26s  \n",
      "\n",
      "2019-03-17 16:34:05 (2.41 MB/s) - 'owl.fish.washington.edu/nightingales/C_virginica/zr2096_8_s1_R2.fastq.gz' saved [1432833391/1432833391]\n",
      "\n",
      "--2019-03-17 16:34:05--  http://owl.fish.washington.edu/nightingales/C_virginica/zr2096_9_s1_R1.fastq.gz\n",
      "Reusing existing connection to owl.fish.washington.edu:80.\n",
      "HTTP request sent, awaiting response... 200 OK\n",
      "Length: 1734786472 (1.6G) [application/x-gzip]\n",
      "Saving to: 'owl.fish.washington.edu/nightingales/C_virginica/zr2096_9_s1_R1.fastq.gz'\n",
      "\n",
      "owl.fish.washington 100%[===================>]   1.62G  31.8MB/s    in 4m 33s  \n",
      "\n",
      "2019-03-17 16:38:38 (6.06 MB/s) - 'owl.fish.washington.edu/nightingales/C_virginica/zr2096_9_s1_R1.fastq.gz' saved [1734786472/1734786472]\n",
      "\n",
      "--2019-03-17 16:38:38--  http://owl.fish.washington.edu/nightingales/C_virginica/zr2096_9_s1_R2.fastq.gz\n",
      "Reusing existing connection to owl.fish.washington.edu:80.\n",
      "HTTP request sent, awaiting response... 200 OK\n",
      "Length: 1679334128 (1.6G) [application/x-gzip]\n",
      "Saving to: 'owl.fish.washington.edu/nightingales/C_virginica/zr2096_9_s1_R2.fastq.gz'\n",
      "\n",
      "owl.fish.washington 100%[===================>]   1.56G  7.53MB/s    in 5m 56s  \n",
      "\n",
      "2019-03-17 16:44:35 (4.49 MB/s) - 'owl.fish.washington.edu/nightingales/C_virginica/zr2096_9_s1_R2.fastq.gz' saved [1679334128/1679334128]\n",
      "\n",
      "--2019-03-17 16:44:35--  http://owl.fish.washington.edu/nightingales/C_virginica/zr2096_10_s1_R1.fastq.gz\n",
      "Reusing existing connection to owl.fish.washington.edu:80.\n",
      "HTTP request sent, awaiting response... 200 OK\n",
      "Length: 941648382 (898M) [application/x-gzip]\n",
      "Saving to: 'owl.fish.washington.edu/nightingales/C_virginica/zr2096_10_s1_R1.fastq.gz'\n",
      "\n",
      "owl.fish.washington 100%[===================>] 898.03M  24.8MB/s    in 4m 11s  \n",
      "\n",
      "2019-03-17 16:48:46 (3.58 MB/s) - 'owl.fish.washington.edu/nightingales/C_virginica/zr2096_10_s1_R1.fastq.gz' saved [941648382/941648382]\n",
      "\n",
      "--2019-03-17 16:48:46--  http://owl.fish.washington.edu/nightingales/C_virginica/zr2096_10_s1_R2.fastq.gz\n",
      "Reusing existing connection to owl.fish.washington.edu:80.\n",
      "HTTP request sent, awaiting response... 200 OK\n",
      "Length: 922192652 (879M) [application/x-gzip]\n",
      "Saving to: 'owl.fish.washington.edu/nightingales/C_virginica/zr2096_10_s1_R2.fastq.gz'\n",
      "\n",
      "owl.fish.washington 100%[===================>] 879.47M  21.5MB/s    in 5m 40s  \n",
      "\n",
      "2019-03-17 16:54:26 (2.58 MB/s) - 'owl.fish.washington.edu/nightingales/C_virginica/zr2096_10_s1_R2.fastq.gz' saved [922192652/922192652]\n",
      "\n",
      "FINISHED --2019-03-17 16:54:26--\n",
      "Total wall clock time: 1h 43m 21s\n",
      "Downloaded: 26 files, 25G in 1h 43m 14s (4.18 MB/s)\n"
     ]
    }
   ],
   "source": [
    "#Download files from owl. The files will be downloaded in the same directory structure they are in online.\n",
    "!wget -r -l1 --no-parent -A_s1_R1.fastq.gz -A_s1_R2.fastq.gz \\\n",
    "http://owl.fish.washington.edu/nightingales/C_virginica/"
   ]
  },
  {
   "cell_type": "code",
   "execution_count": 9,
   "metadata": {
    "collapsed": true
   },
   "outputs": [],
   "source": [
    "#Move all files from owl folder to the current directory\n",
    "!mv owl.fish.washington.edu/nightingales/C_virginica/* ."
   ]
  },
  {
   "cell_type": "code",
   "execution_count": 10,
   "metadata": {
    "collapsed": false
   },
   "outputs": [
    {
     "name": "stdout",
     "output_type": "stream",
     "text": [
      "\u001b[34m@eaDir\u001b[m\u001b[m                   zr2096_3_s1_R1.fastq.gz  zr2096_7_s1_R1.fastq.gz\r\n",
      "\u001b[34mowl.fish.washington.edu\u001b[m\u001b[m  zr2096_3_s1_R2.fastq.gz  zr2096_7_s1_R2.fastq.gz\r\n",
      "zr2096_10_s1_R1.fastq.gz zr2096_4_s1_R1.fastq.gz  zr2096_8_s1_R1.fastq.gz\r\n",
      "zr2096_10_s1_R2.fastq.gz zr2096_4_s1_R2.fastq.gz  zr2096_8_s1_R2.fastq.gz\r\n",
      "zr2096_1_s1_R1.fastq.gz  zr2096_5_s1_R1.fastq.gz  zr2096_9_s1_R1.fastq.gz\r\n",
      "zr2096_1_s1_R2.fastq.gz  zr2096_5_s1_R2.fastq.gz  zr2096_9_s1_R2.fastq.gz\r\n",
      "zr2096_2_s1_R1.fastq.gz  zr2096_6_s1_R1.fastq.gz\r\n",
      "zr2096_2_s1_R2.fastq.gz  zr2096_6_s1_R2.fastq.gz\r\n"
     ]
    }
   ],
   "source": [
    "#Confirm all files were moved\n",
    "!ls"
   ]
  },
  {
   "cell_type": "code",
   "execution_count": 11,
   "metadata": {
    "collapsed": true
   },
   "outputs": [],
   "source": [
    "#Remove the empty owl directory\n",
    "!rm -r owl.fish.washington.edu"
   ]
  },
  {
   "cell_type": "markdown",
   "metadata": {},
   "source": [
    "### 1b. Count reads"
   ]
  },
  {
   "cell_type": "markdown",
   "metadata": {},
   "source": [
    "First, I'll test a loop and ensure it identifies all of the  files I want to use by having the loop print the filename of each file (`f`):"
   ]
  },
  {
   "cell_type": "code",
   "execution_count": 12,
   "metadata": {
    "collapsed": false
   },
   "outputs": [
    {
     "name": "stdout",
     "output_type": "stream",
     "text": [
      "zr2096_10_s1_R1.fastq.gz\n",
      "zr2096_10_s1_R2.fastq.gz\n",
      "zr2096_1_s1_R1.fastq.gz\n",
      "zr2096_1_s1_R2.fastq.gz\n",
      "zr2096_2_s1_R1.fastq.gz\n",
      "zr2096_2_s1_R2.fastq.gz\n",
      "zr2096_3_s1_R1.fastq.gz\n",
      "zr2096_3_s1_R2.fastq.gz\n",
      "zr2096_4_s1_R1.fastq.gz\n",
      "zr2096_4_s1_R2.fastq.gz\n",
      "zr2096_5_s1_R1.fastq.gz\n",
      "zr2096_5_s1_R2.fastq.gz\n",
      "zr2096_6_s1_R1.fastq.gz\n",
      "zr2096_6_s1_R2.fastq.gz\n",
      "zr2096_7_s1_R1.fastq.gz\n",
      "zr2096_7_s1_R2.fastq.gz\n",
      "zr2096_8_s1_R1.fastq.gz\n",
      "zr2096_8_s1_R2.fastq.gz\n",
      "zr2096_9_s1_R1.fastq.gz\n",
      "zr2096_9_s1_R2.fastq.gz\n"
     ]
    }
   ],
   "source": [
    "%%bash\n",
    "for f in *.fastq.gz\n",
    "do\n",
    "    echo ${f}\n",
    "done"
   ]
  },
  {
   "cell_type": "markdown",
   "metadata": {},
   "source": [
    "Now that I know it works, I'm going to count the numbere of reads in each file. There are four lines per read in each Illumina FASTQ file, so I can count the number of lines then divide by four to get the number or reads."
   ]
  },
  {
   "cell_type": "code",
   "execution_count": 13,
   "metadata": {
    "collapsed": false
   },
   "outputs": [
    {
     "name": "stdout",
     "output_type": "stream",
     "text": [
      "0\n"
     ]
    },
    {
     "name": "stderr",
     "output_type": "stream",
     "text": [
      "gunzip: can't stat: .fastq.gz (.fastq.gz.gz): No such file or directory\n"
     ]
    }
   ],
   "source": [
    "%%bash\n",
    "for f in .fastq.gz\n",
    "do\n",
    "    echo $(( $(gunzip -c ${f} | wc -l) / 4 ))\n",
    "done"
   ]
  },
  {
   "cell_type": "code",
   "execution_count": null,
   "metadata": {
    "collapsed": true
   },
   "outputs": [],
   "source": []
  },
  {
   "cell_type": "markdown",
   "metadata": {},
   "source": [
    "## 2. Trimmed files"
   ]
  },
  {
   "cell_type": "markdown",
   "metadata": {},
   "source": [
    "### 2a. Download files"
   ]
  },
  {
   "cell_type": "code",
   "execution_count": null,
   "metadata": {
    "collapsed": true
   },
   "outputs": [],
   "source": [
    "#Download files from owl. The files will be downloaded in the same directory structure they are in online.\n",
    "!wget -r -l1 --no-parent -A_s1_R1_val_1.fq.gz _s1_R2_val_2.fq.gz \\\n",
    "http://owl.fish.washington.edu/Athaliana/20180411_trimgalore_10bp_Cvirginica_MBD/"
   ]
  },
  {
   "cell_type": "code",
   "execution_count": null,
   "metadata": {
    "collapsed": true
   },
   "outputs": [],
   "source": [
    "#Move all files from owl folder to the current directory\n",
    "!mv owl.fish.washington.edu/Athaliana/20180411_trimgalore_10bp_Cvirginica_MBD/* ."
   ]
  },
  {
   "cell_type": "code",
   "execution_count": null,
   "metadata": {
    "collapsed": true
   },
   "outputs": [],
   "source": [
    "#Confirm all files were moved\n",
    "!ls"
   ]
  },
  {
   "cell_type": "code",
   "execution_count": null,
   "metadata": {
    "collapsed": true
   },
   "outputs": [],
   "source": [
    "#Remove the empty owl directory\n",
    "!rm -r owl.fish.washington.edu"
   ]
  },
  {
   "cell_type": "markdown",
   "metadata": {},
   "source": [
    "### 2b. Count reads"
   ]
  },
  {
   "cell_type": "code",
   "execution_count": null,
   "metadata": {
    "collapsed": true
   },
   "outputs": [],
   "source": []
  }
 ],
 "metadata": {
  "anaconda-cloud": {},
  "kernelspec": {
   "display_name": "Python [default]",
   "language": "python",
   "name": "python3"
  },
  "language_info": {
   "codemirror_mode": {
    "name": "ipython",
    "version": 3
   },
   "file_extension": ".py",
   "mimetype": "text/x-python",
   "name": "python",
   "nbconvert_exporter": "python",
   "pygments_lexer": "ipython3",
   "version": "3.5.2"
  }
 },
 "nbformat": 4,
 "nbformat_minor": 1
}
