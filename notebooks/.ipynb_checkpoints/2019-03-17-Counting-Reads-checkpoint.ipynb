{
 "cells": [
  {
   "cell_type": "markdown",
   "metadata": {},
   "source": [
    "# Counting Reads\n",
    "\n",
    "In this notebook, I'll count the number of reads in both untrimmed and trimmed *C. virgincia* gonad sequence data from Illumina.\n",
    "\n",
    "1. Untrimmed files\n",
    "2. Trimmed files"
   ]
  },
  {
   "cell_type": "markdown",
   "metadata": {},
   "source": [
    "## 0. Prepare for analyses"
   ]
  },
  {
   "cell_type": "markdown",
   "metadata": {},
   "source": [
    "### 0a. Set working directory"
   ]
  },
  {
   "cell_type": "code",
   "execution_count": 1,
   "metadata": {
    "collapsed": false
   },
   "outputs": [
    {
     "data": {
      "text/plain": [
       "'/Users/yaamini/Documents/yaamini-virginica/notebooks'"
      ]
     },
     "execution_count": 1,
     "metadata": {},
     "output_type": "execute_result"
    }
   ],
   "source": [
    "pwd"
   ]
  },
  {
   "cell_type": "code",
   "execution_count": 4,
   "metadata": {
    "collapsed": false
   },
   "outputs": [
    {
     "name": "stdout",
     "output_type": "stream",
     "text": [
      "/Users/yaamini/Documents/yaamini-virginica/data\n"
     ]
    }
   ],
   "source": [
    "cd ../data/"
   ]
  },
  {
   "cell_type": "code",
   "execution_count": 5,
   "metadata": {
    "collapsed": false
   },
   "outputs": [],
   "source": [
    "!mkdir 2019-03-17-Counting-Reads"
   ]
  },
  {
   "cell_type": "code",
   "execution_count": 6,
   "metadata": {
    "collapsed": false
   },
   "outputs": [
    {
     "name": "stdout",
     "output_type": "stream",
     "text": [
      "/Users/yaamini/Documents/yaamini-virginica/data/2019-03-17-Counting-Reads\n"
     ]
    }
   ],
   "source": [
    "cd 2019-03-17-Counting-Reads/"
   ]
  },
  {
   "cell_type": "markdown",
   "metadata": {},
   "source": [
    "## 1. Trimmed files"
   ]
  },
  {
   "cell_type": "markdown",
   "metadata": {},
   "source": [
    "Since my files were trimmed with FastQC, I can use the information from the FastQC reports to get read information for each file. In the Basic Statistics module, FastQC includes Total Sequences (i.e. Total Reads) after trimming."
   ]
  },
  {
   "cell_type": "markdown",
   "metadata": {},
   "source": [
    "### 1a. Download files"
   ]
  },
  {
   "cell_type": "code",
   "execution_count": 14,
   "metadata": {
    "collapsed": true
   },
   "outputs": [],
   "source": [
    "!mkdir 2019-03-17-FastQC-Reports"
   ]
  },
  {
   "cell_type": "code",
   "execution_count": 15,
   "metadata": {
    "collapsed": false
   },
   "outputs": [
    {
     "name": "stdout",
     "output_type": "stream",
     "text": [
      "/Users/yaamini/Documents/yaamini-virginica/data/2019-03-17-Counting-Reads/2019-03-17-FastQC-Reports\n"
     ]
    }
   ],
   "source": [
    "cd 2019-03-17-FastQC-Reports/"
   ]
  },
  {
   "cell_type": "code",
   "execution_count": 16,
   "metadata": {
    "collapsed": false
   },
   "outputs": [
    {
     "name": "stdout",
     "output_type": "stream",
     "text": [
      "--2019-03-18 09:39:10--  http://owl.fish.washington.edu/Athaliana/20180411_trimgalore_10bp_Cvirginica_MBD/20180411_fastqc_trim_10bp_Cvirginica_MBD/\n",
      "Resolving owl.fish.washington.edu... 128.95.149.83\n",
      "Connecting to owl.fish.washington.edu|128.95.149.83|:80... connected.\n",
      "HTTP request sent, awaiting response... 200 OK\n",
      "Length: unspecified [text/html]\n",
      "Saving to: 'owl.fish.washington.edu/Athaliana/20180411_trimgalore_10bp_Cvirginica_MBD/20180411_fastqc_trim_10bp_Cvirginica_MBD/index.html'\n",
      "\n",
      "owl.fish.washington     [ <=>                ]  10.61K  --.-KB/s    in 0s      \n",
      "\n",
      "2019-03-18 09:39:10 (61.3 MB/s) - 'owl.fish.washington.edu/Athaliana/20180411_trimgalore_10bp_Cvirginica_MBD/20180411_fastqc_trim_10bp_Cvirginica_MBD/index.html' saved [10864]\n",
      "\n",
      "Loading robots.txt; please ignore errors.\n",
      "--2019-03-18 09:39:10--  http://owl.fish.washington.edu/robots.txt\n",
      "Reusing existing connection to owl.fish.washington.edu:80.\n",
      "HTTP request sent, awaiting response... 404 Not Found\n",
      "2019-03-18 09:39:10 ERROR 404: Not Found.\n",
      "\n",
      "Removing owl.fish.washington.edu/Athaliana/20180411_trimgalore_10bp_Cvirginica_MBD/20180411_fastqc_trim_10bp_Cvirginica_MBD/index.html since it should be rejected.\n",
      "\n",
      "--2019-03-18 09:39:10--  http://owl.fish.washington.edu/Athaliana/20180411_trimgalore_10bp_Cvirginica_MBD/20180411_fastqc_trim_10bp_Cvirginica_MBD/?C=N;O=D\n",
      "Reusing existing connection to owl.fish.washington.edu:80.\n",
      "HTTP request sent, awaiting response... 200 OK\n",
      "Length: unspecified [text/html]\n",
      "Saving to: 'owl.fish.washington.edu/Athaliana/20180411_trimgalore_10bp_Cvirginica_MBD/20180411_fastqc_trim_10bp_Cvirginica_MBD/index.html?C=N;O=D'\n",
      "\n",
      "owl.fish.washington     [ <=>                ]  10.61K  --.-KB/s    in 0s      \n",
      "\n",
      "2019-03-18 09:39:11 (39.4 MB/s) - 'owl.fish.washington.edu/Athaliana/20180411_trimgalore_10bp_Cvirginica_MBD/20180411_fastqc_trim_10bp_Cvirginica_MBD/index.html?C=N;O=D' saved [10864]\n",
      "\n",
      "Removing owl.fish.washington.edu/Athaliana/20180411_trimgalore_10bp_Cvirginica_MBD/20180411_fastqc_trim_10bp_Cvirginica_MBD/index.html?C=N;O=D since it should be rejected.\n",
      "\n",
      "--2019-03-18 09:39:11--  http://owl.fish.washington.edu/Athaliana/20180411_trimgalore_10bp_Cvirginica_MBD/20180411_fastqc_trim_10bp_Cvirginica_MBD/?C=M;O=A\n",
      "Reusing existing connection to owl.fish.washington.edu:80.\n",
      "HTTP request sent, awaiting response... 200 OK\n",
      "Length: unspecified [text/html]\n",
      "Saving to: 'owl.fish.washington.edu/Athaliana/20180411_trimgalore_10bp_Cvirginica_MBD/20180411_fastqc_trim_10bp_Cvirginica_MBD/index.html?C=M;O=A'\n",
      "\n",
      "owl.fish.washington     [ <=>                ]  10.61K  --.-KB/s    in 0s      \n",
      "\n",
      "2019-03-18 09:39:11 (56.0 MB/s) - 'owl.fish.washington.edu/Athaliana/20180411_trimgalore_10bp_Cvirginica_MBD/20180411_fastqc_trim_10bp_Cvirginica_MBD/index.html?C=M;O=A' saved [10864]\n",
      "\n",
      "Removing owl.fish.washington.edu/Athaliana/20180411_trimgalore_10bp_Cvirginica_MBD/20180411_fastqc_trim_10bp_Cvirginica_MBD/index.html?C=M;O=A since it should be rejected.\n",
      "\n",
      "--2019-03-18 09:39:11--  http://owl.fish.washington.edu/Athaliana/20180411_trimgalore_10bp_Cvirginica_MBD/20180411_fastqc_trim_10bp_Cvirginica_MBD/?C=S;O=A\n",
      "Reusing existing connection to owl.fish.washington.edu:80.\n",
      "HTTP request sent, awaiting response... 200 OK\n",
      "Length: unspecified [text/html]\n",
      "Saving to: 'owl.fish.washington.edu/Athaliana/20180411_trimgalore_10bp_Cvirginica_MBD/20180411_fastqc_trim_10bp_Cvirginica_MBD/index.html?C=S;O=A'\n",
      "\n",
      "owl.fish.washington     [ <=>                ]  10.61K  --.-KB/s    in 0s      \n",
      "\n",
      "2019-03-18 09:39:11 (66.8 MB/s) - 'owl.fish.washington.edu/Athaliana/20180411_trimgalore_10bp_Cvirginica_MBD/20180411_fastqc_trim_10bp_Cvirginica_MBD/index.html?C=S;O=A' saved [10864]\n",
      "\n",
      "Removing owl.fish.washington.edu/Athaliana/20180411_trimgalore_10bp_Cvirginica_MBD/20180411_fastqc_trim_10bp_Cvirginica_MBD/index.html?C=S;O=A since it should be rejected.\n",
      "\n",
      "--2019-03-18 09:39:11--  http://owl.fish.washington.edu/Athaliana/20180411_trimgalore_10bp_Cvirginica_MBD/20180411_fastqc_trim_10bp_Cvirginica_MBD/?C=D;O=A\n",
      "Reusing existing connection to owl.fish.washington.edu:80.\n",
      "HTTP request sent, awaiting response... 200 OK\n",
      "Length: unspecified [text/html]\n",
      "Saving to: 'owl.fish.washington.edu/Athaliana/20180411_trimgalore_10bp_Cvirginica_MBD/20180411_fastqc_trim_10bp_Cvirginica_MBD/index.html?C=D;O=A'\n",
      "\n",
      "owl.fish.washington     [ <=>                ]  10.61K  --.-KB/s    in 0s      \n",
      "\n",
      "2019-03-18 09:39:11 (70.5 MB/s) - 'owl.fish.washington.edu/Athaliana/20180411_trimgalore_10bp_Cvirginica_MBD/20180411_fastqc_trim_10bp_Cvirginica_MBD/index.html?C=D;O=A' saved [10864]\n",
      "\n",
      "Removing owl.fish.washington.edu/Athaliana/20180411_trimgalore_10bp_Cvirginica_MBD/20180411_fastqc_trim_10bp_Cvirginica_MBD/index.html?C=D;O=A since it should be rejected.\n",
      "\n",
      "--2019-03-18 09:39:11--  http://owl.fish.washington.edu/Athaliana/20180411_trimgalore_10bp_Cvirginica_MBD/20180411_fastqc_trim_10bp_Cvirginica_MBD/multiqc_data/\n",
      "Reusing existing connection to owl.fish.washington.edu:80.\n",
      "HTTP request sent, awaiting response... 200 OK\n",
      "Length: 2492 (2.4K) [text/html]\n",
      "Saving to: 'owl.fish.washington.edu/Athaliana/20180411_trimgalore_10bp_Cvirginica_MBD/20180411_fastqc_trim_10bp_Cvirginica_MBD/multiqc_data/index.html'\n",
      "\n",
      "owl.fish.washington 100%[===================>]   2.43K  --.-KB/s    in 0s      \n",
      "\n",
      "2019-03-18 09:39:11 (88.0 MB/s) - 'owl.fish.washington.edu/Athaliana/20180411_trimgalore_10bp_Cvirginica_MBD/20180411_fastqc_trim_10bp_Cvirginica_MBD/multiqc_data/index.html' saved [2492/2492]\n",
      "\n",
      "Removing owl.fish.washington.edu/Athaliana/20180411_trimgalore_10bp_Cvirginica_MBD/20180411_fastqc_trim_10bp_Cvirginica_MBD/multiqc_data/index.html since it should be rejected.\n",
      "\n",
      "--2019-03-18 09:39:11--  http://owl.fish.washington.edu/Athaliana/20180411_trimgalore_10bp_Cvirginica_MBD/20180411_fastqc_trim_10bp_Cvirginica_MBD/zr2096_1_s1_R1_val_1_fastqc.zip\n",
      "Reusing existing connection to owl.fish.washington.edu:80.\n",
      "HTTP request sent, awaiting response... 200 OK\n",
      "Length: 295534 (289K) [application/zip]\n",
      "Saving to: 'owl.fish.washington.edu/Athaliana/20180411_trimgalore_10bp_Cvirginica_MBD/20180411_fastqc_trim_10bp_Cvirginica_MBD/zr2096_1_s1_R1_val_1_fastqc.zip'\n",
      "\n",
      "owl.fish.washington 100%[===================>] 288.61K   265KB/s    in 24s     \n",
      "\n",
      "2019-03-18 09:39:36 (11.8 KB/s) - 'owl.fish.washington.edu/Athaliana/20180411_trimgalore_10bp_Cvirginica_MBD/20180411_fastqc_trim_10bp_Cvirginica_MBD/zr2096_1_s1_R1_val_1_fastqc.zip' saved [295534/295534]\n",
      "\n",
      "--2019-03-18 09:39:36--  http://owl.fish.washington.edu/Athaliana/20180411_trimgalore_10bp_Cvirginica_MBD/20180411_fastqc_trim_10bp_Cvirginica_MBD/zr2096_1_s1_R2_val_2_fastqc.zip\n",
      "Reusing existing connection to owl.fish.washington.edu:80.\n",
      "HTTP request sent, awaiting response... 200 OK\n",
      "Length: 284342 (278K) [application/zip]\n",
      "Saving to: 'owl.fish.washington.edu/Athaliana/20180411_trimgalore_10bp_Cvirginica_MBD/20180411_fastqc_trim_10bp_Cvirginica_MBD/zr2096_1_s1_R2_val_2_fastqc.zip'\n",
      "\n",
      "owl.fish.washington 100%[===================>] 277.68K  --.-KB/s    in 0.005s  \n",
      "\n",
      "2019-03-18 09:39:36 (49.4 MB/s) - 'owl.fish.washington.edu/Athaliana/20180411_trimgalore_10bp_Cvirginica_MBD/20180411_fastqc_trim_10bp_Cvirginica_MBD/zr2096_1_s1_R2_val_2_fastqc.zip' saved [284342/284342]\n",
      "\n",
      "--2019-03-18 09:39:36--  http://owl.fish.washington.edu/Athaliana/20180411_trimgalore_10bp_Cvirginica_MBD/20180411_fastqc_trim_10bp_Cvirginica_MBD/zr2096_2_s1_R1_val_1_fastqc.zip\n",
      "Reusing existing connection to owl.fish.washington.edu:80.\n",
      "HTTP request sent, awaiting response... 200 OK\n",
      "Length: 282490 (276K) [application/zip]\n",
      "Saving to: 'owl.fish.washington.edu/Athaliana/20180411_trimgalore_10bp_Cvirginica_MBD/20180411_fastqc_trim_10bp_Cvirginica_MBD/zr2096_2_s1_R1_val_1_fastqc.zip'\n",
      "\n",
      "owl.fish.washington 100%[===================>] 275.87K  --.-KB/s    in 0.004s  \n",
      "\n",
      "2019-03-18 09:39:36 (60.8 MB/s) - 'owl.fish.washington.edu/Athaliana/20180411_trimgalore_10bp_Cvirginica_MBD/20180411_fastqc_trim_10bp_Cvirginica_MBD/zr2096_2_s1_R1_val_1_fastqc.zip' saved [282490/282490]\n",
      "\n",
      "--2019-03-18 09:39:36--  http://owl.fish.washington.edu/Athaliana/20180411_trimgalore_10bp_Cvirginica_MBD/20180411_fastqc_trim_10bp_Cvirginica_MBD/zr2096_2_s1_R2_val_2_fastqc.zip\n",
      "Reusing existing connection to owl.fish.washington.edu:80.\n",
      "HTTP request sent, awaiting response... 200 OK\n",
      "Length: 277353 (271K) [application/zip]\n",
      "Saving to: 'owl.fish.washington.edu/Athaliana/20180411_trimgalore_10bp_Cvirginica_MBD/20180411_fastqc_trim_10bp_Cvirginica_MBD/zr2096_2_s1_R2_val_2_fastqc.zip'\n",
      "\n",
      "owl.fish.washington 100%[===================>] 270.85K  --.-KB/s    in 0.009s  \n",
      "\n",
      "2019-03-18 09:39:37 (28.6 MB/s) - 'owl.fish.washington.edu/Athaliana/20180411_trimgalore_10bp_Cvirginica_MBD/20180411_fastqc_trim_10bp_Cvirginica_MBD/zr2096_2_s1_R2_val_2_fastqc.zip' saved [277353/277353]\n",
      "\n",
      "--2019-03-18 09:39:37--  http://owl.fish.washington.edu/Athaliana/20180411_trimgalore_10bp_Cvirginica_MBD/20180411_fastqc_trim_10bp_Cvirginica_MBD/zr2096_3_s1_R1_val_1_fastqc.zip\n",
      "Reusing existing connection to owl.fish.washington.edu:80.\n",
      "HTTP request sent, awaiting response... 200 OK\n",
      "Length: 281947 (275K) [application/zip]\n",
      "Saving to: 'owl.fish.washington.edu/Athaliana/20180411_trimgalore_10bp_Cvirginica_MBD/20180411_fastqc_trim_10bp_Cvirginica_MBD/zr2096_3_s1_R1_val_1_fastqc.zip'\n",
      "\n",
      "owl.fish.washington 100%[===================>] 275.34K  --.-KB/s    in 0.02s   \n",
      "\n",
      "2019-03-18 09:39:37 (17.4 MB/s) - 'owl.fish.washington.edu/Athaliana/20180411_trimgalore_10bp_Cvirginica_MBD/20180411_fastqc_trim_10bp_Cvirginica_MBD/zr2096_3_s1_R1_val_1_fastqc.zip' saved [281947/281947]\n",
      "\n",
      "--2019-03-18 09:39:37--  http://owl.fish.washington.edu/Athaliana/20180411_trimgalore_10bp_Cvirginica_MBD/20180411_fastqc_trim_10bp_Cvirginica_MBD/zr2096_3_s1_R2_val_2_fastqc.zip\n",
      "Reusing existing connection to owl.fish.washington.edu:80.\n",
      "HTTP request sent, awaiting response... 200 OK\n",
      "Length: 274139 (268K) [application/zip]\n",
      "Saving to: 'owl.fish.washington.edu/Athaliana/20180411_trimgalore_10bp_Cvirginica_MBD/20180411_fastqc_trim_10bp_Cvirginica_MBD/zr2096_3_s1_R2_val_2_fastqc.zip'\n",
      "\n",
      "owl.fish.washington 100%[===================>] 267.71K  --.-KB/s    in 0.02s   \n",
      "\n",
      "2019-03-18 09:39:37 (13.4 MB/s) - 'owl.fish.washington.edu/Athaliana/20180411_trimgalore_10bp_Cvirginica_MBD/20180411_fastqc_trim_10bp_Cvirginica_MBD/zr2096_3_s1_R2_val_2_fastqc.zip' saved [274139/274139]\n",
      "\n",
      "--2019-03-18 09:39:37--  http://owl.fish.washington.edu/Athaliana/20180411_trimgalore_10bp_Cvirginica_MBD/20180411_fastqc_trim_10bp_Cvirginica_MBD/zr2096_4_s1_R1_val_1_fastqc.zip\n",
      "Reusing existing connection to owl.fish.washington.edu:80.\n",
      "HTTP request sent, awaiting response... 200 OK\n",
      "Length: 277397 (271K) [application/zip]\n",
      "Saving to: 'owl.fish.washington.edu/Athaliana/20180411_trimgalore_10bp_Cvirginica_MBD/20180411_fastqc_trim_10bp_Cvirginica_MBD/zr2096_4_s1_R1_val_1_fastqc.zip'\n",
      "\n",
      "owl.fish.washington 100%[===================>] 270.90K  --.-KB/s    in 0.003s  \n",
      "\n",
      "2019-03-18 09:39:37 (89.4 MB/s) - 'owl.fish.washington.edu/Athaliana/20180411_trimgalore_10bp_Cvirginica_MBD/20180411_fastqc_trim_10bp_Cvirginica_MBD/zr2096_4_s1_R1_val_1_fastqc.zip' saved [277397/277397]\n",
      "\n",
      "--2019-03-18 09:39:37--  http://owl.fish.washington.edu/Athaliana/20180411_trimgalore_10bp_Cvirginica_MBD/20180411_fastqc_trim_10bp_Cvirginica_MBD/zr2096_4_s1_R2_val_2_fastqc.zip\n",
      "Reusing existing connection to owl.fish.washington.edu:80.\n",
      "HTTP request sent, awaiting response... 200 OK\n",
      "Length: 269182 (263K) [application/zip]\n",
      "Saving to: 'owl.fish.washington.edu/Athaliana/20180411_trimgalore_10bp_Cvirginica_MBD/20180411_fastqc_trim_10bp_Cvirginica_MBD/zr2096_4_s1_R2_val_2_fastqc.zip'\n",
      "\n",
      "owl.fish.washington 100%[===================>] 262.87K  --.-KB/s    in 0.003s  \n",
      "\n",
      "2019-03-18 09:39:37 (94.2 MB/s) - 'owl.fish.washington.edu/Athaliana/20180411_trimgalore_10bp_Cvirginica_MBD/20180411_fastqc_trim_10bp_Cvirginica_MBD/zr2096_4_s1_R2_val_2_fastqc.zip' saved [269182/269182]\n",
      "\n",
      "--2019-03-18 09:39:37--  http://owl.fish.washington.edu/Athaliana/20180411_trimgalore_10bp_Cvirginica_MBD/20180411_fastqc_trim_10bp_Cvirginica_MBD/zr2096_5_s1_R1_val_1_fastqc.zip\n",
      "Reusing existing connection to owl.fish.washington.edu:80.\n",
      "HTTP request sent, awaiting response... 200 OK\n",
      "Length: 277246 (271K) [application/zip]\n",
      "Saving to: 'owl.fish.washington.edu/Athaliana/20180411_trimgalore_10bp_Cvirginica_MBD/20180411_fastqc_trim_10bp_Cvirginica_MBD/zr2096_5_s1_R1_val_1_fastqc.zip'\n",
      "\n",
      "owl.fish.washington 100%[===================>] 270.75K  --.-KB/s    in 0.03s   \n",
      "\n",
      "2019-03-18 09:39:37 (9.42 MB/s) - 'owl.fish.washington.edu/Athaliana/20180411_trimgalore_10bp_Cvirginica_MBD/20180411_fastqc_trim_10bp_Cvirginica_MBD/zr2096_5_s1_R1_val_1_fastqc.zip' saved [277246/277246]\n",
      "\n",
      "--2019-03-18 09:39:37--  http://owl.fish.washington.edu/Athaliana/20180411_trimgalore_10bp_Cvirginica_MBD/20180411_fastqc_trim_10bp_Cvirginica_MBD/zr2096_5_s1_R2_val_2_fastqc.zip\n",
      "Reusing existing connection to owl.fish.washington.edu:80.\n",
      "HTTP request sent, awaiting response... 200 OK\n",
      "Length: 271336 (265K) [application/zip]\n",
      "Saving to: 'owl.fish.washington.edu/Athaliana/20180411_trimgalore_10bp_Cvirginica_MBD/20180411_fastqc_trim_10bp_Cvirginica_MBD/zr2096_5_s1_R2_val_2_fastqc.zip'\n",
      "\n",
      "owl.fish.washington 100%[===================>] 264.98K  --.-KB/s    in 0.003s  \n",
      "\n",
      "2019-03-18 09:39:37 (75.6 MB/s) - 'owl.fish.washington.edu/Athaliana/20180411_trimgalore_10bp_Cvirginica_MBD/20180411_fastqc_trim_10bp_Cvirginica_MBD/zr2096_5_s1_R2_val_2_fastqc.zip' saved [271336/271336]\n",
      "\n",
      "--2019-03-18 09:39:37--  http://owl.fish.washington.edu/Athaliana/20180411_trimgalore_10bp_Cvirginica_MBD/20180411_fastqc_trim_10bp_Cvirginica_MBD/zr2096_6_s1_R1_val_1_fastqc.zip\n",
      "Reusing existing connection to owl.fish.washington.edu:80.\n",
      "HTTP request sent, awaiting response... 200 OK\n",
      "Length: 277816 (271K) [application/zip]\n",
      "Saving to: 'owl.fish.washington.edu/Athaliana/20180411_trimgalore_10bp_Cvirginica_MBD/20180411_fastqc_trim_10bp_Cvirginica_MBD/zr2096_6_s1_R1_val_1_fastqc.zip'\n",
      "\n",
      "owl.fish.washington 100%[===================>] 271.30K  1.59MB/s    in 0.2s    \n",
      "\n",
      "2019-03-18 09:39:37 (1.59 MB/s) - 'owl.fish.washington.edu/Athaliana/20180411_trimgalore_10bp_Cvirginica_MBD/20180411_fastqc_trim_10bp_Cvirginica_MBD/zr2096_6_s1_R1_val_1_fastqc.zip' saved [277816/277816]\n",
      "\n",
      "--2019-03-18 09:39:37--  http://owl.fish.washington.edu/Athaliana/20180411_trimgalore_10bp_Cvirginica_MBD/20180411_fastqc_trim_10bp_Cvirginica_MBD/zr2096_6_s1_R2_val_2_fastqc.zip\n",
      "Reusing existing connection to owl.fish.washington.edu:80.\n",
      "HTTP request sent, awaiting response... 200 OK\n",
      "Length: 271808 (265K) [application/zip]\n",
      "Saving to: 'owl.fish.washington.edu/Athaliana/20180411_trimgalore_10bp_Cvirginica_MBD/20180411_fastqc_trim_10bp_Cvirginica_MBD/zr2096_6_s1_R2_val_2_fastqc.zip'\n",
      "\n",
      "owl.fish.washington 100%[===================>] 265.44K  --.-KB/s    in 0.003s  \n",
      "\n",
      "2019-03-18 09:39:37 (95.6 MB/s) - 'owl.fish.washington.edu/Athaliana/20180411_trimgalore_10bp_Cvirginica_MBD/20180411_fastqc_trim_10bp_Cvirginica_MBD/zr2096_6_s1_R2_val_2_fastqc.zip' saved [271808/271808]\n",
      "\n",
      "--2019-03-18 09:39:37--  http://owl.fish.washington.edu/Athaliana/20180411_trimgalore_10bp_Cvirginica_MBD/20180411_fastqc_trim_10bp_Cvirginica_MBD/zr2096_7_s1_R1_val_1_fastqc.zip\n",
      "Reusing existing connection to owl.fish.washington.edu:80.\n",
      "HTTP request sent, awaiting response... 200 OK\n",
      "Length: 278596 (272K) [application/zip]\n",
      "Saving to: 'owl.fish.washington.edu/Athaliana/20180411_trimgalore_10bp_Cvirginica_MBD/20180411_fastqc_trim_10bp_Cvirginica_MBD/zr2096_7_s1_R1_val_1_fastqc.zip'\n",
      "\n",
      "owl.fish.washington 100%[===================>] 272.07K  --.-KB/s    in 0.002s  \n",
      "\n",
      "2019-03-18 09:39:37 (129 MB/s) - 'owl.fish.washington.edu/Athaliana/20180411_trimgalore_10bp_Cvirginica_MBD/20180411_fastqc_trim_10bp_Cvirginica_MBD/zr2096_7_s1_R1_val_1_fastqc.zip' saved [278596/278596]\n",
      "\n",
      "--2019-03-18 09:39:37--  http://owl.fish.washington.edu/Athaliana/20180411_trimgalore_10bp_Cvirginica_MBD/20180411_fastqc_trim_10bp_Cvirginica_MBD/zr2096_7_s1_R2_val_2_fastqc.zip\n",
      "Reusing existing connection to owl.fish.washington.edu:80.\n",
      "HTTP request sent, awaiting response... 200 OK\n",
      "Length: 274113 (268K) [application/zip]\n",
      "Saving to: 'owl.fish.washington.edu/Athaliana/20180411_trimgalore_10bp_Cvirginica_MBD/20180411_fastqc_trim_10bp_Cvirginica_MBD/zr2096_7_s1_R2_val_2_fastqc.zip'\n",
      "\n",
      "owl.fish.washington 100%[===================>] 267.69K  --.-KB/s    in 0.02s   \n",
      "\n",
      "2019-03-18 09:39:37 (11.2 MB/s) - 'owl.fish.washington.edu/Athaliana/20180411_trimgalore_10bp_Cvirginica_MBD/20180411_fastqc_trim_10bp_Cvirginica_MBD/zr2096_7_s1_R2_val_2_fastqc.zip' saved [274113/274113]\n",
      "\n",
      "--2019-03-18 09:39:37--  http://owl.fish.washington.edu/Athaliana/20180411_trimgalore_10bp_Cvirginica_MBD/20180411_fastqc_trim_10bp_Cvirginica_MBD/zr2096_8_s1_R1_val_1_fastqc.zip\n",
      "Reusing existing connection to owl.fish.washington.edu:80.\n",
      "HTTP request sent, awaiting response... 200 OK\n",
      "Length: 283261 (277K) [application/zip]\n",
      "Saving to: 'owl.fish.washington.edu/Athaliana/20180411_trimgalore_10bp_Cvirginica_MBD/20180411_fastqc_trim_10bp_Cvirginica_MBD/zr2096_8_s1_R1_val_1_fastqc.zip'\n",
      "\n",
      "owl.fish.washington 100%[===================>] 276.62K  --.-KB/s    in 0.002s  \n",
      "\n",
      "2019-03-18 09:39:37 (118 MB/s) - 'owl.fish.washington.edu/Athaliana/20180411_trimgalore_10bp_Cvirginica_MBD/20180411_fastqc_trim_10bp_Cvirginica_MBD/zr2096_8_s1_R1_val_1_fastqc.zip' saved [283261/283261]\n",
      "\n",
      "--2019-03-18 09:39:37--  http://owl.fish.washington.edu/Athaliana/20180411_trimgalore_10bp_Cvirginica_MBD/20180411_fastqc_trim_10bp_Cvirginica_MBD/zr2096_8_s1_R2_val_2_fastqc.zip\n",
      "Reusing existing connection to owl.fish.washington.edu:80.\n",
      "HTTP request sent, awaiting response... 200 OK\n",
      "Length: 274615 (268K) [application/zip]\n",
      "Saving to: 'owl.fish.washington.edu/Athaliana/20180411_trimgalore_10bp_Cvirginica_MBD/20180411_fastqc_trim_10bp_Cvirginica_MBD/zr2096_8_s1_R2_val_2_fastqc.zip'\n",
      "\n",
      "owl.fish.washington 100%[===================>] 268.18K  --.-KB/s    in 0.003s  \n",
      "\n",
      "2019-03-18 09:39:37 (87.7 MB/s) - 'owl.fish.washington.edu/Athaliana/20180411_trimgalore_10bp_Cvirginica_MBD/20180411_fastqc_trim_10bp_Cvirginica_MBD/zr2096_8_s1_R2_val_2_fastqc.zip' saved [274615/274615]\n",
      "\n",
      "--2019-03-18 09:39:37--  http://owl.fish.washington.edu/Athaliana/20180411_trimgalore_10bp_Cvirginica_MBD/20180411_fastqc_trim_10bp_Cvirginica_MBD/zr2096_9_s1_R1_val_1_fastqc.zip\n",
      "Reusing existing connection to owl.fish.washington.edu:80.\n",
      "HTTP request sent, awaiting response... 200 OK\n",
      "Length: 284972 (278K) [application/zip]\n",
      "Saving to: 'owl.fish.washington.edu/Athaliana/20180411_trimgalore_10bp_Cvirginica_MBD/20180411_fastqc_trim_10bp_Cvirginica_MBD/zr2096_9_s1_R1_val_1_fastqc.zip'\n",
      "\n",
      "owl.fish.washington 100%[===================>] 278.29K  --.-KB/s    in 0.003s  \n",
      "\n",
      "2019-03-18 09:39:37 (101 MB/s) - 'owl.fish.washington.edu/Athaliana/20180411_trimgalore_10bp_Cvirginica_MBD/20180411_fastqc_trim_10bp_Cvirginica_MBD/zr2096_9_s1_R1_val_1_fastqc.zip' saved [284972/284972]\n",
      "\n",
      "--2019-03-18 09:39:37--  http://owl.fish.washington.edu/Athaliana/20180411_trimgalore_10bp_Cvirginica_MBD/20180411_fastqc_trim_10bp_Cvirginica_MBD/zr2096_9_s1_R2_val_2_fastqc.zip\n",
      "Reusing existing connection to owl.fish.washington.edu:80.\n",
      "HTTP request sent, awaiting response... 200 OK\n",
      "Length: 274089 (268K) [application/zip]\n",
      "Saving to: 'owl.fish.washington.edu/Athaliana/20180411_trimgalore_10bp_Cvirginica_MBD/20180411_fastqc_trim_10bp_Cvirginica_MBD/zr2096_9_s1_R2_val_2_fastqc.zip'\n",
      "\n",
      "owl.fish.washington 100%[===================>] 267.67K  --.-KB/s    in 0.1s    \n",
      "\n",
      "2019-03-18 09:39:38 (2.06 MB/s) - 'owl.fish.washington.edu/Athaliana/20180411_trimgalore_10bp_Cvirginica_MBD/20180411_fastqc_trim_10bp_Cvirginica_MBD/zr2096_9_s1_R2_val_2_fastqc.zip' saved [274089/274089]\n",
      "\n",
      "--2019-03-18 09:39:38--  http://owl.fish.washington.edu/Athaliana/20180411_trimgalore_10bp_Cvirginica_MBD/20180411_fastqc_trim_10bp_Cvirginica_MBD/zr2096_10_s1_R1_val_1_fastqc.zip\n",
      "Reusing existing connection to owl.fish.washington.edu:80.\n",
      "HTTP request sent, awaiting response... 200 OK\n",
      "Length: 286980 (280K) [application/zip]\n",
      "Saving to: 'owl.fish.washington.edu/Athaliana/20180411_trimgalore_10bp_Cvirginica_MBD/20180411_fastqc_trim_10bp_Cvirginica_MBD/zr2096_10_s1_R1_val_1_fastqc.zip'\n",
      "\n",
      "owl.fish.washington 100%[===================>] 280.25K  --.-KB/s    in 0.003s  \n",
      "\n",
      "2019-03-18 09:39:38 (85.4 MB/s) - 'owl.fish.washington.edu/Athaliana/20180411_trimgalore_10bp_Cvirginica_MBD/20180411_fastqc_trim_10bp_Cvirginica_MBD/zr2096_10_s1_R1_val_1_fastqc.zip' saved [286980/286980]\n",
      "\n",
      "--2019-03-18 09:39:38--  http://owl.fish.washington.edu/Athaliana/20180411_trimgalore_10bp_Cvirginica_MBD/20180411_fastqc_trim_10bp_Cvirginica_MBD/zr2096_10_s1_R2_val_2_fastqc.zip\n",
      "Reusing existing connection to owl.fish.washington.edu:80.\n",
      "HTTP request sent, awaiting response... 200 OK\n",
      "Length: 273009 (267K) [application/zip]\n",
      "Saving to: 'owl.fish.washington.edu/Athaliana/20180411_trimgalore_10bp_Cvirginica_MBD/20180411_fastqc_trim_10bp_Cvirginica_MBD/zr2096_10_s1_R2_val_2_fastqc.zip'\n",
      "\n",
      "owl.fish.washington 100%[===================>] 266.61K  --.-KB/s    in 0.003s  \n",
      "\n",
      "2019-03-18 09:39:38 (76.3 MB/s) - 'owl.fish.washington.edu/Athaliana/20180411_trimgalore_10bp_Cvirginica_MBD/20180411_fastqc_trim_10bp_Cvirginica_MBD/zr2096_10_s1_R2_val_2_fastqc.zip' saved [273009/273009]\n",
      "\n",
      "FINISHED --2019-03-18 09:39:38--\n",
      "Total wall clock time: 28s\n",
      "Downloaded: 26 files, 5.4M in 25s (221 KB/s)\n"
     ]
    }
   ],
   "source": [
    "#Download files from owl. The files will be downloaded in the same directory structure they are in online.\n",
    "!wget -r -l1 --no-parent -A_fastqc.zip \\\n",
    "http://owl.fish.washington.edu/Athaliana/20180411_trimgalore_10bp_Cvirginica_MBD/20180411_fastqc_trim_10bp_Cvirginica_MBD/"
   ]
  },
  {
   "cell_type": "code",
   "execution_count": 17,
   "metadata": {
    "collapsed": true
   },
   "outputs": [],
   "source": [
    "#Move all files from owl folder to the current directory\n",
    "!mv owl.fish.washington.edu/Athaliana/20180411_trimgalore_10bp_Cvirginica_MBD/20180411_fastqc_trim_10bp_Cvirginica_MBD/* ."
   ]
  },
  {
   "cell_type": "code",
   "execution_count": 18,
   "metadata": {
    "collapsed": false
   },
   "outputs": [
    {
     "name": "stdout",
     "output_type": "stream",
     "text": [
      "\u001b[34mmultiqc_data\u001b[m\u001b[m                     zr2096_4_s1_R2_val_2_fastqc.zip\r\n",
      "\u001b[34mowl.fish.washington.edu\u001b[m\u001b[m          zr2096_5_s1_R1_val_1_fastqc.zip\r\n",
      "zr2096_10_s1_R1_val_1_fastqc.zip zr2096_5_s1_R2_val_2_fastqc.zip\r\n",
      "zr2096_10_s1_R2_val_2_fastqc.zip zr2096_6_s1_R1_val_1_fastqc.zip\r\n",
      "zr2096_1_s1_R1_val_1_fastqc.zip  zr2096_6_s1_R2_val_2_fastqc.zip\r\n",
      "zr2096_1_s1_R2_val_2_fastqc.zip  zr2096_7_s1_R1_val_1_fastqc.zip\r\n",
      "zr2096_2_s1_R1_val_1_fastqc.zip  zr2096_7_s1_R2_val_2_fastqc.zip\r\n",
      "zr2096_2_s1_R2_val_2_fastqc.zip  zr2096_8_s1_R1_val_1_fastqc.zip\r\n",
      "zr2096_3_s1_R1_val_1_fastqc.zip  zr2096_8_s1_R2_val_2_fastqc.zip\r\n",
      "zr2096_3_s1_R2_val_2_fastqc.zip  zr2096_9_s1_R1_val_1_fastqc.zip\r\n",
      "zr2096_4_s1_R1_val_1_fastqc.zip  zr2096_9_s1_R2_val_2_fastqc.zip\r\n"
     ]
    }
   ],
   "source": [
    "#Confirm all files were moved\n",
    "!ls"
   ]
  },
  {
   "cell_type": "code",
   "execution_count": 19,
   "metadata": {
    "collapsed": true
   },
   "outputs": [],
   "source": [
    "#Remove the empty owl directory\n",
    "!rm -r owl.fish.washington.edu"
   ]
  },
  {
   "cell_type": "markdown",
   "metadata": {},
   "source": [
    "### 1b. Count reads"
   ]
  },
  {
   "cell_type": "markdown",
   "metadata": {},
   "source": [
    "First, I'll test a loop and ensure it identifies all of the  files I want to use by having the loop print the filename of each file (`f`):"
   ]
  },
  {
   "cell_type": "code",
   "execution_count": 30,
   "metadata": {
    "collapsed": false
   },
   "outputs": [
    {
     "name": "stdout",
     "output_type": "stream",
     "text": [
      "zr2096_10_s1_R1_val_1_fastqc.zip\n",
      "zr2096_10_s1_R2_val_2_fastqc.zip\n",
      "zr2096_1_s1_R1_val_1_fastqc.zip\n",
      "zr2096_1_s1_R2_val_2_fastqc.zip\n",
      "zr2096_2_s1_R1_val_1_fastqc.zip\n",
      "zr2096_2_s1_R2_val_2_fastqc.zip\n",
      "zr2096_3_s1_R1_val_1_fastqc.zip\n",
      "zr2096_3_s1_R2_val_2_fastqc.zip\n",
      "zr2096_4_s1_R1_val_1_fastqc.zip\n",
      "zr2096_4_s1_R2_val_2_fastqc.zip\n",
      "zr2096_5_s1_R1_val_1_fastqc.zip\n",
      "zr2096_5_s1_R2_val_2_fastqc.zip\n",
      "zr2096_6_s1_R1_val_1_fastqc.zip\n",
      "zr2096_6_s1_R2_val_2_fastqc.zip\n",
      "zr2096_7_s1_R1_val_1_fastqc.zip\n",
      "zr2096_7_s1_R2_val_2_fastqc.zip\n",
      "zr2096_8_s1_R1_val_1_fastqc.zip\n",
      "zr2096_8_s1_R2_val_2_fastqc.zip\n",
      "zr2096_9_s1_R1_val_1_fastqc.zip\n",
      "zr2096_9_s1_R2_val_2_fastqc.zip\n"
     ]
    }
   ],
   "source": [
    "%%bash\n",
    "for f in *zip\n",
    "do\n",
    "    echo ${f}\n",
    "done"
   ]
  },
  {
   "cell_type": "markdown",
   "metadata": {},
   "source": [
    "Now that I know it works, I'm going to count the number of reads in each file. I will first unzip each file with `unzip`."
   ]
  },
  {
   "cell_type": "code",
   "execution_count": 35,
   "metadata": {
    "collapsed": false
   },
   "outputs": [
    {
     "name": "stdout",
     "output_type": "stream",
     "text": [
      "Archive:  zr2096_10_s1_R1_val_1_fastqc.zip\n",
      "   creating: zr2096_10_s1_R1_val_1_fastqc/\n",
      "   creating: zr2096_10_s1_R1_val_1_fastqc/Icons/\n",
      "   creating: zr2096_10_s1_R1_val_1_fastqc/Images/\n",
      "  inflating: zr2096_10_s1_R1_val_1_fastqc/Icons/fastqc_icon.png  \n",
      "  inflating: zr2096_10_s1_R1_val_1_fastqc/Icons/warning.png  \n",
      "  inflating: zr2096_10_s1_R1_val_1_fastqc/Icons/error.png  \n",
      "  inflating: zr2096_10_s1_R1_val_1_fastqc/Icons/tick.png  \n",
      "  inflating: zr2096_10_s1_R1_val_1_fastqc/summary.txt  \n",
      "  inflating: zr2096_10_s1_R1_val_1_fastqc/Images/per_base_quality.png  \n",
      "  inflating: zr2096_10_s1_R1_val_1_fastqc/Images/per_tile_quality.png  \n",
      "  inflating: zr2096_10_s1_R1_val_1_fastqc/Images/per_sequence_quality.png  \n",
      "  inflating: zr2096_10_s1_R1_val_1_fastqc/Images/per_base_sequence_content.png  \n",
      "  inflating: zr2096_10_s1_R1_val_1_fastqc/Images/per_sequence_gc_content.png  \n",
      "  inflating: zr2096_10_s1_R1_val_1_fastqc/Images/per_base_n_content.png  \n",
      "  inflating: zr2096_10_s1_R1_val_1_fastqc/Images/sequence_length_distribution.png  \n",
      "  inflating: zr2096_10_s1_R1_val_1_fastqc/Images/duplication_levels.png  \n",
      "  inflating: zr2096_10_s1_R1_val_1_fastqc/Images/adapter_content.png  \n",
      "  inflating: zr2096_10_s1_R1_val_1_fastqc/fastqc_report.html  \n",
      "  inflating: zr2096_10_s1_R1_val_1_fastqc/fastqc_data.txt  \n",
      "  inflating: zr2096_10_s1_R1_val_1_fastqc/fastqc.fo  \n",
      "Archive:  zr2096_10_s1_R2_val_2_fastqc.zip\n",
      "   creating: zr2096_10_s1_R2_val_2_fastqc/\n",
      "   creating: zr2096_10_s1_R2_val_2_fastqc/Icons/\n",
      "   creating: zr2096_10_s1_R2_val_2_fastqc/Images/\n",
      "  inflating: zr2096_10_s1_R2_val_2_fastqc/Icons/fastqc_icon.png  \n",
      "  inflating: zr2096_10_s1_R2_val_2_fastqc/Icons/warning.png  \n",
      "  inflating: zr2096_10_s1_R2_val_2_fastqc/Icons/error.png  \n",
      "  inflating: zr2096_10_s1_R2_val_2_fastqc/Icons/tick.png  \n",
      "  inflating: zr2096_10_s1_R2_val_2_fastqc/summary.txt  \n",
      "  inflating: zr2096_10_s1_R2_val_2_fastqc/Images/per_base_quality.png  \n",
      "  inflating: zr2096_10_s1_R2_val_2_fastqc/Images/per_tile_quality.png  \n",
      "  inflating: zr2096_10_s1_R2_val_2_fastqc/Images/per_sequence_quality.png  \n",
      "  inflating: zr2096_10_s1_R2_val_2_fastqc/Images/per_base_sequence_content.png  \n",
      "  inflating: zr2096_10_s1_R2_val_2_fastqc/Images/per_sequence_gc_content.png  \n",
      "  inflating: zr2096_10_s1_R2_val_2_fastqc/Images/per_base_n_content.png  \n",
      "  inflating: zr2096_10_s1_R2_val_2_fastqc/Images/sequence_length_distribution.png  \n",
      "  inflating: zr2096_10_s1_R2_val_2_fastqc/Images/duplication_levels.png  \n",
      "  inflating: zr2096_10_s1_R2_val_2_fastqc/Images/adapter_content.png  \n",
      "  inflating: zr2096_10_s1_R2_val_2_fastqc/fastqc_report.html  \n",
      "  inflating: zr2096_10_s1_R2_val_2_fastqc/fastqc_data.txt  \n",
      "  inflating: zr2096_10_s1_R2_val_2_fastqc/fastqc.fo  \n",
      "Archive:  zr2096_1_s1_R1_val_1_fastqc.zip\n",
      "   creating: zr2096_1_s1_R1_val_1_fastqc/\n",
      "   creating: zr2096_1_s1_R1_val_1_fastqc/Icons/\n",
      "   creating: zr2096_1_s1_R1_val_1_fastqc/Images/\n",
      "  inflating: zr2096_1_s1_R1_val_1_fastqc/Icons/fastqc_icon.png  \n",
      "  inflating: zr2096_1_s1_R1_val_1_fastqc/Icons/warning.png  \n",
      "  inflating: zr2096_1_s1_R1_val_1_fastqc/Icons/error.png  \n",
      "  inflating: zr2096_1_s1_R1_val_1_fastqc/Icons/tick.png  \n",
      "  inflating: zr2096_1_s1_R1_val_1_fastqc/summary.txt  \n",
      "  inflating: zr2096_1_s1_R1_val_1_fastqc/Images/per_base_quality.png  \n",
      "  inflating: zr2096_1_s1_R1_val_1_fastqc/Images/per_tile_quality.png  \n",
      "  inflating: zr2096_1_s1_R1_val_1_fastqc/Images/per_sequence_quality.png  \n",
      "  inflating: zr2096_1_s1_R1_val_1_fastqc/Images/per_base_sequence_content.png  \n",
      "  inflating: zr2096_1_s1_R1_val_1_fastqc/Images/per_sequence_gc_content.png  \n",
      "  inflating: zr2096_1_s1_R1_val_1_fastqc/Images/per_base_n_content.png  \n",
      "  inflating: zr2096_1_s1_R1_val_1_fastqc/Images/sequence_length_distribution.png  \n",
      "  inflating: zr2096_1_s1_R1_val_1_fastqc/Images/duplication_levels.png  \n",
      "  inflating: zr2096_1_s1_R1_val_1_fastqc/Images/adapter_content.png  \n",
      "  inflating: zr2096_1_s1_R1_val_1_fastqc/fastqc_report.html  \n",
      "  inflating: zr2096_1_s1_R1_val_1_fastqc/fastqc_data.txt  \n",
      "  inflating: zr2096_1_s1_R1_val_1_fastqc/fastqc.fo  \n",
      "Archive:  zr2096_1_s1_R2_val_2_fastqc.zip\n",
      "   creating: zr2096_1_s1_R2_val_2_fastqc/\n",
      "   creating: zr2096_1_s1_R2_val_2_fastqc/Icons/\n",
      "   creating: zr2096_1_s1_R2_val_2_fastqc/Images/\n",
      "  inflating: zr2096_1_s1_R2_val_2_fastqc/Icons/fastqc_icon.png  \n",
      "  inflating: zr2096_1_s1_R2_val_2_fastqc/Icons/warning.png  \n",
      "  inflating: zr2096_1_s1_R2_val_2_fastqc/Icons/error.png  \n",
      "  inflating: zr2096_1_s1_R2_val_2_fastqc/Icons/tick.png  \n",
      "  inflating: zr2096_1_s1_R2_val_2_fastqc/summary.txt  \n",
      "  inflating: zr2096_1_s1_R2_val_2_fastqc/Images/per_base_quality.png  \n",
      "  inflating: zr2096_1_s1_R2_val_2_fastqc/Images/per_tile_quality.png  \n",
      "  inflating: zr2096_1_s1_R2_val_2_fastqc/Images/per_sequence_quality.png  \n",
      "  inflating: zr2096_1_s1_R2_val_2_fastqc/Images/per_base_sequence_content.png  \n",
      "  inflating: zr2096_1_s1_R2_val_2_fastqc/Images/per_sequence_gc_content.png  \n",
      "  inflating: zr2096_1_s1_R2_val_2_fastqc/Images/per_base_n_content.png  \n",
      "  inflating: zr2096_1_s1_R2_val_2_fastqc/Images/sequence_length_distribution.png  \n",
      "  inflating: zr2096_1_s1_R2_val_2_fastqc/Images/duplication_levels.png  \n",
      "  inflating: zr2096_1_s1_R2_val_2_fastqc/Images/adapter_content.png  \n",
      "  inflating: zr2096_1_s1_R2_val_2_fastqc/fastqc_report.html  \n",
      "  inflating: zr2096_1_s1_R2_val_2_fastqc/fastqc_data.txt  \n",
      "  inflating: zr2096_1_s1_R2_val_2_fastqc/fastqc.fo  \n",
      "Archive:  zr2096_2_s1_R1_val_1_fastqc.zip\n",
      "   creating: zr2096_2_s1_R1_val_1_fastqc/\n",
      "   creating: zr2096_2_s1_R1_val_1_fastqc/Icons/\n",
      "   creating: zr2096_2_s1_R1_val_1_fastqc/Images/\n",
      "  inflating: zr2096_2_s1_R1_val_1_fastqc/Icons/fastqc_icon.png  \n",
      "  inflating: zr2096_2_s1_R1_val_1_fastqc/Icons/warning.png  \n",
      "  inflating: zr2096_2_s1_R1_val_1_fastqc/Icons/error.png  \n",
      "  inflating: zr2096_2_s1_R1_val_1_fastqc/Icons/tick.png  \n",
      "  inflating: zr2096_2_s1_R1_val_1_fastqc/summary.txt  \n",
      "  inflating: zr2096_2_s1_R1_val_1_fastqc/Images/per_base_quality.png  \n",
      "  inflating: zr2096_2_s1_R1_val_1_fastqc/Images/per_tile_quality.png  \n",
      "  inflating: zr2096_2_s1_R1_val_1_fastqc/Images/per_sequence_quality.png  \n",
      "  inflating: zr2096_2_s1_R1_val_1_fastqc/Images/per_base_sequence_content.png  \n",
      "  inflating: zr2096_2_s1_R1_val_1_fastqc/Images/per_sequence_gc_content.png  \n",
      "  inflating: zr2096_2_s1_R1_val_1_fastqc/Images/per_base_n_content.png  \n",
      "  inflating: zr2096_2_s1_R1_val_1_fastqc/Images/sequence_length_distribution.png  \n",
      "  inflating: zr2096_2_s1_R1_val_1_fastqc/Images/duplication_levels.png  \n",
      "  inflating: zr2096_2_s1_R1_val_1_fastqc/Images/adapter_content.png  \n",
      "  inflating: zr2096_2_s1_R1_val_1_fastqc/fastqc_report.html  \n",
      "  inflating: zr2096_2_s1_R1_val_1_fastqc/fastqc_data.txt  \n",
      "  inflating: zr2096_2_s1_R1_val_1_fastqc/fastqc.fo  \n",
      "Archive:  zr2096_2_s1_R2_val_2_fastqc.zip\n",
      "   creating: zr2096_2_s1_R2_val_2_fastqc/\n",
      "   creating: zr2096_2_s1_R2_val_2_fastqc/Icons/\n",
      "   creating: zr2096_2_s1_R2_val_2_fastqc/Images/\n",
      "  inflating: zr2096_2_s1_R2_val_2_fastqc/Icons/fastqc_icon.png  \n",
      "  inflating: zr2096_2_s1_R2_val_2_fastqc/Icons/warning.png  \n",
      "  inflating: zr2096_2_s1_R2_val_2_fastqc/Icons/error.png  \n",
      "  inflating: zr2096_2_s1_R2_val_2_fastqc/Icons/tick.png  \n",
      "  inflating: zr2096_2_s1_R2_val_2_fastqc/summary.txt  \n",
      "  inflating: zr2096_2_s1_R2_val_2_fastqc/Images/per_base_quality.png  \n",
      "  inflating: zr2096_2_s1_R2_val_2_fastqc/Images/per_tile_quality.png  \n",
      "  inflating: zr2096_2_s1_R2_val_2_fastqc/Images/per_sequence_quality.png  \n",
      "  inflating: zr2096_2_s1_R2_val_2_fastqc/Images/per_base_sequence_content.png  \n",
      "  inflating: zr2096_2_s1_R2_val_2_fastqc/Images/per_sequence_gc_content.png  \n",
      "  inflating: zr2096_2_s1_R2_val_2_fastqc/Images/per_base_n_content.png  \n",
      "  inflating: zr2096_2_s1_R2_val_2_fastqc/Images/sequence_length_distribution.png  \n",
      "  inflating: zr2096_2_s1_R2_val_2_fastqc/Images/duplication_levels.png  \n",
      "  inflating: zr2096_2_s1_R2_val_2_fastqc/Images/adapter_content.png  \n",
      "  inflating: zr2096_2_s1_R2_val_2_fastqc/fastqc_report.html  \n",
      "  inflating: zr2096_2_s1_R2_val_2_fastqc/fastqc_data.txt  \n",
      "  inflating: zr2096_2_s1_R2_val_2_fastqc/fastqc.fo  \n",
      "Archive:  zr2096_3_s1_R1_val_1_fastqc.zip\n",
      "   creating: zr2096_3_s1_R1_val_1_fastqc/\n",
      "   creating: zr2096_3_s1_R1_val_1_fastqc/Icons/\n",
      "   creating: zr2096_3_s1_R1_val_1_fastqc/Images/\n",
      "  inflating: zr2096_3_s1_R1_val_1_fastqc/Icons/fastqc_icon.png  \n",
      "  inflating: zr2096_3_s1_R1_val_1_fastqc/Icons/warning.png  \n",
      "  inflating: zr2096_3_s1_R1_val_1_fastqc/Icons/error.png  \n",
      "  inflating: zr2096_3_s1_R1_val_1_fastqc/Icons/tick.png  \n",
      "  inflating: zr2096_3_s1_R1_val_1_fastqc/summary.txt  \n",
      "  inflating: zr2096_3_s1_R1_val_1_fastqc/Images/per_base_quality.png  \n",
      "  inflating: zr2096_3_s1_R1_val_1_fastqc/Images/per_tile_quality.png  \n",
      "  inflating: zr2096_3_s1_R1_val_1_fastqc/Images/per_sequence_quality.png  \n",
      "  inflating: zr2096_3_s1_R1_val_1_fastqc/Images/per_base_sequence_content.png  \n",
      "  inflating: zr2096_3_s1_R1_val_1_fastqc/Images/per_sequence_gc_content.png  \n",
      "  inflating: zr2096_3_s1_R1_val_1_fastqc/Images/per_base_n_content.png  \n",
      "  inflating: zr2096_3_s1_R1_val_1_fastqc/Images/sequence_length_distribution.png  \n",
      "  inflating: zr2096_3_s1_R1_val_1_fastqc/Images/duplication_levels.png  \n",
      "  inflating: zr2096_3_s1_R1_val_1_fastqc/Images/adapter_content.png  \n",
      "  inflating: zr2096_3_s1_R1_val_1_fastqc/fastqc_report.html  \n",
      "  inflating: zr2096_3_s1_R1_val_1_fastqc/fastqc_data.txt  \n",
      "  inflating: zr2096_3_s1_R1_val_1_fastqc/fastqc.fo  \n",
      "Archive:  zr2096_3_s1_R2_val_2_fastqc.zip\n",
      "   creating: zr2096_3_s1_R2_val_2_fastqc/\n",
      "   creating: zr2096_3_s1_R2_val_2_fastqc/Icons/\n",
      "   creating: zr2096_3_s1_R2_val_2_fastqc/Images/\n",
      "  inflating: zr2096_3_s1_R2_val_2_fastqc/Icons/fastqc_icon.png  \n",
      "  inflating: zr2096_3_s1_R2_val_2_fastqc/Icons/warning.png  \n",
      "  inflating: zr2096_3_s1_R2_val_2_fastqc/Icons/error.png  \n",
      "  inflating: zr2096_3_s1_R2_val_2_fastqc/Icons/tick.png  \n",
      "  inflating: zr2096_3_s1_R2_val_2_fastqc/summary.txt  \n",
      "  inflating: zr2096_3_s1_R2_val_2_fastqc/Images/per_base_quality.png  \n",
      "  inflating: zr2096_3_s1_R2_val_2_fastqc/Images/per_tile_quality.png  \n",
      "  inflating: zr2096_3_s1_R2_val_2_fastqc/Images/per_sequence_quality.png  \n",
      "  inflating: zr2096_3_s1_R2_val_2_fastqc/Images/per_base_sequence_content.png  \n",
      "  inflating: zr2096_3_s1_R2_val_2_fastqc/Images/per_sequence_gc_content.png  \n",
      "  inflating: zr2096_3_s1_R2_val_2_fastqc/Images/per_base_n_content.png  \n",
      "  inflating: zr2096_3_s1_R2_val_2_fastqc/Images/sequence_length_distribution.png  \n",
      "  inflating: zr2096_3_s1_R2_val_2_fastqc/Images/duplication_levels.png  \n",
      "  inflating: zr2096_3_s1_R2_val_2_fastqc/Images/adapter_content.png  \n",
      "  inflating: zr2096_3_s1_R2_val_2_fastqc/fastqc_report.html  \n",
      "  inflating: zr2096_3_s1_R2_val_2_fastqc/fastqc_data.txt  \n",
      "  inflating: zr2096_3_s1_R2_val_2_fastqc/fastqc.fo  \n",
      "Archive:  zr2096_4_s1_R1_val_1_fastqc.zip\n",
      "   creating: zr2096_4_s1_R1_val_1_fastqc/\n",
      "   creating: zr2096_4_s1_R1_val_1_fastqc/Icons/\n",
      "   creating: zr2096_4_s1_R1_val_1_fastqc/Images/\n",
      "  inflating: zr2096_4_s1_R1_val_1_fastqc/Icons/fastqc_icon.png  \n",
      "  inflating: zr2096_4_s1_R1_val_1_fastqc/Icons/warning.png  \n",
      "  inflating: zr2096_4_s1_R1_val_1_fastqc/Icons/error.png  \n",
      "  inflating: zr2096_4_s1_R1_val_1_fastqc/Icons/tick.png  \n",
      "  inflating: zr2096_4_s1_R1_val_1_fastqc/summary.txt  \n",
      "  inflating: zr2096_4_s1_R1_val_1_fastqc/Images/per_base_quality.png  \n",
      "  inflating: zr2096_4_s1_R1_val_1_fastqc/Images/per_tile_quality.png  \n",
      "  inflating: zr2096_4_s1_R1_val_1_fastqc/Images/per_sequence_quality.png  \n",
      "  inflating: zr2096_4_s1_R1_val_1_fastqc/Images/per_base_sequence_content.png  \n",
      "  inflating: zr2096_4_s1_R1_val_1_fastqc/Images/per_sequence_gc_content.png  \n",
      "  inflating: zr2096_4_s1_R1_val_1_fastqc/Images/per_base_n_content.png  \n",
      "  inflating: zr2096_4_s1_R1_val_1_fastqc/Images/sequence_length_distribution.png  \n",
      "  inflating: zr2096_4_s1_R1_val_1_fastqc/Images/duplication_levels.png  \n",
      "  inflating: zr2096_4_s1_R1_val_1_fastqc/Images/adapter_content.png  \n",
      "  inflating: zr2096_4_s1_R1_val_1_fastqc/fastqc_report.html  \n",
      "  inflating: zr2096_4_s1_R1_val_1_fastqc/fastqc_data.txt  \n",
      "  inflating: zr2096_4_s1_R1_val_1_fastqc/fastqc.fo  \n",
      "Archive:  zr2096_4_s1_R2_val_2_fastqc.zip\n",
      "   creating: zr2096_4_s1_R2_val_2_fastqc/\n",
      "   creating: zr2096_4_s1_R2_val_2_fastqc/Icons/\n",
      "   creating: zr2096_4_s1_R2_val_2_fastqc/Images/\n",
      "  inflating: zr2096_4_s1_R2_val_2_fastqc/Icons/fastqc_icon.png  \n",
      "  inflating: zr2096_4_s1_R2_val_2_fastqc/Icons/warning.png  \n",
      "  inflating: zr2096_4_s1_R2_val_2_fastqc/Icons/error.png  \n",
      "  inflating: zr2096_4_s1_R2_val_2_fastqc/Icons/tick.png  \n",
      "  inflating: zr2096_4_s1_R2_val_2_fastqc/summary.txt  \n",
      "  inflating: zr2096_4_s1_R2_val_2_fastqc/Images/per_base_quality.png  \n",
      "  inflating: zr2096_4_s1_R2_val_2_fastqc/Images/per_tile_quality.png  \n",
      "  inflating: zr2096_4_s1_R2_val_2_fastqc/Images/per_sequence_quality.png  \n",
      "  inflating: zr2096_4_s1_R2_val_2_fastqc/Images/per_base_sequence_content.png  \n",
      "  inflating: zr2096_4_s1_R2_val_2_fastqc/Images/per_sequence_gc_content.png  \n",
      "  inflating: zr2096_4_s1_R2_val_2_fastqc/Images/per_base_n_content.png  \n",
      "  inflating: zr2096_4_s1_R2_val_2_fastqc/Images/sequence_length_distribution.png  \n",
      "  inflating: zr2096_4_s1_R2_val_2_fastqc/Images/duplication_levels.png  \n",
      "  inflating: zr2096_4_s1_R2_val_2_fastqc/Images/adapter_content.png  \n",
      "  inflating: zr2096_4_s1_R2_val_2_fastqc/fastqc_report.html  \n",
      "  inflating: zr2096_4_s1_R2_val_2_fastqc/fastqc_data.txt  \n",
      "  inflating: zr2096_4_s1_R2_val_2_fastqc/fastqc.fo  \n",
      "Archive:  zr2096_5_s1_R1_val_1_fastqc.zip\n",
      "   creating: zr2096_5_s1_R1_val_1_fastqc/\n",
      "   creating: zr2096_5_s1_R1_val_1_fastqc/Icons/\n",
      "   creating: zr2096_5_s1_R1_val_1_fastqc/Images/\n",
      "  inflating: zr2096_5_s1_R1_val_1_fastqc/Icons/fastqc_icon.png  \n",
      "  inflating: zr2096_5_s1_R1_val_1_fastqc/Icons/warning.png  \n",
      "  inflating: zr2096_5_s1_R1_val_1_fastqc/Icons/error.png  \n",
      "  inflating: zr2096_5_s1_R1_val_1_fastqc/Icons/tick.png  \n",
      "  inflating: zr2096_5_s1_R1_val_1_fastqc/summary.txt  \n",
      "  inflating: zr2096_5_s1_R1_val_1_fastqc/Images/per_base_quality.png  \n",
      "  inflating: zr2096_5_s1_R1_val_1_fastqc/Images/per_tile_quality.png  \n",
      "  inflating: zr2096_5_s1_R1_val_1_fastqc/Images/per_sequence_quality.png  \n",
      "  inflating: zr2096_5_s1_R1_val_1_fastqc/Images/per_base_sequence_content.png  \n",
      "  inflating: zr2096_5_s1_R1_val_1_fastqc/Images/per_sequence_gc_content.png  \n",
      "  inflating: zr2096_5_s1_R1_val_1_fastqc/Images/per_base_n_content.png  \n",
      "  inflating: zr2096_5_s1_R1_val_1_fastqc/Images/sequence_length_distribution.png  \n",
      "  inflating: zr2096_5_s1_R1_val_1_fastqc/Images/duplication_levels.png  \n",
      "  inflating: zr2096_5_s1_R1_val_1_fastqc/Images/adapter_content.png  \n",
      "  inflating: zr2096_5_s1_R1_val_1_fastqc/fastqc_report.html  \n",
      "  inflating: zr2096_5_s1_R1_val_1_fastqc/fastqc_data.txt  \n",
      "  inflating: zr2096_5_s1_R1_val_1_fastqc/fastqc.fo  \n",
      "Archive:  zr2096_5_s1_R2_val_2_fastqc.zip\n",
      "   creating: zr2096_5_s1_R2_val_2_fastqc/\n",
      "   creating: zr2096_5_s1_R2_val_2_fastqc/Icons/\n",
      "   creating: zr2096_5_s1_R2_val_2_fastqc/Images/\n",
      "  inflating: zr2096_5_s1_R2_val_2_fastqc/Icons/fastqc_icon.png  \n",
      "  inflating: zr2096_5_s1_R2_val_2_fastqc/Icons/warning.png  \n",
      "  inflating: zr2096_5_s1_R2_val_2_fastqc/Icons/error.png  \n",
      "  inflating: zr2096_5_s1_R2_val_2_fastqc/Icons/tick.png  \n",
      "  inflating: zr2096_5_s1_R2_val_2_fastqc/summary.txt  \n",
      "  inflating: zr2096_5_s1_R2_val_2_fastqc/Images/per_base_quality.png  \n",
      "  inflating: zr2096_5_s1_R2_val_2_fastqc/Images/per_tile_quality.png  \n",
      "  inflating: zr2096_5_s1_R2_val_2_fastqc/Images/per_sequence_quality.png  \n",
      "  inflating: zr2096_5_s1_R2_val_2_fastqc/Images/per_base_sequence_content.png  \n",
      "  inflating: zr2096_5_s1_R2_val_2_fastqc/Images/per_sequence_gc_content.png  \n",
      "  inflating: zr2096_5_s1_R2_val_2_fastqc/Images/per_base_n_content.png  \n",
      "  inflating: zr2096_5_s1_R2_val_2_fastqc/Images/sequence_length_distribution.png  \n",
      "  inflating: zr2096_5_s1_R2_val_2_fastqc/Images/duplication_levels.png  \n",
      "  inflating: zr2096_5_s1_R2_val_2_fastqc/Images/adapter_content.png  \n",
      "  inflating: zr2096_5_s1_R2_val_2_fastqc/fastqc_report.html  \n",
      "  inflating: zr2096_5_s1_R2_val_2_fastqc/fastqc_data.txt  \n",
      "  inflating: zr2096_5_s1_R2_val_2_fastqc/fastqc.fo  \n",
      "Archive:  zr2096_6_s1_R1_val_1_fastqc.zip\n",
      "   creating: zr2096_6_s1_R1_val_1_fastqc/\n",
      "   creating: zr2096_6_s1_R1_val_1_fastqc/Icons/\n",
      "   creating: zr2096_6_s1_R1_val_1_fastqc/Images/\n",
      "  inflating: zr2096_6_s1_R1_val_1_fastqc/Icons/fastqc_icon.png  \n",
      "  inflating: zr2096_6_s1_R1_val_1_fastqc/Icons/warning.png  \n",
      "  inflating: zr2096_6_s1_R1_val_1_fastqc/Icons/error.png  \n",
      "  inflating: zr2096_6_s1_R1_val_1_fastqc/Icons/tick.png  \n",
      "  inflating: zr2096_6_s1_R1_val_1_fastqc/summary.txt  \n",
      "  inflating: zr2096_6_s1_R1_val_1_fastqc/Images/per_base_quality.png  \n",
      "  inflating: zr2096_6_s1_R1_val_1_fastqc/Images/per_tile_quality.png  \n",
      "  inflating: zr2096_6_s1_R1_val_1_fastqc/Images/per_sequence_quality.png  \n",
      "  inflating: zr2096_6_s1_R1_val_1_fastqc/Images/per_base_sequence_content.png  \n",
      "  inflating: zr2096_6_s1_R1_val_1_fastqc/Images/per_sequence_gc_content.png  \n",
      "  inflating: zr2096_6_s1_R1_val_1_fastqc/Images/per_base_n_content.png  \n",
      "  inflating: zr2096_6_s1_R1_val_1_fastqc/Images/sequence_length_distribution.png  \n",
      "  inflating: zr2096_6_s1_R1_val_1_fastqc/Images/duplication_levels.png  \n",
      "  inflating: zr2096_6_s1_R1_val_1_fastqc/Images/adapter_content.png  \n",
      "  inflating: zr2096_6_s1_R1_val_1_fastqc/fastqc_report.html  \n",
      "  inflating: zr2096_6_s1_R1_val_1_fastqc/fastqc_data.txt  \n",
      "  inflating: zr2096_6_s1_R1_val_1_fastqc/fastqc.fo  \n",
      "Archive:  zr2096_6_s1_R2_val_2_fastqc.zip\n",
      "   creating: zr2096_6_s1_R2_val_2_fastqc/\n",
      "   creating: zr2096_6_s1_R2_val_2_fastqc/Icons/\n",
      "   creating: zr2096_6_s1_R2_val_2_fastqc/Images/\n",
      "  inflating: zr2096_6_s1_R2_val_2_fastqc/Icons/fastqc_icon.png  \n",
      "  inflating: zr2096_6_s1_R2_val_2_fastqc/Icons/warning.png  \n",
      "  inflating: zr2096_6_s1_R2_val_2_fastqc/Icons/error.png  \n",
      "  inflating: zr2096_6_s1_R2_val_2_fastqc/Icons/tick.png  \n",
      "  inflating: zr2096_6_s1_R2_val_2_fastqc/summary.txt  \n",
      "  inflating: zr2096_6_s1_R2_val_2_fastqc/Images/per_base_quality.png  \n",
      "  inflating: zr2096_6_s1_R2_val_2_fastqc/Images/per_tile_quality.png  \n",
      "  inflating: zr2096_6_s1_R2_val_2_fastqc/Images/per_sequence_quality.png  \n",
      "  inflating: zr2096_6_s1_R2_val_2_fastqc/Images/per_base_sequence_content.png  \n",
      "  inflating: zr2096_6_s1_R2_val_2_fastqc/Images/per_sequence_gc_content.png  \n",
      "  inflating: zr2096_6_s1_R2_val_2_fastqc/Images/per_base_n_content.png  \n",
      "  inflating: zr2096_6_s1_R2_val_2_fastqc/Images/sequence_length_distribution.png  \n",
      "  inflating: zr2096_6_s1_R2_val_2_fastqc/Images/duplication_levels.png  \n",
      "  inflating: zr2096_6_s1_R2_val_2_fastqc/Images/adapter_content.png  \n",
      "  inflating: zr2096_6_s1_R2_val_2_fastqc/fastqc_report.html  \n",
      "  inflating: zr2096_6_s1_R2_val_2_fastqc/fastqc_data.txt  \n",
      "  inflating: zr2096_6_s1_R2_val_2_fastqc/fastqc.fo  \n",
      "Archive:  zr2096_7_s1_R1_val_1_fastqc.zip\n",
      "   creating: zr2096_7_s1_R1_val_1_fastqc/\n",
      "   creating: zr2096_7_s1_R1_val_1_fastqc/Icons/\n",
      "   creating: zr2096_7_s1_R1_val_1_fastqc/Images/\n",
      "  inflating: zr2096_7_s1_R1_val_1_fastqc/Icons/fastqc_icon.png  \n",
      "  inflating: zr2096_7_s1_R1_val_1_fastqc/Icons/warning.png  \n",
      "  inflating: zr2096_7_s1_R1_val_1_fastqc/Icons/error.png  \n",
      "  inflating: zr2096_7_s1_R1_val_1_fastqc/Icons/tick.png  \n",
      "  inflating: zr2096_7_s1_R1_val_1_fastqc/summary.txt  \n",
      "  inflating: zr2096_7_s1_R1_val_1_fastqc/Images/per_base_quality.png  \n",
      "  inflating: zr2096_7_s1_R1_val_1_fastqc/Images/per_tile_quality.png  \n",
      "  inflating: zr2096_7_s1_R1_val_1_fastqc/Images/per_sequence_quality.png  \n",
      "  inflating: zr2096_7_s1_R1_val_1_fastqc/Images/per_base_sequence_content.png  \n",
      "  inflating: zr2096_7_s1_R1_val_1_fastqc/Images/per_sequence_gc_content.png  \n",
      "  inflating: zr2096_7_s1_R1_val_1_fastqc/Images/per_base_n_content.png  \n",
      "  inflating: zr2096_7_s1_R1_val_1_fastqc/Images/sequence_length_distribution.png  \n",
      "  inflating: zr2096_7_s1_R1_val_1_fastqc/Images/duplication_levels.png  \n",
      "  inflating: zr2096_7_s1_R1_val_1_fastqc/Images/adapter_content.png  \n",
      "  inflating: zr2096_7_s1_R1_val_1_fastqc/fastqc_report.html  \n",
      "  inflating: zr2096_7_s1_R1_val_1_fastqc/fastqc_data.txt  \n",
      "  inflating: zr2096_7_s1_R1_val_1_fastqc/fastqc.fo  \n",
      "Archive:  zr2096_7_s1_R2_val_2_fastqc.zip\n",
      "   creating: zr2096_7_s1_R2_val_2_fastqc/\n",
      "   creating: zr2096_7_s1_R2_val_2_fastqc/Icons/\n",
      "   creating: zr2096_7_s1_R2_val_2_fastqc/Images/\n",
      "  inflating: zr2096_7_s1_R2_val_2_fastqc/Icons/fastqc_icon.png  \n",
      "  inflating: zr2096_7_s1_R2_val_2_fastqc/Icons/warning.png  \n",
      "  inflating: zr2096_7_s1_R2_val_2_fastqc/Icons/error.png  \n",
      "  inflating: zr2096_7_s1_R2_val_2_fastqc/Icons/tick.png  \n",
      "  inflating: zr2096_7_s1_R2_val_2_fastqc/summary.txt  \n",
      "  inflating: zr2096_7_s1_R2_val_2_fastqc/Images/per_base_quality.png  \n",
      "  inflating: zr2096_7_s1_R2_val_2_fastqc/Images/per_tile_quality.png  \n",
      "  inflating: zr2096_7_s1_R2_val_2_fastqc/Images/per_sequence_quality.png  \n",
      "  inflating: zr2096_7_s1_R2_val_2_fastqc/Images/per_base_sequence_content.png  \n",
      "  inflating: zr2096_7_s1_R2_val_2_fastqc/Images/per_sequence_gc_content.png  \n",
      "  inflating: zr2096_7_s1_R2_val_2_fastqc/Images/per_base_n_content.png  \n",
      "  inflating: zr2096_7_s1_R2_val_2_fastqc/Images/sequence_length_distribution.png  \n",
      "  inflating: zr2096_7_s1_R2_val_2_fastqc/Images/duplication_levels.png  \n",
      "  inflating: zr2096_7_s1_R2_val_2_fastqc/Images/adapter_content.png  \n",
      "  inflating: zr2096_7_s1_R2_val_2_fastqc/fastqc_report.html  \n",
      "  inflating: zr2096_7_s1_R2_val_2_fastqc/fastqc_data.txt  \n",
      "  inflating: zr2096_7_s1_R2_val_2_fastqc/fastqc.fo  \n",
      "Archive:  zr2096_8_s1_R1_val_1_fastqc.zip\n",
      "   creating: zr2096_8_s1_R1_val_1_fastqc/\n",
      "   creating: zr2096_8_s1_R1_val_1_fastqc/Icons/\n",
      "   creating: zr2096_8_s1_R1_val_1_fastqc/Images/\n",
      "  inflating: zr2096_8_s1_R1_val_1_fastqc/Icons/fastqc_icon.png  \n",
      "  inflating: zr2096_8_s1_R1_val_1_fastqc/Icons/warning.png  \n",
      "  inflating: zr2096_8_s1_R1_val_1_fastqc/Icons/error.png  \n",
      "  inflating: zr2096_8_s1_R1_val_1_fastqc/Icons/tick.png  \n",
      "  inflating: zr2096_8_s1_R1_val_1_fastqc/summary.txt  \n",
      "  inflating: zr2096_8_s1_R1_val_1_fastqc/Images/per_base_quality.png  \n",
      "  inflating: zr2096_8_s1_R1_val_1_fastqc/Images/per_tile_quality.png  \n",
      "  inflating: zr2096_8_s1_R1_val_1_fastqc/Images/per_sequence_quality.png  \n",
      "  inflating: zr2096_8_s1_R1_val_1_fastqc/Images/per_base_sequence_content.png  \n",
      "  inflating: zr2096_8_s1_R1_val_1_fastqc/Images/per_sequence_gc_content.png  \n",
      "  inflating: zr2096_8_s1_R1_val_1_fastqc/Images/per_base_n_content.png  \n",
      "  inflating: zr2096_8_s1_R1_val_1_fastqc/Images/sequence_length_distribution.png  \n",
      "  inflating: zr2096_8_s1_R1_val_1_fastqc/Images/duplication_levels.png  \n",
      "  inflating: zr2096_8_s1_R1_val_1_fastqc/Images/adapter_content.png  \n",
      "  inflating: zr2096_8_s1_R1_val_1_fastqc/fastqc_report.html  \n",
      "  inflating: zr2096_8_s1_R1_val_1_fastqc/fastqc_data.txt  \n",
      "  inflating: zr2096_8_s1_R1_val_1_fastqc/fastqc.fo  \n",
      "Archive:  zr2096_8_s1_R2_val_2_fastqc.zip\n",
      "   creating: zr2096_8_s1_R2_val_2_fastqc/\n",
      "   creating: zr2096_8_s1_R2_val_2_fastqc/Icons/\n",
      "   creating: zr2096_8_s1_R2_val_2_fastqc/Images/\n",
      "  inflating: zr2096_8_s1_R2_val_2_fastqc/Icons/fastqc_icon.png  \n",
      "  inflating: zr2096_8_s1_R2_val_2_fastqc/Icons/warning.png  \n",
      "  inflating: zr2096_8_s1_R2_val_2_fastqc/Icons/error.png  \n",
      "  inflating: zr2096_8_s1_R2_val_2_fastqc/Icons/tick.png  \n",
      "  inflating: zr2096_8_s1_R2_val_2_fastqc/summary.txt  \n",
      "  inflating: zr2096_8_s1_R2_val_2_fastqc/Images/per_base_quality.png  \n",
      "  inflating: zr2096_8_s1_R2_val_2_fastqc/Images/per_tile_quality.png  \n",
      "  inflating: zr2096_8_s1_R2_val_2_fastqc/Images/per_sequence_quality.png  \n",
      "  inflating: zr2096_8_s1_R2_val_2_fastqc/Images/per_base_sequence_content.png  \n",
      "  inflating: zr2096_8_s1_R2_val_2_fastqc/Images/per_sequence_gc_content.png  \n",
      "  inflating: zr2096_8_s1_R2_val_2_fastqc/Images/per_base_n_content.png  \n",
      "  inflating: zr2096_8_s1_R2_val_2_fastqc/Images/sequence_length_distribution.png  \n",
      "  inflating: zr2096_8_s1_R2_val_2_fastqc/Images/duplication_levels.png  \n",
      "  inflating: zr2096_8_s1_R2_val_2_fastqc/Images/adapter_content.png  \n",
      "  inflating: zr2096_8_s1_R2_val_2_fastqc/fastqc_report.html  \n",
      "  inflating: zr2096_8_s1_R2_val_2_fastqc/fastqc_data.txt  \n",
      "  inflating: zr2096_8_s1_R2_val_2_fastqc/fastqc.fo  \n",
      "Archive:  zr2096_9_s1_R1_val_1_fastqc.zip\n",
      "   creating: zr2096_9_s1_R1_val_1_fastqc/\n",
      "   creating: zr2096_9_s1_R1_val_1_fastqc/Icons/\n",
      "   creating: zr2096_9_s1_R1_val_1_fastqc/Images/\n",
      "  inflating: zr2096_9_s1_R1_val_1_fastqc/Icons/fastqc_icon.png  \n",
      "  inflating: zr2096_9_s1_R1_val_1_fastqc/Icons/warning.png  \n",
      "  inflating: zr2096_9_s1_R1_val_1_fastqc/Icons/error.png  \n",
      "  inflating: zr2096_9_s1_R1_val_1_fastqc/Icons/tick.png  \n",
      "  inflating: zr2096_9_s1_R1_val_1_fastqc/summary.txt  \n",
      "  inflating: zr2096_9_s1_R1_val_1_fastqc/Images/per_base_quality.png  \n",
      "  inflating: zr2096_9_s1_R1_val_1_fastqc/Images/per_tile_quality.png  \n",
      "  inflating: zr2096_9_s1_R1_val_1_fastqc/Images/per_sequence_quality.png  \n",
      "  inflating: zr2096_9_s1_R1_val_1_fastqc/Images/per_base_sequence_content.png  \n",
      "  inflating: zr2096_9_s1_R1_val_1_fastqc/Images/per_sequence_gc_content.png  \n",
      "  inflating: zr2096_9_s1_R1_val_1_fastqc/Images/per_base_n_content.png  \n",
      "  inflating: zr2096_9_s1_R1_val_1_fastqc/Images/sequence_length_distribution.png  \n",
      "  inflating: zr2096_9_s1_R1_val_1_fastqc/Images/duplication_levels.png  \n",
      "  inflating: zr2096_9_s1_R1_val_1_fastqc/Images/adapter_content.png  \n",
      "  inflating: zr2096_9_s1_R1_val_1_fastqc/fastqc_report.html  \n",
      "  inflating: zr2096_9_s1_R1_val_1_fastqc/fastqc_data.txt  \n",
      "  inflating: zr2096_9_s1_R1_val_1_fastqc/fastqc.fo  \n",
      "Archive:  zr2096_9_s1_R2_val_2_fastqc.zip\n",
      "   creating: zr2096_9_s1_R2_val_2_fastqc/\n",
      "   creating: zr2096_9_s1_R2_val_2_fastqc/Icons/\n",
      "   creating: zr2096_9_s1_R2_val_2_fastqc/Images/\n",
      "  inflating: zr2096_9_s1_R2_val_2_fastqc/Icons/fastqc_icon.png  \n",
      "  inflating: zr2096_9_s1_R2_val_2_fastqc/Icons/warning.png  \n",
      "  inflating: zr2096_9_s1_R2_val_2_fastqc/Icons/error.png  \n",
      "  inflating: zr2096_9_s1_R2_val_2_fastqc/Icons/tick.png  \n",
      "  inflating: zr2096_9_s1_R2_val_2_fastqc/summary.txt  \n",
      "  inflating: zr2096_9_s1_R2_val_2_fastqc/Images/per_base_quality.png  \n",
      "  inflating: zr2096_9_s1_R2_val_2_fastqc/Images/per_tile_quality.png  \n",
      "  inflating: zr2096_9_s1_R2_val_2_fastqc/Images/per_sequence_quality.png  \n",
      "  inflating: zr2096_9_s1_R2_val_2_fastqc/Images/per_base_sequence_content.png  \n",
      "  inflating: zr2096_9_s1_R2_val_2_fastqc/Images/per_sequence_gc_content.png  \n",
      "  inflating: zr2096_9_s1_R2_val_2_fastqc/Images/per_base_n_content.png  \n",
      "  inflating: zr2096_9_s1_R2_val_2_fastqc/Images/sequence_length_distribution.png  \n",
      "  inflating: zr2096_9_s1_R2_val_2_fastqc/Images/duplication_levels.png  \n",
      "  inflating: zr2096_9_s1_R2_val_2_fastqc/Images/adapter_content.png  \n",
      "  inflating: zr2096_9_s1_R2_val_2_fastqc/fastqc_report.html  \n",
      "  inflating: zr2096_9_s1_R2_val_2_fastqc/fastqc_data.txt  \n",
      "  inflating: zr2096_9_s1_R2_val_2_fastqc/fastqc.fo  \n"
     ]
    }
   ],
   "source": [
    "%%bash\n",
    "for f in *zip\n",
    "do\n",
    "    unzip ${f}\n",
    "done"
   ]
  },
  {
   "cell_type": "code",
   "execution_count": 36,
   "metadata": {
    "collapsed": false
   },
   "outputs": [
    {
     "name": "stdout",
     "output_type": "stream",
     "text": [
      "\u001b[34mzr2096_10_s1_R1_val_1_fastqc\u001b[m\u001b[m     \u001b[34mzr2096_5_s1_R1_val_1_fastqc\u001b[m\u001b[m\r\n",
      "zr2096_10_s1_R1_val_1_fastqc.zip zr2096_5_s1_R1_val_1_fastqc.zip\r\n",
      "\u001b[34mzr2096_10_s1_R2_val_2_fastqc\u001b[m\u001b[m     \u001b[34mzr2096_5_s1_R2_val_2_fastqc\u001b[m\u001b[m\r\n",
      "zr2096_10_s1_R2_val_2_fastqc.zip zr2096_5_s1_R2_val_2_fastqc.zip\r\n",
      "\u001b[34mzr2096_1_s1_R1_val_1_fastqc\u001b[m\u001b[m      \u001b[34mzr2096_6_s1_R1_val_1_fastqc\u001b[m\u001b[m\r\n",
      "zr2096_1_s1_R1_val_1_fastqc.zip  zr2096_6_s1_R1_val_1_fastqc.zip\r\n",
      "\u001b[34mzr2096_1_s1_R2_val_2_fastqc\u001b[m\u001b[m      \u001b[34mzr2096_6_s1_R2_val_2_fastqc\u001b[m\u001b[m\r\n",
      "zr2096_1_s1_R2_val_2_fastqc.zip  zr2096_6_s1_R2_val_2_fastqc.zip\r\n",
      "\u001b[34mzr2096_2_s1_R1_val_1_fastqc\u001b[m\u001b[m      \u001b[34mzr2096_7_s1_R1_val_1_fastqc\u001b[m\u001b[m\r\n",
      "zr2096_2_s1_R1_val_1_fastqc.zip  zr2096_7_s1_R1_val_1_fastqc.zip\r\n",
      "\u001b[34mzr2096_2_s1_R2_val_2_fastqc\u001b[m\u001b[m      \u001b[34mzr2096_7_s1_R2_val_2_fastqc\u001b[m\u001b[m\r\n",
      "zr2096_2_s1_R2_val_2_fastqc.zip  zr2096_7_s1_R2_val_2_fastqc.zip\r\n",
      "\u001b[34mzr2096_3_s1_R1_val_1_fastqc\u001b[m\u001b[m      \u001b[34mzr2096_8_s1_R1_val_1_fastqc\u001b[m\u001b[m\r\n",
      "zr2096_3_s1_R1_val_1_fastqc.zip  zr2096_8_s1_R1_val_1_fastqc.zip\r\n",
      "\u001b[34mzr2096_3_s1_R2_val_2_fastqc\u001b[m\u001b[m      \u001b[34mzr2096_8_s1_R2_val_2_fastqc\u001b[m\u001b[m\r\n",
      "zr2096_3_s1_R2_val_2_fastqc.zip  zr2096_8_s1_R2_val_2_fastqc.zip\r\n",
      "\u001b[34mzr2096_4_s1_R1_val_1_fastqc\u001b[m\u001b[m      \u001b[34mzr2096_9_s1_R1_val_1_fastqc\u001b[m\u001b[m\r\n",
      "zr2096_4_s1_R1_val_1_fastqc.zip  zr2096_9_s1_R1_val_1_fastqc.zip\r\n",
      "\u001b[34mzr2096_4_s1_R2_val_2_fastqc\u001b[m\u001b[m      \u001b[34mzr2096_9_s1_R2_val_2_fastqc\u001b[m\u001b[m\r\n",
      "zr2096_4_s1_R2_val_2_fastqc.zip  zr2096_9_s1_R2_val_2_fastqc.zip\r\n"
     ]
    }
   ],
   "source": [
    "#Confirm files were unzipped\n",
    "!ls"
   ]
  },
  {
   "cell_type": "markdown",
   "metadata": {},
   "source": [
    "Now, I'll use `grep` to identify  \"Total Sequences\" within each sample file. Using `>>`, I can concatenate the results each time the loop runs, then save the entire output in a new file."
   ]
  },
  {
   "cell_type": "code",
   "execution_count": 49,
   "metadata": {
    "collapsed": false
   },
   "outputs": [],
   "source": [
    "%%bash\n",
    "for f in *fastqc\n",
    "do\n",
    "    grep \"Total Sequences *\" ${f}/fastqc_data.txt \\\n",
    "    >> 2019-03-17-Trimmed-Read-Counts.txt\n",
    "done"
   ]
  },
  {
   "cell_type": "code",
   "execution_count": 51,
   "metadata": {
    "collapsed": false
   },
   "outputs": [
    {
     "name": "stdout",
     "output_type": "stream",
     "text": [
      "Total Sequences\t17448883\r\n",
      "Total Sequences\t17448883\r\n",
      "Total Sequences\t28603346\r\n",
      "Total Sequences\t28603346\r\n",
      "Total Sequences\t30325606\r\n",
      "Total Sequences\t30325606\r\n",
      "Total Sequences\t29548753\r\n",
      "Total Sequences\t29548753\r\n",
      "Total Sequences\t23970516\r\n",
      "Total Sequences\t23970516\r\n"
     ]
    }
   ],
   "source": [
    "#Confirm total sequences were counted. The first 2 lines correspond to sample 10.\n",
    "!head 2019-03-17-Trimmed-Read-Counts.txt"
   ]
  },
  {
   "cell_type": "code",
   "execution_count": 59,
   "metadata": {
    "collapsed": false
   },
   "outputs": [
    {
     "name": "stdout",
     "output_type": "stream",
     "text": [
      "275914272\r\n"
     ]
    }
   ],
   "source": [
    "#Sum the contents of the second column ($2), then divide by 2 to obtain the total number of paired-end reads.\n",
    "!cat 2019-03-17-Trimmed-Read-Counts.txt | awk -F\"\\t\" '{ sum+=$2 / 2} END {print sum}'"
   ]
  },
  {
   "cell_type": "markdown",
   "metadata": {},
   "source": [
    "## 2. Untrimmed files"
   ]
  },
  {
   "cell_type": "markdown",
   "metadata": {},
   "source": [
    "### 2a. Download files"
   ]
  },
  {
   "cell_type": "code",
   "execution_count": null,
   "metadata": {
    "collapsed": true
   },
   "outputs": [],
   "source": [
    "#Download files from owl. The files will be downloaded in the same directory structure they are in online.\n",
    "!wget -r -l1 --no-parent -A_s1_R1_val_1.fq.gz _s1_R2_val_2.fq.gz \\\n",
    "http://owl.fish.washington.edu/Athaliana/20180411_trimgalore_10bp_Cvirginica_MBD/20180411_fastqc_trim_10bp_Cvirginica_MBD/"
   ]
  },
  {
   "cell_type": "code",
   "execution_count": null,
   "metadata": {
    "collapsed": true
   },
   "outputs": [],
   "source": [
    "#Move all files from owl folder to the current directory\n",
    "!mv owl.fish.washington.edu/Athaliana/20180411_trimgalore_10bp_Cvirginica_MBD/* ."
   ]
  },
  {
   "cell_type": "code",
   "execution_count": null,
   "metadata": {
    "collapsed": true
   },
   "outputs": [],
   "source": [
    "#Confirm all files were moved\n",
    "!ls"
   ]
  },
  {
   "cell_type": "code",
   "execution_count": null,
   "metadata": {
    "collapsed": true
   },
   "outputs": [],
   "source": [
    "#Remove the empty owl directory\n",
    "!rm -r owl.fish.washington.edu"
   ]
  },
  {
   "cell_type": "markdown",
   "metadata": {},
   "source": [
    "### 2b. Count reads"
   ]
  },
  {
   "cell_type": "code",
   "execution_count": null,
   "metadata": {
    "collapsed": true
   },
   "outputs": [],
   "source": []
  }
 ],
 "metadata": {
  "anaconda-cloud": {},
  "kernelspec": {
   "display_name": "Python [default]",
   "language": "python",
   "name": "python3"
  },
  "language_info": {
   "codemirror_mode": {
    "name": "ipython",
    "version": 3
   },
   "file_extension": ".py",
   "mimetype": "text/x-python",
   "name": "python",
   "nbconvert_exporter": "python",
   "pygments_lexer": "ipython3",
   "version": "3.5.2"
  }
 },
 "nbformat": 4,
 "nbformat_minor": 1
}
